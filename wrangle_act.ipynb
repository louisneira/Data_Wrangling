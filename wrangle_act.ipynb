{
 "cells": [
  {
   "cell_type": "code",
   "execution_count": 15,
   "metadata": {},
   "outputs": [],
   "source": [
    "#imports\n",
    "import pandas as pd\n",
    "import numpy as np\n",
    "import tweepy\n",
    "import json\n",
    "import requests\n",
    "import os\n",
    "import matplotlib.pyplot as plt\n",
    "\n",
    "%matplotlib inline"
   ]
  },
  {
   "cell_type": "code",
   "execution_count": 16,
   "metadata": {},
   "outputs": [
    {
     "name": "stdout",
     "output_type": "stream",
     "text": [
      "Authentication successful\n"
     ]
    }
   ],
   "source": [
    "# Twitter authentication\n",
    "# Replace args in tweepy.OAuthHandler() and set_access_token with your own \n",
    "# access credentials/tokens\n",
    "auth = tweepy.OAuthHandler(\"arg1\", \"arg2\")\n",
    "auth.set_access_token(\"arg3\",\"arg4\")\n",
    "api = tweepy.API(auth)\n",
    "\n",
    "# verify authentication\n",
    "try:\n",
    "    api.verify_credentials()\n",
    "    print(\"Authentication successful\")\n",
    "except:\n",
    "    print(\"Authentication failed\")"
   ]
  },
  {
   "cell_type": "markdown",
   "metadata": {},
   "source": [
    "# Part 1 - Gathering Data"
   ]
  },
  {
   "cell_type": "markdown",
   "metadata": {},
   "source": [
    "## A. Using Internally Stored Data"
   ]
  },
  {
   "cell_type": "markdown",
   "metadata": {},
   "source": [
    "The first set of data to gather is a .csv file that is provided as an internal file. Before running any code, this file is stored in our notebook's directory. For this project, all data will be stored in a subfolder of this directory called 'data.' \n",
    "\n",
    "Since the data is provided already, there is no need to obtain it. It will be directly read into a Pandas DataFrame using Pandas.read_csv()."
   ]
  },
  {
   "cell_type": "code",
   "execution_count": 17,
   "metadata": {},
   "outputs": [],
   "source": [
    "tweet_df = pd.read_csv('twitter-archive-enhanced.csv')"
   ]
  },
  {
   "cell_type": "code",
   "execution_count": 18,
   "metadata": {},
   "outputs": [
    {
     "data": {
      "text/html": [
       "<div>\n",
       "<style scoped>\n",
       "    .dataframe tbody tr th:only-of-type {\n",
       "        vertical-align: middle;\n",
       "    }\n",
       "\n",
       "    .dataframe tbody tr th {\n",
       "        vertical-align: top;\n",
       "    }\n",
       "\n",
       "    .dataframe thead th {\n",
       "        text-align: right;\n",
       "    }\n",
       "</style>\n",
       "<table border=\"1\" class=\"dataframe\">\n",
       "  <thead>\n",
       "    <tr style=\"text-align: right;\">\n",
       "      <th></th>\n",
       "      <th>tweet_id</th>\n",
       "      <th>in_reply_to_status_id</th>\n",
       "      <th>in_reply_to_user_id</th>\n",
       "      <th>timestamp</th>\n",
       "      <th>source</th>\n",
       "      <th>text</th>\n",
       "      <th>retweeted_status_id</th>\n",
       "      <th>retweeted_status_user_id</th>\n",
       "      <th>retweeted_status_timestamp</th>\n",
       "      <th>expanded_urls</th>\n",
       "      <th>rating_numerator</th>\n",
       "      <th>rating_denominator</th>\n",
       "      <th>name</th>\n",
       "      <th>doggo</th>\n",
       "      <th>floofer</th>\n",
       "      <th>pupper</th>\n",
       "      <th>puppo</th>\n",
       "    </tr>\n",
       "  </thead>\n",
       "  <tbody>\n",
       "    <tr>\n",
       "      <th>0</th>\n",
       "      <td>892420643555336193</td>\n",
       "      <td>NaN</td>\n",
       "      <td>NaN</td>\n",
       "      <td>2017-08-01 16:23:56 +0000</td>\n",
       "      <td>&lt;a href=\"http://twitter.com/download/iphone\" r...</td>\n",
       "      <td>This is Phineas. He's a mystical boy. Only eve...</td>\n",
       "      <td>NaN</td>\n",
       "      <td>NaN</td>\n",
       "      <td>NaN</td>\n",
       "      <td>https://twitter.com/dog_rates/status/892420643...</td>\n",
       "      <td>13</td>\n",
       "      <td>10</td>\n",
       "      <td>Phineas</td>\n",
       "      <td>None</td>\n",
       "      <td>None</td>\n",
       "      <td>None</td>\n",
       "      <td>None</td>\n",
       "    </tr>\n",
       "    <tr>\n",
       "      <th>1</th>\n",
       "      <td>892177421306343426</td>\n",
       "      <td>NaN</td>\n",
       "      <td>NaN</td>\n",
       "      <td>2017-08-01 00:17:27 +0000</td>\n",
       "      <td>&lt;a href=\"http://twitter.com/download/iphone\" r...</td>\n",
       "      <td>This is Tilly. She's just checking pup on you....</td>\n",
       "      <td>NaN</td>\n",
       "      <td>NaN</td>\n",
       "      <td>NaN</td>\n",
       "      <td>https://twitter.com/dog_rates/status/892177421...</td>\n",
       "      <td>13</td>\n",
       "      <td>10</td>\n",
       "      <td>Tilly</td>\n",
       "      <td>None</td>\n",
       "      <td>None</td>\n",
       "      <td>None</td>\n",
       "      <td>None</td>\n",
       "    </tr>\n",
       "    <tr>\n",
       "      <th>2</th>\n",
       "      <td>891815181378084864</td>\n",
       "      <td>NaN</td>\n",
       "      <td>NaN</td>\n",
       "      <td>2017-07-31 00:18:03 +0000</td>\n",
       "      <td>&lt;a href=\"http://twitter.com/download/iphone\" r...</td>\n",
       "      <td>This is Archie. He is a rare Norwegian Pouncin...</td>\n",
       "      <td>NaN</td>\n",
       "      <td>NaN</td>\n",
       "      <td>NaN</td>\n",
       "      <td>https://twitter.com/dog_rates/status/891815181...</td>\n",
       "      <td>12</td>\n",
       "      <td>10</td>\n",
       "      <td>Archie</td>\n",
       "      <td>None</td>\n",
       "      <td>None</td>\n",
       "      <td>None</td>\n",
       "      <td>None</td>\n",
       "    </tr>\n",
       "    <tr>\n",
       "      <th>3</th>\n",
       "      <td>891689557279858688</td>\n",
       "      <td>NaN</td>\n",
       "      <td>NaN</td>\n",
       "      <td>2017-07-30 15:58:51 +0000</td>\n",
       "      <td>&lt;a href=\"http://twitter.com/download/iphone\" r...</td>\n",
       "      <td>This is Darla. She commenced a snooze mid meal...</td>\n",
       "      <td>NaN</td>\n",
       "      <td>NaN</td>\n",
       "      <td>NaN</td>\n",
       "      <td>https://twitter.com/dog_rates/status/891689557...</td>\n",
       "      <td>13</td>\n",
       "      <td>10</td>\n",
       "      <td>Darla</td>\n",
       "      <td>None</td>\n",
       "      <td>None</td>\n",
       "      <td>None</td>\n",
       "      <td>None</td>\n",
       "    </tr>\n",
       "    <tr>\n",
       "      <th>4</th>\n",
       "      <td>891327558926688256</td>\n",
       "      <td>NaN</td>\n",
       "      <td>NaN</td>\n",
       "      <td>2017-07-29 16:00:24 +0000</td>\n",
       "      <td>&lt;a href=\"http://twitter.com/download/iphone\" r...</td>\n",
       "      <td>This is Franklin. He would like you to stop ca...</td>\n",
       "      <td>NaN</td>\n",
       "      <td>NaN</td>\n",
       "      <td>NaN</td>\n",
       "      <td>https://twitter.com/dog_rates/status/891327558...</td>\n",
       "      <td>12</td>\n",
       "      <td>10</td>\n",
       "      <td>Franklin</td>\n",
       "      <td>None</td>\n",
       "      <td>None</td>\n",
       "      <td>None</td>\n",
       "      <td>None</td>\n",
       "    </tr>\n",
       "  </tbody>\n",
       "</table>\n",
       "</div>"
      ],
      "text/plain": [
       "             tweet_id  in_reply_to_status_id  in_reply_to_user_id  \\\n",
       "0  892420643555336193                    NaN                  NaN   \n",
       "1  892177421306343426                    NaN                  NaN   \n",
       "2  891815181378084864                    NaN                  NaN   \n",
       "3  891689557279858688                    NaN                  NaN   \n",
       "4  891327558926688256                    NaN                  NaN   \n",
       "\n",
       "                   timestamp  \\\n",
       "0  2017-08-01 16:23:56 +0000   \n",
       "1  2017-08-01 00:17:27 +0000   \n",
       "2  2017-07-31 00:18:03 +0000   \n",
       "3  2017-07-30 15:58:51 +0000   \n",
       "4  2017-07-29 16:00:24 +0000   \n",
       "\n",
       "                                              source  \\\n",
       "0  <a href=\"http://twitter.com/download/iphone\" r...   \n",
       "1  <a href=\"http://twitter.com/download/iphone\" r...   \n",
       "2  <a href=\"http://twitter.com/download/iphone\" r...   \n",
       "3  <a href=\"http://twitter.com/download/iphone\" r...   \n",
       "4  <a href=\"http://twitter.com/download/iphone\" r...   \n",
       "\n",
       "                                                text  retweeted_status_id  \\\n",
       "0  This is Phineas. He's a mystical boy. Only eve...                  NaN   \n",
       "1  This is Tilly. She's just checking pup on you....                  NaN   \n",
       "2  This is Archie. He is a rare Norwegian Pouncin...                  NaN   \n",
       "3  This is Darla. She commenced a snooze mid meal...                  NaN   \n",
       "4  This is Franklin. He would like you to stop ca...                  NaN   \n",
       "\n",
       "   retweeted_status_user_id retweeted_status_timestamp  \\\n",
       "0                       NaN                        NaN   \n",
       "1                       NaN                        NaN   \n",
       "2                       NaN                        NaN   \n",
       "3                       NaN                        NaN   \n",
       "4                       NaN                        NaN   \n",
       "\n",
       "                                       expanded_urls  rating_numerator  \\\n",
       "0  https://twitter.com/dog_rates/status/892420643...                13   \n",
       "1  https://twitter.com/dog_rates/status/892177421...                13   \n",
       "2  https://twitter.com/dog_rates/status/891815181...                12   \n",
       "3  https://twitter.com/dog_rates/status/891689557...                13   \n",
       "4  https://twitter.com/dog_rates/status/891327558...                12   \n",
       "\n",
       "   rating_denominator      name doggo floofer pupper puppo  \n",
       "0                  10   Phineas  None    None   None  None  \n",
       "1                  10     Tilly  None    None   None  None  \n",
       "2                  10    Archie  None    None   None  None  \n",
       "3                  10     Darla  None    None   None  None  \n",
       "4                  10  Franklin  None    None   None  None  "
      ]
     },
     "execution_count": 18,
     "metadata": {},
     "output_type": "execute_result"
    }
   ],
   "source": [
    "tweet_df.head()"
   ]
  },
  {
   "cell_type": "markdown",
   "metadata": {},
   "source": [
    "## B. Downloading Data"
   ]
  },
  {
   "cell_type": "markdown",
   "metadata": {},
   "source": [
    "The second set of data to gather is a csv file stored on a server that must be downloaded. The URL for the file location has been given, so the Python requests library can be used to download the file.  "
   ]
  },
  {
   "cell_type": "code",
   "execution_count": 19,
   "metadata": {},
   "outputs": [],
   "source": [
    "url = 'https://d17h27t6h515a5.cloudfront.net/topher/2017/August/599fd2ad_image-predictions/image-predictions.tsv'\n",
    "response = requests.get(url)"
   ]
  },
  {
   "cell_type": "code",
   "execution_count": 20,
   "metadata": {},
   "outputs": [
    {
     "data": {
      "text/plain": [
       "requests.models.Response"
      ]
     },
     "execution_count": 20,
     "metadata": {},
     "output_type": "execute_result"
    }
   ],
   "source": [
    "type(response)"
   ]
  },
  {
   "cell_type": "code",
   "execution_count": 21,
   "metadata": {},
   "outputs": [],
   "source": [
    "#Opens a file, name it the same as our download file by splitting the file name\n",
    "# with str.split() using the forward slash to split the URL and keeping the\n",
    "# last part of the string\n",
    "with open(url.split(\"/\")[-1], mode='wb') as file:\n",
    "    file.write(response.content)"
   ]
  },
  {
   "cell_type": "code",
   "execution_count": 22,
   "metadata": {},
   "outputs": [],
   "source": [
    "image_df = pd.read_csv('image-predictions.tsv', sep='\\t')"
   ]
  },
  {
   "cell_type": "code",
   "execution_count": 23,
   "metadata": {},
   "outputs": [
    {
     "data": {
      "text/html": [
       "<div>\n",
       "<style scoped>\n",
       "    .dataframe tbody tr th:only-of-type {\n",
       "        vertical-align: middle;\n",
       "    }\n",
       "\n",
       "    .dataframe tbody tr th {\n",
       "        vertical-align: top;\n",
       "    }\n",
       "\n",
       "    .dataframe thead th {\n",
       "        text-align: right;\n",
       "    }\n",
       "</style>\n",
       "<table border=\"1\" class=\"dataframe\">\n",
       "  <thead>\n",
       "    <tr style=\"text-align: right;\">\n",
       "      <th></th>\n",
       "      <th>tweet_id</th>\n",
       "      <th>jpg_url</th>\n",
       "      <th>img_num</th>\n",
       "      <th>p1</th>\n",
       "      <th>p1_conf</th>\n",
       "      <th>p1_dog</th>\n",
       "      <th>p2</th>\n",
       "      <th>p2_conf</th>\n",
       "      <th>p2_dog</th>\n",
       "      <th>p3</th>\n",
       "      <th>p3_conf</th>\n",
       "      <th>p3_dog</th>\n",
       "    </tr>\n",
       "  </thead>\n",
       "  <tbody>\n",
       "    <tr>\n",
       "      <th>0</th>\n",
       "      <td>666020888022790149</td>\n",
       "      <td>https://pbs.twimg.com/media/CT4udn0WwAA0aMy.jpg</td>\n",
       "      <td>1</td>\n",
       "      <td>Welsh_springer_spaniel</td>\n",
       "      <td>0.465074</td>\n",
       "      <td>True</td>\n",
       "      <td>collie</td>\n",
       "      <td>0.156665</td>\n",
       "      <td>True</td>\n",
       "      <td>Shetland_sheepdog</td>\n",
       "      <td>0.061428</td>\n",
       "      <td>True</td>\n",
       "    </tr>\n",
       "    <tr>\n",
       "      <th>1</th>\n",
       "      <td>666029285002620928</td>\n",
       "      <td>https://pbs.twimg.com/media/CT42GRgUYAA5iDo.jpg</td>\n",
       "      <td>1</td>\n",
       "      <td>redbone</td>\n",
       "      <td>0.506826</td>\n",
       "      <td>True</td>\n",
       "      <td>miniature_pinscher</td>\n",
       "      <td>0.074192</td>\n",
       "      <td>True</td>\n",
       "      <td>Rhodesian_ridgeback</td>\n",
       "      <td>0.072010</td>\n",
       "      <td>True</td>\n",
       "    </tr>\n",
       "    <tr>\n",
       "      <th>2</th>\n",
       "      <td>666033412701032449</td>\n",
       "      <td>https://pbs.twimg.com/media/CT4521TWwAEvMyu.jpg</td>\n",
       "      <td>1</td>\n",
       "      <td>German_shepherd</td>\n",
       "      <td>0.596461</td>\n",
       "      <td>True</td>\n",
       "      <td>malinois</td>\n",
       "      <td>0.138584</td>\n",
       "      <td>True</td>\n",
       "      <td>bloodhound</td>\n",
       "      <td>0.116197</td>\n",
       "      <td>True</td>\n",
       "    </tr>\n",
       "    <tr>\n",
       "      <th>3</th>\n",
       "      <td>666044226329800704</td>\n",
       "      <td>https://pbs.twimg.com/media/CT5Dr8HUEAA-lEu.jpg</td>\n",
       "      <td>1</td>\n",
       "      <td>Rhodesian_ridgeback</td>\n",
       "      <td>0.408143</td>\n",
       "      <td>True</td>\n",
       "      <td>redbone</td>\n",
       "      <td>0.360687</td>\n",
       "      <td>True</td>\n",
       "      <td>miniature_pinscher</td>\n",
       "      <td>0.222752</td>\n",
       "      <td>True</td>\n",
       "    </tr>\n",
       "    <tr>\n",
       "      <th>4</th>\n",
       "      <td>666049248165822465</td>\n",
       "      <td>https://pbs.twimg.com/media/CT5IQmsXIAAKY4A.jpg</td>\n",
       "      <td>1</td>\n",
       "      <td>miniature_pinscher</td>\n",
       "      <td>0.560311</td>\n",
       "      <td>True</td>\n",
       "      <td>Rottweiler</td>\n",
       "      <td>0.243682</td>\n",
       "      <td>True</td>\n",
       "      <td>Doberman</td>\n",
       "      <td>0.154629</td>\n",
       "      <td>True</td>\n",
       "    </tr>\n",
       "  </tbody>\n",
       "</table>\n",
       "</div>"
      ],
      "text/plain": [
       "             tweet_id                                          jpg_url  \\\n",
       "0  666020888022790149  https://pbs.twimg.com/media/CT4udn0WwAA0aMy.jpg   \n",
       "1  666029285002620928  https://pbs.twimg.com/media/CT42GRgUYAA5iDo.jpg   \n",
       "2  666033412701032449  https://pbs.twimg.com/media/CT4521TWwAEvMyu.jpg   \n",
       "3  666044226329800704  https://pbs.twimg.com/media/CT5Dr8HUEAA-lEu.jpg   \n",
       "4  666049248165822465  https://pbs.twimg.com/media/CT5IQmsXIAAKY4A.jpg   \n",
       "\n",
       "   img_num                      p1   p1_conf  p1_dog                  p2  \\\n",
       "0        1  Welsh_springer_spaniel  0.465074    True              collie   \n",
       "1        1                 redbone  0.506826    True  miniature_pinscher   \n",
       "2        1         German_shepherd  0.596461    True            malinois   \n",
       "3        1     Rhodesian_ridgeback  0.408143    True             redbone   \n",
       "4        1      miniature_pinscher  0.560311    True          Rottweiler   \n",
       "\n",
       "    p2_conf  p2_dog                   p3   p3_conf  p3_dog  \n",
       "0  0.156665    True    Shetland_sheepdog  0.061428    True  \n",
       "1  0.074192    True  Rhodesian_ridgeback  0.072010    True  \n",
       "2  0.138584    True           bloodhound  0.116197    True  \n",
       "3  0.360687    True   miniature_pinscher  0.222752    True  \n",
       "4  0.243682    True             Doberman  0.154629    True  "
      ]
     },
     "execution_count": 23,
     "metadata": {},
     "output_type": "execute_result"
    }
   ],
   "source": [
    "image_df.head()"
   ]
  },
  {
   "cell_type": "code",
   "execution_count": 24,
   "metadata": {},
   "outputs": [
    {
     "data": {
      "text/plain": [
       "10     2333\n",
       "11        3\n",
       "50        3\n",
       "80        2\n",
       "20        2\n",
       "2         1\n",
       "16        1\n",
       "40        1\n",
       "70        1\n",
       "15        1\n",
       "90        1\n",
       "110       1\n",
       "120       1\n",
       "130       1\n",
       "150       1\n",
       "170       1\n",
       "7         1\n",
       "0         1\n",
       "Name: rating_denominator, dtype: int64"
      ]
     },
     "execution_count": 24,
     "metadata": {},
     "output_type": "execute_result"
    }
   ],
   "source": [
    "tweet_df['rating_denominator'].value_counts()"
   ]
  },
  {
   "cell_type": "markdown",
   "metadata": {},
   "source": [
    "## C. Accessing Data through an API"
   ]
  },
  {
   "cell_type": "markdown",
   "metadata": {},
   "source": [
    "Data about tweets can be obtained through Twitter's Python API library, tweepy. The Tweepy.API library is used to access Twitter data directly. For this exercise, Tweepy.API.get_statuses() is used to obtain data using a tweet IDs, which are found in tweet_df, the Pandas DataFrame containing tweets."
   ]
  },
  {
   "cell_type": "markdown",
   "metadata": {},
   "source": [
    "The cells below retrieve one tweet through the Tweepy API call and examine its contents."
   ]
  },
  {
   "cell_type": "code",
   "execution_count": 25,
   "metadata": {},
   "outputs": [],
   "source": [
    "statuses = api.statuses_lookup([tweet_df['tweet_id'][0]])"
   ]
  },
  {
   "cell_type": "code",
   "execution_count": 26,
   "metadata": {},
   "outputs": [
    {
     "data": {
      "text/plain": [
       "(tweepy.models.ResultSet, 1)"
      ]
     },
     "execution_count": 26,
     "metadata": {},
     "output_type": "execute_result"
    }
   ],
   "source": [
    "type(statuses), len(statuses)"
   ]
  },
  {
   "cell_type": "code",
   "execution_count": 27,
   "metadata": {},
   "outputs": [
    {
     "data": {
      "text/plain": [
       "tweepy.models.Status"
      ]
     },
     "execution_count": 27,
     "metadata": {},
     "output_type": "execute_result"
    }
   ],
   "source": [
    "type(statuses[0])"
   ]
  },
  {
   "cell_type": "code",
   "execution_count": 28,
   "metadata": {},
   "outputs": [
    {
     "data": {
      "text/plain": [
       "{'created_at': 'Tue Aug 01 16:23:56 +0000 2017',\n",
       " 'id': 892420643555336193,\n",
       " 'id_str': '892420643555336193',\n",
       " 'text': \"This is Phineas. He's a mystical boy. Only ever appears in the hole of a donut. 13/10 https://t.co/MgUWQ76dJU\",\n",
       " 'truncated': False,\n",
       " 'entities': {'hashtags': [],\n",
       "  'symbols': [],\n",
       "  'user_mentions': [],\n",
       "  'urls': [],\n",
       "  'media': [{'id': 892420639486877696,\n",
       "    'id_str': '892420639486877696',\n",
       "    'indices': [86, 109],\n",
       "    'media_url': 'http://pbs.twimg.com/media/DGKD1-bXoAAIAUK.jpg',\n",
       "    'media_url_https': 'https://pbs.twimg.com/media/DGKD1-bXoAAIAUK.jpg',\n",
       "    'url': 'https://t.co/MgUWQ76dJU',\n",
       "    'display_url': 'pic.twitter.com/MgUWQ76dJU',\n",
       "    'expanded_url': 'https://twitter.com/dog_rates/status/892420643555336193/photo/1',\n",
       "    'type': 'photo',\n",
       "    'sizes': {'thumb': {'w': 150, 'h': 150, 'resize': 'crop'},\n",
       "     'medium': {'w': 540, 'h': 528, 'resize': 'fit'},\n",
       "     'small': {'w': 540, 'h': 528, 'resize': 'fit'},\n",
       "     'large': {'w': 540, 'h': 528, 'resize': 'fit'}}}]},\n",
       " 'extended_entities': {'media': [{'id': 892420639486877696,\n",
       "    'id_str': '892420639486877696',\n",
       "    'indices': [86, 109],\n",
       "    'media_url': 'http://pbs.twimg.com/media/DGKD1-bXoAAIAUK.jpg',\n",
       "    'media_url_https': 'https://pbs.twimg.com/media/DGKD1-bXoAAIAUK.jpg',\n",
       "    'url': 'https://t.co/MgUWQ76dJU',\n",
       "    'display_url': 'pic.twitter.com/MgUWQ76dJU',\n",
       "    'expanded_url': 'https://twitter.com/dog_rates/status/892420643555336193/photo/1',\n",
       "    'type': 'photo',\n",
       "    'sizes': {'thumb': {'w': 150, 'h': 150, 'resize': 'crop'},\n",
       "     'medium': {'w': 540, 'h': 528, 'resize': 'fit'},\n",
       "     'small': {'w': 540, 'h': 528, 'resize': 'fit'},\n",
       "     'large': {'w': 540, 'h': 528, 'resize': 'fit'}}}]},\n",
       " 'source': '<a href=\"http://twitter.com/download/iphone\" rel=\"nofollow\">Twitter for iPhone</a>',\n",
       " 'in_reply_to_status_id': None,\n",
       " 'in_reply_to_status_id_str': None,\n",
       " 'in_reply_to_user_id': None,\n",
       " 'in_reply_to_user_id_str': None,\n",
       " 'in_reply_to_screen_name': None,\n",
       " 'user': {'id': 4196983835,\n",
       "  'id_str': '4196983835',\n",
       "  'name': 'WeRateDogs®',\n",
       "  'screen_name': 'dog_rates',\n",
       "  'location': '「 DM YOUR DOGS 」',\n",
       "  'description': 'Your Only Source For Professional Dog Ratings Instagram and Facebook ➪ WeRateDogs partnerships@weratedogs.com ⠀⠀⠀⠀⠀⠀⠀⠀⠀⠀⠀⠀',\n",
       "  'url': 'https://t.co/N7sNNHSfPq',\n",
       "  'entities': {'url': {'urls': [{'url': 'https://t.co/N7sNNHSfPq',\n",
       "      'expanded_url': 'http://weratedogs.com',\n",
       "      'display_url': 'weratedogs.com',\n",
       "      'indices': [0, 23]}]},\n",
       "   'description': {'urls': []}},\n",
       "  'protected': False,\n",
       "  'followers_count': 8658239,\n",
       "  'friends_count': 15,\n",
       "  'listed_count': 6972,\n",
       "  'created_at': 'Sun Nov 15 21:41:29 +0000 2015',\n",
       "  'favourites_count': 144509,\n",
       "  'utc_offset': None,\n",
       "  'time_zone': None,\n",
       "  'geo_enabled': True,\n",
       "  'verified': True,\n",
       "  'statuses_count': 11558,\n",
       "  'lang': None,\n",
       "  'contributors_enabled': False,\n",
       "  'is_translator': False,\n",
       "  'is_translation_enabled': False,\n",
       "  'profile_background_color': '000000',\n",
       "  'profile_background_image_url': 'http://abs.twimg.com/images/themes/theme1/bg.png',\n",
       "  'profile_background_image_url_https': 'https://abs.twimg.com/images/themes/theme1/bg.png',\n",
       "  'profile_background_tile': False,\n",
       "  'profile_image_url': 'http://pbs.twimg.com/profile_images/1218319284557905920/ntuD-LOA_normal.jpg',\n",
       "  'profile_image_url_https': 'https://pbs.twimg.com/profile_images/1218319284557905920/ntuD-LOA_normal.jpg',\n",
       "  'profile_banner_url': 'https://pbs.twimg.com/profile_banners/4196983835/1575511391',\n",
       "  'profile_link_color': 'F5ABB5',\n",
       "  'profile_sidebar_border_color': '000000',\n",
       "  'profile_sidebar_fill_color': '000000',\n",
       "  'profile_text_color': '000000',\n",
       "  'profile_use_background_image': False,\n",
       "  'has_extended_profile': False,\n",
       "  'default_profile': False,\n",
       "  'default_profile_image': False,\n",
       "  'following': False,\n",
       "  'follow_request_sent': False,\n",
       "  'notifications': False,\n",
       "  'translator_type': 'none'},\n",
       " 'geo': None,\n",
       " 'coordinates': None,\n",
       " 'place': None,\n",
       " 'contributors': None,\n",
       " 'is_quote_status': False,\n",
       " 'retweet_count': 7802,\n",
       " 'favorite_count': 36625,\n",
       " 'favorited': False,\n",
       " 'retweeted': False,\n",
       " 'possibly_sensitive': False,\n",
       " 'lang': 'en'}"
      ]
     },
     "execution_count": 28,
     "metadata": {},
     "output_type": "execute_result"
    }
   ],
   "source": [
    "statuses[0]._json"
   ]
  },
  {
   "cell_type": "code",
   "execution_count": 29,
   "metadata": {},
   "outputs": [
    {
     "name": "stdout",
     "output_type": "stream",
     "text": [
      "created_at\n",
      "id\n",
      "id_str\n",
      "text\n",
      "truncated\n",
      "entities\n",
      "extended_entities\n",
      "source\n",
      "in_reply_to_status_id\n",
      "in_reply_to_status_id_str\n",
      "in_reply_to_user_id\n",
      "in_reply_to_user_id_str\n",
      "in_reply_to_screen_name\n",
      "user\n",
      "geo\n",
      "coordinates\n",
      "place\n",
      "contributors\n",
      "is_quote_status\n",
      "retweet_count\n",
      "favorite_count\n",
      "favorited\n",
      "retweeted\n",
      "possibly_sensitive\n",
      "lang\n"
     ]
    }
   ],
   "source": [
    "for key, val in statuses[0]._json.items():\n",
    "    print(key)"
   ]
  },
  {
   "cell_type": "markdown",
   "metadata": {},
   "source": [
    "The cell below is the actual API call to retrieve the tweet data."
   ]
  },
  {
   "cell_type": "code",
   "execution_count": 30,
   "metadata": {},
   "outputs": [],
   "source": [
    "# maximum requests set by Tweepy API for statuses_lookup()\n",
    "max_reqs = 100 \n",
    "\n",
    "# used to ensure that each sub-array (defined below) contains no more than\n",
    "# max_reqs elements\n",
    "factor = 1.25 \n",
    "\n",
    "# sub-arrays to store data returned from call to Tweepy API\n",
    "num_sub_arrays = len(tweet_df['tweet_id'])/(max_reqs / factor)\n",
    "statuses_list = []\n",
    "\n",
    "# call to Tweepy API statuses_lookup()\n",
    "# results stored in statuses_list\n",
    "for chunk in np.array_split(tweet_df['tweet_id'], num_sub_arrays):\n",
    "    statuses_list.append(api.statuses_lookup(chunk.tolist()))"
   ]
  },
  {
   "cell_type": "code",
   "execution_count": 31,
   "metadata": {},
   "outputs": [],
   "source": [
    "json_file_name = 'tweet_json.txt'\n",
    "data = []\n",
    "\n",
    "with open(json_file_name, 'w') as file:\n",
    "    for i in range(0, len(statuses_list)):\n",
    "        for j in range(0, len(statuses_list[i])):\n",
    "            data.append(statuses_list[i][j]._json)\n",
    "            \n",
    "    json.dump(data, file)"
   ]
  },
  {
   "cell_type": "code",
   "execution_count": 32,
   "metadata": {},
   "outputs": [],
   "source": [
    "with open(json_file_name, 'r') as file:\n",
    "    tweet_count_df = pd.read_json(file)"
   ]
  },
  {
   "cell_type": "markdown",
   "metadata": {},
   "source": [
    "Based on the previous cell examining the JSON contents of the returned tweet data, only favorite count and retweet count data appear of interest, so these columns will be kept for further analysis."
   ]
  },
  {
   "cell_type": "code",
   "execution_count": 33,
   "metadata": {},
   "outputs": [],
   "source": [
    "tweet_count_df = tweet_count_df[['id', 'favorite_count', 'retweet_count']]"
   ]
  },
  {
   "cell_type": "code",
   "execution_count": 34,
   "metadata": {},
   "outputs": [
    {
     "data": {
      "text/html": [
       "<div>\n",
       "<style scoped>\n",
       "    .dataframe tbody tr th:only-of-type {\n",
       "        vertical-align: middle;\n",
       "    }\n",
       "\n",
       "    .dataframe tbody tr th {\n",
       "        vertical-align: top;\n",
       "    }\n",
       "\n",
       "    .dataframe thead th {\n",
       "        text-align: right;\n",
       "    }\n",
       "</style>\n",
       "<table border=\"1\" class=\"dataframe\">\n",
       "  <thead>\n",
       "    <tr style=\"text-align: right;\">\n",
       "      <th></th>\n",
       "      <th>id</th>\n",
       "      <th>favorite_count</th>\n",
       "      <th>retweet_count</th>\n",
       "    </tr>\n",
       "  </thead>\n",
       "  <tbody>\n",
       "    <tr>\n",
       "      <th>0</th>\n",
       "      <td>886366144734445568</td>\n",
       "      <td>20045</td>\n",
       "      <td>2925</td>\n",
       "    </tr>\n",
       "    <tr>\n",
       "      <th>1</th>\n",
       "      <td>877611172832227328</td>\n",
       "      <td>0</td>\n",
       "      <td>74</td>\n",
       "    </tr>\n",
       "    <tr>\n",
       "      <th>2</th>\n",
       "      <td>888078434458587136</td>\n",
       "      <td>20650</td>\n",
       "      <td>3200</td>\n",
       "    </tr>\n",
       "    <tr>\n",
       "      <th>3</th>\n",
       "      <td>891689557279858688</td>\n",
       "      <td>39950</td>\n",
       "      <td>7969</td>\n",
       "    </tr>\n",
       "    <tr>\n",
       "      <th>4</th>\n",
       "      <td>879492040517615616</td>\n",
       "      <td>22268</td>\n",
       "      <td>2946</td>\n",
       "    </tr>\n",
       "  </tbody>\n",
       "</table>\n",
       "</div>"
      ],
      "text/plain": [
       "                   id  favorite_count  retweet_count\n",
       "0  886366144734445568           20045           2925\n",
       "1  877611172832227328               0             74\n",
       "2  888078434458587136           20650           3200\n",
       "3  891689557279858688           39950           7969\n",
       "4  879492040517615616           22268           2946"
      ]
     },
     "execution_count": 34,
     "metadata": {},
     "output_type": "execute_result"
    }
   ],
   "source": [
    "tweet_count_df.head()"
   ]
  },
  {
   "cell_type": "markdown",
   "metadata": {},
   "source": [
    "# 2. Assessing and Removing Invalid Data\n",
    "\n",
    "In this section, each data set is examined for cleanliness and tidiness issues. When issues are discovered, they are remedied. First, basic data issues will be addressed. "
   ]
  },
  {
   "cell_type": "markdown",
   "metadata": {},
   "source": [
    "Because cleaning the data involves altering the data, it is best to save a copy of the data and conduct cleaning operations of copied data."
   ]
  },
  {
   "cell_type": "code",
   "execution_count": 35,
   "metadata": {},
   "outputs": [],
   "source": [
    "tweet_df_clean = tweet_df.copy()\n",
    "image_df_clean = image_df.copy()\n",
    "tweet_count_df_clean = tweet_count_df.copy()"
   ]
  },
  {
   "cell_type": "code",
   "execution_count": 36,
   "metadata": {},
   "outputs": [
    {
     "data": {
      "text/plain": [
       "(2356, 2075, 2331)"
      ]
     },
     "execution_count": 36,
     "metadata": {},
     "output_type": "execute_result"
    }
   ],
   "source": [
    "len(tweet_df.index), len(image_df.index), len(tweet_count_df.index)"
   ]
  },
  {
   "cell_type": "markdown",
   "metadata": {},
   "source": [
    "## a. Tweet Data Validity"
   ]
  },
  {
   "cell_type": "markdown",
   "metadata": {},
   "source": [
    "### Retweets\n",
    "\n",
    "Since project specifications state that retweets should be dropped. The below code shows that 181 entries in the data set are retweets. These rows should be removed from the data set before any analysis occurs."
   ]
  },
  {
   "cell_type": "code",
   "execution_count": 37,
   "metadata": {},
   "outputs": [
    {
     "data": {
      "text/plain": [
       "181"
      ]
     },
     "execution_count": 37,
     "metadata": {},
     "output_type": "execute_result"
    }
   ],
   "source": [
    "len(tweet_df[tweet_df['retweeted_status_id'].notnull()])"
   ]
  },
  {
   "cell_type": "code",
   "execution_count": 38,
   "metadata": {},
   "outputs": [],
   "source": [
    "tweet_df_clean = tweet_df_clean[tweet_df_clean['retweeted_status_id'].isnull()]"
   ]
  },
  {
   "cell_type": "code",
   "execution_count": 39,
   "metadata": {},
   "outputs": [
    {
     "data": {
      "text/plain": [
       "(2356, 2175, 181)"
      ]
     },
     "execution_count": 39,
     "metadata": {},
     "output_type": "execute_result"
    }
   ],
   "source": [
    "len(tweet_df.index), len(tweet_df_clean.index), len(tweet_df.index) - len(tweet_df_clean.index)"
   ]
  },
  {
   "cell_type": "markdown",
   "metadata": {},
   "source": [
    "### Tweet replies - are they valid data?\n",
    "\n",
    "It is worth examining replies to see if replies are valid ratings. This will be done by examining all rows in the tweet_df_clean data frame that contain data in the 'in_reply_to_status_id' column.\n",
    "\n",
    "The actual contents of a representative reply tweet should also be examined to further investigate the validity of ratings in reply tweets."
   ]
  },
  {
   "cell_type": "code",
   "execution_count": 40,
   "metadata": {},
   "outputs": [
    {
     "data": {
      "text/html": [
       "<div>\n",
       "<style scoped>\n",
       "    .dataframe tbody tr th:only-of-type {\n",
       "        vertical-align: middle;\n",
       "    }\n",
       "\n",
       "    .dataframe tbody tr th {\n",
       "        vertical-align: top;\n",
       "    }\n",
       "\n",
       "    .dataframe thead th {\n",
       "        text-align: right;\n",
       "    }\n",
       "</style>\n",
       "<table border=\"1\" class=\"dataframe\">\n",
       "  <thead>\n",
       "    <tr style=\"text-align: right;\">\n",
       "      <th></th>\n",
       "      <th>tweet_id</th>\n",
       "      <th>in_reply_to_status_id</th>\n",
       "      <th>in_reply_to_user_id</th>\n",
       "      <th>timestamp</th>\n",
       "      <th>source</th>\n",
       "      <th>text</th>\n",
       "      <th>retweeted_status_id</th>\n",
       "      <th>retweeted_status_user_id</th>\n",
       "      <th>retweeted_status_timestamp</th>\n",
       "      <th>expanded_urls</th>\n",
       "      <th>rating_numerator</th>\n",
       "      <th>rating_denominator</th>\n",
       "      <th>name</th>\n",
       "      <th>doggo</th>\n",
       "      <th>floofer</th>\n",
       "      <th>pupper</th>\n",
       "      <th>puppo</th>\n",
       "    </tr>\n",
       "  </thead>\n",
       "  <tbody>\n",
       "    <tr>\n",
       "      <th>30</th>\n",
       "      <td>886267009285017600</td>\n",
       "      <td>8.862664e+17</td>\n",
       "      <td>2.281182e+09</td>\n",
       "      <td>2017-07-15 16:51:35 +0000</td>\n",
       "      <td>&lt;a href=\"http://twitter.com/download/iphone\" r...</td>\n",
       "      <td>@NonWhiteHat @MayhewMayhem omg hello tanner yo...</td>\n",
       "      <td>NaN</td>\n",
       "      <td>NaN</td>\n",
       "      <td>NaN</td>\n",
       "      <td>NaN</td>\n",
       "      <td>12</td>\n",
       "      <td>10</td>\n",
       "      <td>None</td>\n",
       "      <td>None</td>\n",
       "      <td>None</td>\n",
       "      <td>None</td>\n",
       "      <td>None</td>\n",
       "    </tr>\n",
       "    <tr>\n",
       "      <th>55</th>\n",
       "      <td>881633300179243008</td>\n",
       "      <td>8.816070e+17</td>\n",
       "      <td>4.738443e+07</td>\n",
       "      <td>2017-07-02 21:58:53 +0000</td>\n",
       "      <td>&lt;a href=\"http://twitter.com/download/iphone\" r...</td>\n",
       "      <td>@roushfenway These are good dogs but 17/10 is ...</td>\n",
       "      <td>NaN</td>\n",
       "      <td>NaN</td>\n",
       "      <td>NaN</td>\n",
       "      <td>NaN</td>\n",
       "      <td>17</td>\n",
       "      <td>10</td>\n",
       "      <td>None</td>\n",
       "      <td>None</td>\n",
       "      <td>None</td>\n",
       "      <td>None</td>\n",
       "      <td>None</td>\n",
       "    </tr>\n",
       "    <tr>\n",
       "      <th>64</th>\n",
       "      <td>879674319642796034</td>\n",
       "      <td>8.795538e+17</td>\n",
       "      <td>3.105441e+09</td>\n",
       "      <td>2017-06-27 12:14:36 +0000</td>\n",
       "      <td>&lt;a href=\"http://twitter.com/download/iphone\" r...</td>\n",
       "      <td>@RealKentMurphy 14/10 confirmed</td>\n",
       "      <td>NaN</td>\n",
       "      <td>NaN</td>\n",
       "      <td>NaN</td>\n",
       "      <td>NaN</td>\n",
       "      <td>14</td>\n",
       "      <td>10</td>\n",
       "      <td>None</td>\n",
       "      <td>None</td>\n",
       "      <td>None</td>\n",
       "      <td>None</td>\n",
       "      <td>None</td>\n",
       "    </tr>\n",
       "    <tr>\n",
       "      <th>113</th>\n",
       "      <td>870726314365509632</td>\n",
       "      <td>8.707262e+17</td>\n",
       "      <td>1.648776e+07</td>\n",
       "      <td>2017-06-02 19:38:25 +0000</td>\n",
       "      <td>&lt;a href=\"http://twitter.com/download/iphone\" r...</td>\n",
       "      <td>@ComplicitOwl @ShopWeRateDogs &amp;gt;10/10 is res...</td>\n",
       "      <td>NaN</td>\n",
       "      <td>NaN</td>\n",
       "      <td>NaN</td>\n",
       "      <td>NaN</td>\n",
       "      <td>10</td>\n",
       "      <td>10</td>\n",
       "      <td>None</td>\n",
       "      <td>None</td>\n",
       "      <td>None</td>\n",
       "      <td>None</td>\n",
       "      <td>None</td>\n",
       "    </tr>\n",
       "    <tr>\n",
       "      <th>148</th>\n",
       "      <td>863427515083354112</td>\n",
       "      <td>8.634256e+17</td>\n",
       "      <td>7.759620e+07</td>\n",
       "      <td>2017-05-13 16:15:35 +0000</td>\n",
       "      <td>&lt;a href=\"http://twitter.com/download/iphone\" r...</td>\n",
       "      <td>@Jack_Septic_Eye I'd need a few more pics to p...</td>\n",
       "      <td>NaN</td>\n",
       "      <td>NaN</td>\n",
       "      <td>NaN</td>\n",
       "      <td>NaN</td>\n",
       "      <td>12</td>\n",
       "      <td>10</td>\n",
       "      <td>None</td>\n",
       "      <td>None</td>\n",
       "      <td>None</td>\n",
       "      <td>None</td>\n",
       "      <td>None</td>\n",
       "    </tr>\n",
       "    <tr>\n",
       "      <th>149</th>\n",
       "      <td>863079547188785154</td>\n",
       "      <td>6.671522e+17</td>\n",
       "      <td>4.196984e+09</td>\n",
       "      <td>2017-05-12 17:12:53 +0000</td>\n",
       "      <td>&lt;a href=\"http://twitter.com/download/iphone\" r...</td>\n",
       "      <td>Ladies and gentlemen... I found Pipsy. He may ...</td>\n",
       "      <td>NaN</td>\n",
       "      <td>NaN</td>\n",
       "      <td>NaN</td>\n",
       "      <td>https://twitter.com/dog_rates/status/863079547...</td>\n",
       "      <td>14</td>\n",
       "      <td>10</td>\n",
       "      <td>None</td>\n",
       "      <td>None</td>\n",
       "      <td>None</td>\n",
       "      <td>None</td>\n",
       "      <td>None</td>\n",
       "    </tr>\n",
       "    <tr>\n",
       "      <th>179</th>\n",
       "      <td>857214891891077121</td>\n",
       "      <td>8.571567e+17</td>\n",
       "      <td>1.806710e+08</td>\n",
       "      <td>2017-04-26 12:48:51 +0000</td>\n",
       "      <td>&lt;a href=\"http://twitter.com/download/iphone\" r...</td>\n",
       "      <td>@Marc_IRL pixelated af 12/10</td>\n",
       "      <td>NaN</td>\n",
       "      <td>NaN</td>\n",
       "      <td>NaN</td>\n",
       "      <td>NaN</td>\n",
       "      <td>12</td>\n",
       "      <td>10</td>\n",
       "      <td>None</td>\n",
       "      <td>None</td>\n",
       "      <td>None</td>\n",
       "      <td>None</td>\n",
       "      <td>None</td>\n",
       "    </tr>\n",
       "    <tr>\n",
       "      <th>184</th>\n",
       "      <td>856526610513747968</td>\n",
       "      <td>8.558181e+17</td>\n",
       "      <td>4.196984e+09</td>\n",
       "      <td>2017-04-24 15:13:52 +0000</td>\n",
       "      <td>&lt;a href=\"http://twitter.com/download/iphone\" r...</td>\n",
       "      <td>THIS IS CHARLIE, MARK. HE DID JUST WANT TO SAY...</td>\n",
       "      <td>NaN</td>\n",
       "      <td>NaN</td>\n",
       "      <td>NaN</td>\n",
       "      <td>https://twitter.com/dog_rates/status/856526610...</td>\n",
       "      <td>14</td>\n",
       "      <td>10</td>\n",
       "      <td>None</td>\n",
       "      <td>None</td>\n",
       "      <td>None</td>\n",
       "      <td>None</td>\n",
       "      <td>None</td>\n",
       "    </tr>\n",
       "    <tr>\n",
       "      <th>186</th>\n",
       "      <td>856288084350160898</td>\n",
       "      <td>8.562860e+17</td>\n",
       "      <td>2.792810e+08</td>\n",
       "      <td>2017-04-23 23:26:03 +0000</td>\n",
       "      <td>&lt;a href=\"http://twitter.com/download/iphone\" r...</td>\n",
       "      <td>@xianmcguire @Jenna_Marbles Kardashians wouldn...</td>\n",
       "      <td>NaN</td>\n",
       "      <td>NaN</td>\n",
       "      <td>NaN</td>\n",
       "      <td>NaN</td>\n",
       "      <td>14</td>\n",
       "      <td>10</td>\n",
       "      <td>None</td>\n",
       "      <td>None</td>\n",
       "      <td>None</td>\n",
       "      <td>None</td>\n",
       "      <td>None</td>\n",
       "    </tr>\n",
       "    <tr>\n",
       "      <th>188</th>\n",
       "      <td>855862651834028034</td>\n",
       "      <td>8.558616e+17</td>\n",
       "      <td>1.943518e+08</td>\n",
       "      <td>2017-04-22 19:15:32 +0000</td>\n",
       "      <td>&lt;a href=\"http://twitter.com/download/iphone\" r...</td>\n",
       "      <td>@dhmontgomery We also gave snoop dogg a 420/10...</td>\n",
       "      <td>NaN</td>\n",
       "      <td>NaN</td>\n",
       "      <td>NaN</td>\n",
       "      <td>NaN</td>\n",
       "      <td>420</td>\n",
       "      <td>10</td>\n",
       "      <td>None</td>\n",
       "      <td>None</td>\n",
       "      <td>None</td>\n",
       "      <td>None</td>\n",
       "      <td>None</td>\n",
       "    </tr>\n",
       "    <tr>\n",
       "      <th>189</th>\n",
       "      <td>855860136149123072</td>\n",
       "      <td>8.558585e+17</td>\n",
       "      <td>1.361572e+07</td>\n",
       "      <td>2017-04-22 19:05:32 +0000</td>\n",
       "      <td>&lt;a href=\"http://twitter.com/download/iphone\" r...</td>\n",
       "      <td>@s8n You tried very hard to portray this good ...</td>\n",
       "      <td>NaN</td>\n",
       "      <td>NaN</td>\n",
       "      <td>NaN</td>\n",
       "      <td>NaN</td>\n",
       "      <td>666</td>\n",
       "      <td>10</td>\n",
       "      <td>None</td>\n",
       "      <td>None</td>\n",
       "      <td>None</td>\n",
       "      <td>None</td>\n",
       "      <td>None</td>\n",
       "    </tr>\n",
       "    <tr>\n",
       "      <th>218</th>\n",
       "      <td>850333567704068097</td>\n",
       "      <td>8.503288e+17</td>\n",
       "      <td>2.195506e+07</td>\n",
       "      <td>2017-04-07 13:04:55 +0000</td>\n",
       "      <td>&lt;a href=\"http://twitter.com/download/iphone\" r...</td>\n",
       "      <td>@markhoppus MARK THAT DOG HAS SEEN AND EXPERIE...</td>\n",
       "      <td>NaN</td>\n",
       "      <td>NaN</td>\n",
       "      <td>NaN</td>\n",
       "      <td>NaN</td>\n",
       "      <td>13</td>\n",
       "      <td>10</td>\n",
       "      <td>None</td>\n",
       "      <td>None</td>\n",
       "      <td>None</td>\n",
       "      <td>None</td>\n",
       "      <td>None</td>\n",
       "    </tr>\n",
       "    <tr>\n",
       "      <th>228</th>\n",
       "      <td>848213670039564288</td>\n",
       "      <td>8.482121e+17</td>\n",
       "      <td>4.196984e+09</td>\n",
       "      <td>2017-04-01 16:41:12 +0000</td>\n",
       "      <td>&lt;a href=\"http://twitter.com/download/iphone\" r...</td>\n",
       "      <td>Jerry just apuppologized to me. He said there ...</td>\n",
       "      <td>NaN</td>\n",
       "      <td>NaN</td>\n",
       "      <td>NaN</td>\n",
       "      <td>NaN</td>\n",
       "      <td>11</td>\n",
       "      <td>10</td>\n",
       "      <td>None</td>\n",
       "      <td>None</td>\n",
       "      <td>None</td>\n",
       "      <td>None</td>\n",
       "      <td>None</td>\n",
       "    </tr>\n",
       "    <tr>\n",
       "      <th>234</th>\n",
       "      <td>847617282490613760</td>\n",
       "      <td>8.476062e+17</td>\n",
       "      <td>4.196984e+09</td>\n",
       "      <td>2017-03-31 01:11:22 +0000</td>\n",
       "      <td>&lt;a href=\"http://twitter.com/download/iphone\" r...</td>\n",
       "      <td>.@breaannanicolee PUPDATE: Cannon has a heart ...</td>\n",
       "      <td>NaN</td>\n",
       "      <td>NaN</td>\n",
       "      <td>NaN</td>\n",
       "      <td>NaN</td>\n",
       "      <td>13</td>\n",
       "      <td>10</td>\n",
       "      <td>None</td>\n",
       "      <td>None</td>\n",
       "      <td>None</td>\n",
       "      <td>None</td>\n",
       "      <td>None</td>\n",
       "    </tr>\n",
       "    <tr>\n",
       "      <th>251</th>\n",
       "      <td>844979544864018432</td>\n",
       "      <td>7.590995e+17</td>\n",
       "      <td>4.196984e+09</td>\n",
       "      <td>2017-03-23 18:29:57 +0000</td>\n",
       "      <td>&lt;a href=\"http://twitter.com/download/iphone\" r...</td>\n",
       "      <td>PUPDATE: I'm proud to announce that Toby is 23...</td>\n",
       "      <td>NaN</td>\n",
       "      <td>NaN</td>\n",
       "      <td>NaN</td>\n",
       "      <td>https://twitter.com/dog_rates/status/844979544...</td>\n",
       "      <td>13</td>\n",
       "      <td>10</td>\n",
       "      <td>None</td>\n",
       "      <td>None</td>\n",
       "      <td>None</td>\n",
       "      <td>None</td>\n",
       "      <td>None</td>\n",
       "    </tr>\n",
       "    <tr>\n",
       "      <th>274</th>\n",
       "      <td>840698636975636481</td>\n",
       "      <td>8.406983e+17</td>\n",
       "      <td>8.405479e+17</td>\n",
       "      <td>2017-03-11 22:59:09 +0000</td>\n",
       "      <td>&lt;a href=\"http://twitter.com/download/iphone\" r...</td>\n",
       "      <td>@0_kelvin_0 &amp;gt;10/10 is reserved for puppos s...</td>\n",
       "      <td>NaN</td>\n",
       "      <td>NaN</td>\n",
       "      <td>NaN</td>\n",
       "      <td>NaN</td>\n",
       "      <td>10</td>\n",
       "      <td>10</td>\n",
       "      <td>None</td>\n",
       "      <td>None</td>\n",
       "      <td>None</td>\n",
       "      <td>None</td>\n",
       "      <td>None</td>\n",
       "    </tr>\n",
       "    <tr>\n",
       "      <th>290</th>\n",
       "      <td>838150277551247360</td>\n",
       "      <td>8.381455e+17</td>\n",
       "      <td>2.195506e+07</td>\n",
       "      <td>2017-03-04 22:12:52 +0000</td>\n",
       "      <td>&lt;a href=\"http://twitter.com/download/iphone\" r...</td>\n",
       "      <td>@markhoppus 182/10</td>\n",
       "      <td>NaN</td>\n",
       "      <td>NaN</td>\n",
       "      <td>NaN</td>\n",
       "      <td>NaN</td>\n",
       "      <td>182</td>\n",
       "      <td>10</td>\n",
       "      <td>None</td>\n",
       "      <td>None</td>\n",
       "      <td>None</td>\n",
       "      <td>None</td>\n",
       "      <td>None</td>\n",
       "    </tr>\n",
       "    <tr>\n",
       "      <th>291</th>\n",
       "      <td>838085839343206401</td>\n",
       "      <td>8.380855e+17</td>\n",
       "      <td>2.894131e+09</td>\n",
       "      <td>2017-03-04 17:56:49 +0000</td>\n",
       "      <td>&lt;a href=\"http://twitter.com/download/iphone\" r...</td>\n",
       "      <td>@bragg6of8 @Andy_Pace_ we are still looking fo...</td>\n",
       "      <td>NaN</td>\n",
       "      <td>NaN</td>\n",
       "      <td>NaN</td>\n",
       "      <td>NaN</td>\n",
       "      <td>15</td>\n",
       "      <td>10</td>\n",
       "      <td>None</td>\n",
       "      <td>None</td>\n",
       "      <td>None</td>\n",
       "      <td>None</td>\n",
       "      <td>None</td>\n",
       "    </tr>\n",
       "    <tr>\n",
       "      <th>313</th>\n",
       "      <td>835246439529840640</td>\n",
       "      <td>8.352460e+17</td>\n",
       "      <td>2.625958e+07</td>\n",
       "      <td>2017-02-24 21:54:03 +0000</td>\n",
       "      <td>&lt;a href=\"http://twitter.com/download/iphone\" r...</td>\n",
       "      <td>@jonnysun @Lin_Manuel ok jomny I know you're e...</td>\n",
       "      <td>NaN</td>\n",
       "      <td>NaN</td>\n",
       "      <td>NaN</td>\n",
       "      <td>NaN</td>\n",
       "      <td>960</td>\n",
       "      <td>0</td>\n",
       "      <td>None</td>\n",
       "      <td>None</td>\n",
       "      <td>None</td>\n",
       "      <td>None</td>\n",
       "      <td>None</td>\n",
       "    </tr>\n",
       "    <tr>\n",
       "      <th>342</th>\n",
       "      <td>832088576586297345</td>\n",
       "      <td>8.320875e+17</td>\n",
       "      <td>3.058208e+07</td>\n",
       "      <td>2017-02-16 04:45:50 +0000</td>\n",
       "      <td>&lt;a href=\"http://twitter.com/download/iphone\" r...</td>\n",
       "      <td>@docmisterio account started on 11/15/15</td>\n",
       "      <td>NaN</td>\n",
       "      <td>NaN</td>\n",
       "      <td>NaN</td>\n",
       "      <td>NaN</td>\n",
       "      <td>11</td>\n",
       "      <td>15</td>\n",
       "      <td>None</td>\n",
       "      <td>None</td>\n",
       "      <td>None</td>\n",
       "      <td>None</td>\n",
       "      <td>None</td>\n",
       "    </tr>\n",
       "  </tbody>\n",
       "</table>\n",
       "</div>"
      ],
      "text/plain": [
       "               tweet_id  in_reply_to_status_id  in_reply_to_user_id  \\\n",
       "30   886267009285017600           8.862664e+17         2.281182e+09   \n",
       "55   881633300179243008           8.816070e+17         4.738443e+07   \n",
       "64   879674319642796034           8.795538e+17         3.105441e+09   \n",
       "113  870726314365509632           8.707262e+17         1.648776e+07   \n",
       "148  863427515083354112           8.634256e+17         7.759620e+07   \n",
       "149  863079547188785154           6.671522e+17         4.196984e+09   \n",
       "179  857214891891077121           8.571567e+17         1.806710e+08   \n",
       "184  856526610513747968           8.558181e+17         4.196984e+09   \n",
       "186  856288084350160898           8.562860e+17         2.792810e+08   \n",
       "188  855862651834028034           8.558616e+17         1.943518e+08   \n",
       "189  855860136149123072           8.558585e+17         1.361572e+07   \n",
       "218  850333567704068097           8.503288e+17         2.195506e+07   \n",
       "228  848213670039564288           8.482121e+17         4.196984e+09   \n",
       "234  847617282490613760           8.476062e+17         4.196984e+09   \n",
       "251  844979544864018432           7.590995e+17         4.196984e+09   \n",
       "274  840698636975636481           8.406983e+17         8.405479e+17   \n",
       "290  838150277551247360           8.381455e+17         2.195506e+07   \n",
       "291  838085839343206401           8.380855e+17         2.894131e+09   \n",
       "313  835246439529840640           8.352460e+17         2.625958e+07   \n",
       "342  832088576586297345           8.320875e+17         3.058208e+07   \n",
       "\n",
       "                     timestamp  \\\n",
       "30   2017-07-15 16:51:35 +0000   \n",
       "55   2017-07-02 21:58:53 +0000   \n",
       "64   2017-06-27 12:14:36 +0000   \n",
       "113  2017-06-02 19:38:25 +0000   \n",
       "148  2017-05-13 16:15:35 +0000   \n",
       "149  2017-05-12 17:12:53 +0000   \n",
       "179  2017-04-26 12:48:51 +0000   \n",
       "184  2017-04-24 15:13:52 +0000   \n",
       "186  2017-04-23 23:26:03 +0000   \n",
       "188  2017-04-22 19:15:32 +0000   \n",
       "189  2017-04-22 19:05:32 +0000   \n",
       "218  2017-04-07 13:04:55 +0000   \n",
       "228  2017-04-01 16:41:12 +0000   \n",
       "234  2017-03-31 01:11:22 +0000   \n",
       "251  2017-03-23 18:29:57 +0000   \n",
       "274  2017-03-11 22:59:09 +0000   \n",
       "290  2017-03-04 22:12:52 +0000   \n",
       "291  2017-03-04 17:56:49 +0000   \n",
       "313  2017-02-24 21:54:03 +0000   \n",
       "342  2017-02-16 04:45:50 +0000   \n",
       "\n",
       "                                                source  \\\n",
       "30   <a href=\"http://twitter.com/download/iphone\" r...   \n",
       "55   <a href=\"http://twitter.com/download/iphone\" r...   \n",
       "64   <a href=\"http://twitter.com/download/iphone\" r...   \n",
       "113  <a href=\"http://twitter.com/download/iphone\" r...   \n",
       "148  <a href=\"http://twitter.com/download/iphone\" r...   \n",
       "149  <a href=\"http://twitter.com/download/iphone\" r...   \n",
       "179  <a href=\"http://twitter.com/download/iphone\" r...   \n",
       "184  <a href=\"http://twitter.com/download/iphone\" r...   \n",
       "186  <a href=\"http://twitter.com/download/iphone\" r...   \n",
       "188  <a href=\"http://twitter.com/download/iphone\" r...   \n",
       "189  <a href=\"http://twitter.com/download/iphone\" r...   \n",
       "218  <a href=\"http://twitter.com/download/iphone\" r...   \n",
       "228  <a href=\"http://twitter.com/download/iphone\" r...   \n",
       "234  <a href=\"http://twitter.com/download/iphone\" r...   \n",
       "251  <a href=\"http://twitter.com/download/iphone\" r...   \n",
       "274  <a href=\"http://twitter.com/download/iphone\" r...   \n",
       "290  <a href=\"http://twitter.com/download/iphone\" r...   \n",
       "291  <a href=\"http://twitter.com/download/iphone\" r...   \n",
       "313  <a href=\"http://twitter.com/download/iphone\" r...   \n",
       "342  <a href=\"http://twitter.com/download/iphone\" r...   \n",
       "\n",
       "                                                  text  retweeted_status_id  \\\n",
       "30   @NonWhiteHat @MayhewMayhem omg hello tanner yo...                  NaN   \n",
       "55   @roushfenway These are good dogs but 17/10 is ...                  NaN   \n",
       "64                     @RealKentMurphy 14/10 confirmed                  NaN   \n",
       "113  @ComplicitOwl @ShopWeRateDogs &gt;10/10 is res...                  NaN   \n",
       "148  @Jack_Septic_Eye I'd need a few more pics to p...                  NaN   \n",
       "149  Ladies and gentlemen... I found Pipsy. He may ...                  NaN   \n",
       "179                       @Marc_IRL pixelated af 12/10                  NaN   \n",
       "184  THIS IS CHARLIE, MARK. HE DID JUST WANT TO SAY...                  NaN   \n",
       "186  @xianmcguire @Jenna_Marbles Kardashians wouldn...                  NaN   \n",
       "188  @dhmontgomery We also gave snoop dogg a 420/10...                  NaN   \n",
       "189  @s8n You tried very hard to portray this good ...                  NaN   \n",
       "218  @markhoppus MARK THAT DOG HAS SEEN AND EXPERIE...                  NaN   \n",
       "228  Jerry just apuppologized to me. He said there ...                  NaN   \n",
       "234  .@breaannanicolee PUPDATE: Cannon has a heart ...                  NaN   \n",
       "251  PUPDATE: I'm proud to announce that Toby is 23...                  NaN   \n",
       "274  @0_kelvin_0 &gt;10/10 is reserved for puppos s...                  NaN   \n",
       "290                                 @markhoppus 182/10                  NaN   \n",
       "291  @bragg6of8 @Andy_Pace_ we are still looking fo...                  NaN   \n",
       "313  @jonnysun @Lin_Manuel ok jomny I know you're e...                  NaN   \n",
       "342           @docmisterio account started on 11/15/15                  NaN   \n",
       "\n",
       "     retweeted_status_user_id retweeted_status_timestamp  \\\n",
       "30                        NaN                        NaN   \n",
       "55                        NaN                        NaN   \n",
       "64                        NaN                        NaN   \n",
       "113                       NaN                        NaN   \n",
       "148                       NaN                        NaN   \n",
       "149                       NaN                        NaN   \n",
       "179                       NaN                        NaN   \n",
       "184                       NaN                        NaN   \n",
       "186                       NaN                        NaN   \n",
       "188                       NaN                        NaN   \n",
       "189                       NaN                        NaN   \n",
       "218                       NaN                        NaN   \n",
       "228                       NaN                        NaN   \n",
       "234                       NaN                        NaN   \n",
       "251                       NaN                        NaN   \n",
       "274                       NaN                        NaN   \n",
       "290                       NaN                        NaN   \n",
       "291                       NaN                        NaN   \n",
       "313                       NaN                        NaN   \n",
       "342                       NaN                        NaN   \n",
       "\n",
       "                                         expanded_urls  rating_numerator  \\\n",
       "30                                                 NaN                12   \n",
       "55                                                 NaN                17   \n",
       "64                                                 NaN                14   \n",
       "113                                                NaN                10   \n",
       "148                                                NaN                12   \n",
       "149  https://twitter.com/dog_rates/status/863079547...                14   \n",
       "179                                                NaN                12   \n",
       "184  https://twitter.com/dog_rates/status/856526610...                14   \n",
       "186                                                NaN                14   \n",
       "188                                                NaN               420   \n",
       "189                                                NaN               666   \n",
       "218                                                NaN                13   \n",
       "228                                                NaN                11   \n",
       "234                                                NaN                13   \n",
       "251  https://twitter.com/dog_rates/status/844979544...                13   \n",
       "274                                                NaN                10   \n",
       "290                                                NaN               182   \n",
       "291                                                NaN                15   \n",
       "313                                                NaN               960   \n",
       "342                                                NaN                11   \n",
       "\n",
       "     rating_denominator  name doggo floofer pupper puppo  \n",
       "30                   10  None  None    None   None  None  \n",
       "55                   10  None  None    None   None  None  \n",
       "64                   10  None  None    None   None  None  \n",
       "113                  10  None  None    None   None  None  \n",
       "148                  10  None  None    None   None  None  \n",
       "149                  10  None  None    None   None  None  \n",
       "179                  10  None  None    None   None  None  \n",
       "184                  10  None  None    None   None  None  \n",
       "186                  10  None  None    None   None  None  \n",
       "188                  10  None  None    None   None  None  \n",
       "189                  10  None  None    None   None  None  \n",
       "218                  10  None  None    None   None  None  \n",
       "228                  10  None  None    None   None  None  \n",
       "234                  10  None  None    None   None  None  \n",
       "251                  10  None  None    None   None  None  \n",
       "274                  10  None  None    None   None  None  \n",
       "290                  10  None  None    None   None  None  \n",
       "291                  10  None  None    None   None  None  \n",
       "313                   0  None  None    None   None  None  \n",
       "342                  15  None  None    None   None  None  "
      ]
     },
     "execution_count": 40,
     "metadata": {},
     "output_type": "execute_result"
    }
   ],
   "source": [
    "tweet_df_clean[tweet_df_clean['in_reply_to_status_id'].notnull()].head(20)"
   ]
  },
  {
   "cell_type": "code",
   "execution_count": 41,
   "metadata": {},
   "outputs": [
    {
     "data": {
      "text/plain": [
       "4196983835.0"
      ]
     },
     "execution_count": 41,
     "metadata": {},
     "output_type": "execute_result"
    }
   ],
   "source": [
    "# Inspect a given tweet. If the below code returns a value,\n",
    "# the tweet is indeed a retweet\n",
    "tweet_df_clean.loc[251]['in_reply_to_user_id']"
   ]
  },
  {
   "cell_type": "markdown",
   "metadata": {},
   "source": [
    "To examine these replies closer, it is useful to view the 'text' and the actual tweet on Twitter's website, which can be done by going to the site provided in the 'expanded_urls' columns for replies. However, most replies do not have an entry in the 'expanded_urls' column. The reply located in row 251 is an example of a reply with a URL. \n",
    "\n",
    "This rating is not an original rating but instead is an update to a previous rating based on a review of the tweet using the expanded URL. Multiple ratings for the same puppy may not be valid data, so replies should also be removed from the data set before analysis.\n",
    "\n",
    "The code below shows that there are 78 replies to remove from the data set."
   ]
  },
  {
   "cell_type": "code",
   "execution_count": 42,
   "metadata": {},
   "outputs": [
    {
     "data": {
      "text/plain": [
       "'https://twitter.com/dog_rates/status/844979544864018432/photo/1,https://twitter.com/dog_rates/status/844979544864018432/photo/1,https://twitter.com/dog_rates/status/844979544864018432/photo/1'"
      ]
     },
     "execution_count": 42,
     "metadata": {},
     "output_type": "execute_result"
    }
   ],
   "source": [
    "# URL of retweet\n",
    "tweet_df_clean.loc[251]['expanded_urls']"
   ]
  },
  {
   "cell_type": "code",
   "execution_count": 43,
   "metadata": {},
   "outputs": [
    {
     "data": {
      "text/plain": [
       "\"PUPDATE: I'm proud to announce that Toby is 236 days sober. Pupgraded to a 13/10. We're all very proud of you, Toby https://t.co/a5OaJeRl9B\""
      ]
     },
     "execution_count": 43,
     "metadata": {},
     "output_type": "execute_result"
    }
   ],
   "source": [
    "# Text from retweet\n",
    "tweet_df_clean.loc[251]['text']"
   ]
  },
  {
   "cell_type": "code",
   "execution_count": 44,
   "metadata": {},
   "outputs": [
    {
     "data": {
      "text/plain": [
       "78"
      ]
     },
     "execution_count": 44,
     "metadata": {},
     "output_type": "execute_result"
    }
   ],
   "source": [
    "len(tweet_df_clean[tweet_df_clean['in_reply_to_status_id'].notnull()])"
   ]
  },
  {
   "cell_type": "code",
   "execution_count": 45,
   "metadata": {},
   "outputs": [],
   "source": [
    "tweet_df_clean = tweet_df_clean[tweet_df_clean['in_reply_to_status_id'].isnull()]"
   ]
  },
  {
   "cell_type": "code",
   "execution_count": 46,
   "metadata": {},
   "outputs": [
    {
     "data": {
      "text/plain": [
       "2097"
      ]
     },
     "execution_count": 46,
     "metadata": {},
     "output_type": "execute_result"
    }
   ],
   "source": [
    "len(tweet_df_clean.index)"
   ]
  },
  {
   "cell_type": "markdown",
   "metadata": {},
   "source": [
    "After dropping replies from the data set, the number of entries is now 2,097 tweets, which is indeed 78 less than the 2,175 tweets that remained after dropping retweets. To ensure that replies and retweets have been correctly removed from the data set, info() can be used to examine basic data about the data frame. All columns associated with retweets and replies should have zero non-null entries. "
   ]
  },
  {
   "cell_type": "code",
   "execution_count": 47,
   "metadata": {},
   "outputs": [
    {
     "name": "stdout",
     "output_type": "stream",
     "text": [
      "<class 'pandas.core.frame.DataFrame'>\n",
      "Int64Index: 2097 entries, 0 to 2355\n",
      "Data columns (total 17 columns):\n",
      "tweet_id                      2097 non-null int64\n",
      "in_reply_to_status_id         0 non-null float64\n",
      "in_reply_to_user_id           0 non-null float64\n",
      "timestamp                     2097 non-null object\n",
      "source                        2097 non-null object\n",
      "text                          2097 non-null object\n",
      "retweeted_status_id           0 non-null float64\n",
      "retweeted_status_user_id      0 non-null float64\n",
      "retweeted_status_timestamp    0 non-null object\n",
      "expanded_urls                 2094 non-null object\n",
      "rating_numerator              2097 non-null int64\n",
      "rating_denominator            2097 non-null int64\n",
      "name                          2097 non-null object\n",
      "doggo                         2097 non-null object\n",
      "floofer                       2097 non-null object\n",
      "pupper                        2097 non-null object\n",
      "puppo                         2097 non-null object\n",
      "dtypes: float64(4), int64(3), object(10)\n",
      "memory usage: 294.9+ KB\n"
     ]
    }
   ],
   "source": [
    "tweet_df_clean.info()"
   ]
  },
  {
   "cell_type": "markdown",
   "metadata": {},
   "source": [
    "### Dropping columns that do not contain information\n",
    "\n",
    "The data from the info() call indeed show that all columns associated with replies and retweets have zero non-null objects. Retweets and replies have been successfully removed.\n",
    "\n",
    "Because these data no longer provide information, they can be dropped to make the data easier to clean."
   ]
  },
  {
   "cell_type": "code",
   "execution_count": 48,
   "metadata": {},
   "outputs": [],
   "source": [
    "tweet_df_clean = tweet_df_clean.drop(columns=['in_reply_to_status_id', 'in_reply_to_user_id', 'retweeted_status_id', 'retweeted_status_user_id', 'retweeted_status_timestamp'])"
   ]
  },
  {
   "cell_type": "code",
   "execution_count": 49,
   "metadata": {},
   "outputs": [
    {
     "name": "stdout",
     "output_type": "stream",
     "text": [
      "<class 'pandas.core.frame.DataFrame'>\n",
      "Int64Index: 2097 entries, 0 to 2355\n",
      "Data columns (total 12 columns):\n",
      "tweet_id              2097 non-null int64\n",
      "timestamp             2097 non-null object\n",
      "source                2097 non-null object\n",
      "text                  2097 non-null object\n",
      "expanded_urls         2094 non-null object\n",
      "rating_numerator      2097 non-null int64\n",
      "rating_denominator    2097 non-null int64\n",
      "name                  2097 non-null object\n",
      "doggo                 2097 non-null object\n",
      "floofer               2097 non-null object\n",
      "pupper                2097 non-null object\n",
      "puppo                 2097 non-null object\n",
      "dtypes: int64(3), object(9)\n",
      "memory usage: 213.0+ KB\n"
     ]
    }
   ],
   "source": [
    "tweet_df_clean.info()"
   ]
  },
  {
   "cell_type": "markdown",
   "metadata": {},
   "source": [
    "### b. Image Data Validity"
   ]
  },
  {
   "cell_type": "code",
   "execution_count": 50,
   "metadata": {},
   "outputs": [
    {
     "data": {
      "text/html": [
       "<div>\n",
       "<style scoped>\n",
       "    .dataframe tbody tr th:only-of-type {\n",
       "        vertical-align: middle;\n",
       "    }\n",
       "\n",
       "    .dataframe tbody tr th {\n",
       "        vertical-align: top;\n",
       "    }\n",
       "\n",
       "    .dataframe thead th {\n",
       "        text-align: right;\n",
       "    }\n",
       "</style>\n",
       "<table border=\"1\" class=\"dataframe\">\n",
       "  <thead>\n",
       "    <tr style=\"text-align: right;\">\n",
       "      <th></th>\n",
       "      <th>tweet_id</th>\n",
       "      <th>jpg_url</th>\n",
       "      <th>img_num</th>\n",
       "      <th>p1</th>\n",
       "      <th>p1_conf</th>\n",
       "      <th>p1_dog</th>\n",
       "      <th>p2</th>\n",
       "      <th>p2_conf</th>\n",
       "      <th>p2_dog</th>\n",
       "      <th>p3</th>\n",
       "      <th>p3_conf</th>\n",
       "      <th>p3_dog</th>\n",
       "    </tr>\n",
       "  </thead>\n",
       "  <tbody>\n",
       "    <tr>\n",
       "      <th>0</th>\n",
       "      <td>666020888022790149</td>\n",
       "      <td>https://pbs.twimg.com/media/CT4udn0WwAA0aMy.jpg</td>\n",
       "      <td>1</td>\n",
       "      <td>Welsh_springer_spaniel</td>\n",
       "      <td>0.465074</td>\n",
       "      <td>True</td>\n",
       "      <td>collie</td>\n",
       "      <td>0.156665</td>\n",
       "      <td>True</td>\n",
       "      <td>Shetland_sheepdog</td>\n",
       "      <td>0.061428</td>\n",
       "      <td>True</td>\n",
       "    </tr>\n",
       "    <tr>\n",
       "      <th>1</th>\n",
       "      <td>666029285002620928</td>\n",
       "      <td>https://pbs.twimg.com/media/CT42GRgUYAA5iDo.jpg</td>\n",
       "      <td>1</td>\n",
       "      <td>redbone</td>\n",
       "      <td>0.506826</td>\n",
       "      <td>True</td>\n",
       "      <td>miniature_pinscher</td>\n",
       "      <td>0.074192</td>\n",
       "      <td>True</td>\n",
       "      <td>Rhodesian_ridgeback</td>\n",
       "      <td>0.072010</td>\n",
       "      <td>True</td>\n",
       "    </tr>\n",
       "    <tr>\n",
       "      <th>2</th>\n",
       "      <td>666033412701032449</td>\n",
       "      <td>https://pbs.twimg.com/media/CT4521TWwAEvMyu.jpg</td>\n",
       "      <td>1</td>\n",
       "      <td>German_shepherd</td>\n",
       "      <td>0.596461</td>\n",
       "      <td>True</td>\n",
       "      <td>malinois</td>\n",
       "      <td>0.138584</td>\n",
       "      <td>True</td>\n",
       "      <td>bloodhound</td>\n",
       "      <td>0.116197</td>\n",
       "      <td>True</td>\n",
       "    </tr>\n",
       "    <tr>\n",
       "      <th>3</th>\n",
       "      <td>666044226329800704</td>\n",
       "      <td>https://pbs.twimg.com/media/CT5Dr8HUEAA-lEu.jpg</td>\n",
       "      <td>1</td>\n",
       "      <td>Rhodesian_ridgeback</td>\n",
       "      <td>0.408143</td>\n",
       "      <td>True</td>\n",
       "      <td>redbone</td>\n",
       "      <td>0.360687</td>\n",
       "      <td>True</td>\n",
       "      <td>miniature_pinscher</td>\n",
       "      <td>0.222752</td>\n",
       "      <td>True</td>\n",
       "    </tr>\n",
       "    <tr>\n",
       "      <th>4</th>\n",
       "      <td>666049248165822465</td>\n",
       "      <td>https://pbs.twimg.com/media/CT5IQmsXIAAKY4A.jpg</td>\n",
       "      <td>1</td>\n",
       "      <td>miniature_pinscher</td>\n",
       "      <td>0.560311</td>\n",
       "      <td>True</td>\n",
       "      <td>Rottweiler</td>\n",
       "      <td>0.243682</td>\n",
       "      <td>True</td>\n",
       "      <td>Doberman</td>\n",
       "      <td>0.154629</td>\n",
       "      <td>True</td>\n",
       "    </tr>\n",
       "    <tr>\n",
       "      <th>5</th>\n",
       "      <td>666050758794694657</td>\n",
       "      <td>https://pbs.twimg.com/media/CT5Jof1WUAEuVxN.jpg</td>\n",
       "      <td>1</td>\n",
       "      <td>Bernese_mountain_dog</td>\n",
       "      <td>0.651137</td>\n",
       "      <td>True</td>\n",
       "      <td>English_springer</td>\n",
       "      <td>0.263788</td>\n",
       "      <td>True</td>\n",
       "      <td>Greater_Swiss_Mountain_dog</td>\n",
       "      <td>0.016199</td>\n",
       "      <td>True</td>\n",
       "    </tr>\n",
       "    <tr>\n",
       "      <th>6</th>\n",
       "      <td>666051853826850816</td>\n",
       "      <td>https://pbs.twimg.com/media/CT5KoJ1WoAAJash.jpg</td>\n",
       "      <td>1</td>\n",
       "      <td>box_turtle</td>\n",
       "      <td>0.933012</td>\n",
       "      <td>False</td>\n",
       "      <td>mud_turtle</td>\n",
       "      <td>0.045885</td>\n",
       "      <td>False</td>\n",
       "      <td>terrapin</td>\n",
       "      <td>0.017885</td>\n",
       "      <td>False</td>\n",
       "    </tr>\n",
       "    <tr>\n",
       "      <th>7</th>\n",
       "      <td>666055525042405380</td>\n",
       "      <td>https://pbs.twimg.com/media/CT5N9tpXIAAifs1.jpg</td>\n",
       "      <td>1</td>\n",
       "      <td>chow</td>\n",
       "      <td>0.692517</td>\n",
       "      <td>True</td>\n",
       "      <td>Tibetan_mastiff</td>\n",
       "      <td>0.058279</td>\n",
       "      <td>True</td>\n",
       "      <td>fur_coat</td>\n",
       "      <td>0.054449</td>\n",
       "      <td>False</td>\n",
       "    </tr>\n",
       "    <tr>\n",
       "      <th>8</th>\n",
       "      <td>666057090499244032</td>\n",
       "      <td>https://pbs.twimg.com/media/CT5PY90WoAAQGLo.jpg</td>\n",
       "      <td>1</td>\n",
       "      <td>shopping_cart</td>\n",
       "      <td>0.962465</td>\n",
       "      <td>False</td>\n",
       "      <td>shopping_basket</td>\n",
       "      <td>0.014594</td>\n",
       "      <td>False</td>\n",
       "      <td>golden_retriever</td>\n",
       "      <td>0.007959</td>\n",
       "      <td>True</td>\n",
       "    </tr>\n",
       "    <tr>\n",
       "      <th>9</th>\n",
       "      <td>666058600524156928</td>\n",
       "      <td>https://pbs.twimg.com/media/CT5Qw94XAAA_2dP.jpg</td>\n",
       "      <td>1</td>\n",
       "      <td>miniature_poodle</td>\n",
       "      <td>0.201493</td>\n",
       "      <td>True</td>\n",
       "      <td>komondor</td>\n",
       "      <td>0.192305</td>\n",
       "      <td>True</td>\n",
       "      <td>soft-coated_wheaten_terrier</td>\n",
       "      <td>0.082086</td>\n",
       "      <td>True</td>\n",
       "    </tr>\n",
       "    <tr>\n",
       "      <th>10</th>\n",
       "      <td>666063827256086533</td>\n",
       "      <td>https://pbs.twimg.com/media/CT5Vg_wXIAAXfnj.jpg</td>\n",
       "      <td>1</td>\n",
       "      <td>golden_retriever</td>\n",
       "      <td>0.775930</td>\n",
       "      <td>True</td>\n",
       "      <td>Tibetan_mastiff</td>\n",
       "      <td>0.093718</td>\n",
       "      <td>True</td>\n",
       "      <td>Labrador_retriever</td>\n",
       "      <td>0.072427</td>\n",
       "      <td>True</td>\n",
       "    </tr>\n",
       "    <tr>\n",
       "      <th>11</th>\n",
       "      <td>666071193221509120</td>\n",
       "      <td>https://pbs.twimg.com/media/CT5cN_3WEAAlOoZ.jpg</td>\n",
       "      <td>1</td>\n",
       "      <td>Gordon_setter</td>\n",
       "      <td>0.503672</td>\n",
       "      <td>True</td>\n",
       "      <td>Yorkshire_terrier</td>\n",
       "      <td>0.174201</td>\n",
       "      <td>True</td>\n",
       "      <td>Pekinese</td>\n",
       "      <td>0.109454</td>\n",
       "      <td>True</td>\n",
       "    </tr>\n",
       "    <tr>\n",
       "      <th>12</th>\n",
       "      <td>666073100786774016</td>\n",
       "      <td>https://pbs.twimg.com/media/CT5d9DZXAAALcwe.jpg</td>\n",
       "      <td>1</td>\n",
       "      <td>Walker_hound</td>\n",
       "      <td>0.260857</td>\n",
       "      <td>True</td>\n",
       "      <td>English_foxhound</td>\n",
       "      <td>0.175382</td>\n",
       "      <td>True</td>\n",
       "      <td>Ibizan_hound</td>\n",
       "      <td>0.097471</td>\n",
       "      <td>True</td>\n",
       "    </tr>\n",
       "    <tr>\n",
       "      <th>13</th>\n",
       "      <td>666082916733198337</td>\n",
       "      <td>https://pbs.twimg.com/media/CT5m4VGWEAAtKc8.jpg</td>\n",
       "      <td>1</td>\n",
       "      <td>pug</td>\n",
       "      <td>0.489814</td>\n",
       "      <td>True</td>\n",
       "      <td>bull_mastiff</td>\n",
       "      <td>0.404722</td>\n",
       "      <td>True</td>\n",
       "      <td>French_bulldog</td>\n",
       "      <td>0.048960</td>\n",
       "      <td>True</td>\n",
       "    </tr>\n",
       "    <tr>\n",
       "      <th>14</th>\n",
       "      <td>666094000022159362</td>\n",
       "      <td>https://pbs.twimg.com/media/CT5w9gUW4AAsBNN.jpg</td>\n",
       "      <td>1</td>\n",
       "      <td>bloodhound</td>\n",
       "      <td>0.195217</td>\n",
       "      <td>True</td>\n",
       "      <td>German_shepherd</td>\n",
       "      <td>0.078260</td>\n",
       "      <td>True</td>\n",
       "      <td>malinois</td>\n",
       "      <td>0.075628</td>\n",
       "      <td>True</td>\n",
       "    </tr>\n",
       "    <tr>\n",
       "      <th>15</th>\n",
       "      <td>666099513787052032</td>\n",
       "      <td>https://pbs.twimg.com/media/CT51-JJUEAA6hV8.jpg</td>\n",
       "      <td>1</td>\n",
       "      <td>Lhasa</td>\n",
       "      <td>0.582330</td>\n",
       "      <td>True</td>\n",
       "      <td>Shih-Tzu</td>\n",
       "      <td>0.166192</td>\n",
       "      <td>True</td>\n",
       "      <td>Dandie_Dinmont</td>\n",
       "      <td>0.089688</td>\n",
       "      <td>True</td>\n",
       "    </tr>\n",
       "    <tr>\n",
       "      <th>16</th>\n",
       "      <td>666102155909144576</td>\n",
       "      <td>https://pbs.twimg.com/media/CT54YGiWUAEZnoK.jpg</td>\n",
       "      <td>1</td>\n",
       "      <td>English_setter</td>\n",
       "      <td>0.298617</td>\n",
       "      <td>True</td>\n",
       "      <td>Newfoundland</td>\n",
       "      <td>0.149842</td>\n",
       "      <td>True</td>\n",
       "      <td>borzoi</td>\n",
       "      <td>0.133649</td>\n",
       "      <td>True</td>\n",
       "    </tr>\n",
       "    <tr>\n",
       "      <th>17</th>\n",
       "      <td>666104133288665088</td>\n",
       "      <td>https://pbs.twimg.com/media/CT56LSZWoAAlJj2.jpg</td>\n",
       "      <td>1</td>\n",
       "      <td>hen</td>\n",
       "      <td>0.965932</td>\n",
       "      <td>False</td>\n",
       "      <td>cock</td>\n",
       "      <td>0.033919</td>\n",
       "      <td>False</td>\n",
       "      <td>partridge</td>\n",
       "      <td>0.000052</td>\n",
       "      <td>False</td>\n",
       "    </tr>\n",
       "    <tr>\n",
       "      <th>18</th>\n",
       "      <td>666268910803644416</td>\n",
       "      <td>https://pbs.twimg.com/media/CT8QCd1WEAADXws.jpg</td>\n",
       "      <td>1</td>\n",
       "      <td>desktop_computer</td>\n",
       "      <td>0.086502</td>\n",
       "      <td>False</td>\n",
       "      <td>desk</td>\n",
       "      <td>0.085547</td>\n",
       "      <td>False</td>\n",
       "      <td>bookcase</td>\n",
       "      <td>0.079480</td>\n",
       "      <td>False</td>\n",
       "    </tr>\n",
       "    <tr>\n",
       "      <th>19</th>\n",
       "      <td>666273097616637952</td>\n",
       "      <td>https://pbs.twimg.com/media/CT8T1mtUwAA3aqm.jpg</td>\n",
       "      <td>1</td>\n",
       "      <td>Italian_greyhound</td>\n",
       "      <td>0.176053</td>\n",
       "      <td>True</td>\n",
       "      <td>toy_terrier</td>\n",
       "      <td>0.111884</td>\n",
       "      <td>True</td>\n",
       "      <td>basenji</td>\n",
       "      <td>0.111152</td>\n",
       "      <td>True</td>\n",
       "    </tr>\n",
       "  </tbody>\n",
       "</table>\n",
       "</div>"
      ],
      "text/plain": [
       "              tweet_id                                          jpg_url  \\\n",
       "0   666020888022790149  https://pbs.twimg.com/media/CT4udn0WwAA0aMy.jpg   \n",
       "1   666029285002620928  https://pbs.twimg.com/media/CT42GRgUYAA5iDo.jpg   \n",
       "2   666033412701032449  https://pbs.twimg.com/media/CT4521TWwAEvMyu.jpg   \n",
       "3   666044226329800704  https://pbs.twimg.com/media/CT5Dr8HUEAA-lEu.jpg   \n",
       "4   666049248165822465  https://pbs.twimg.com/media/CT5IQmsXIAAKY4A.jpg   \n",
       "5   666050758794694657  https://pbs.twimg.com/media/CT5Jof1WUAEuVxN.jpg   \n",
       "6   666051853826850816  https://pbs.twimg.com/media/CT5KoJ1WoAAJash.jpg   \n",
       "7   666055525042405380  https://pbs.twimg.com/media/CT5N9tpXIAAifs1.jpg   \n",
       "8   666057090499244032  https://pbs.twimg.com/media/CT5PY90WoAAQGLo.jpg   \n",
       "9   666058600524156928  https://pbs.twimg.com/media/CT5Qw94XAAA_2dP.jpg   \n",
       "10  666063827256086533  https://pbs.twimg.com/media/CT5Vg_wXIAAXfnj.jpg   \n",
       "11  666071193221509120  https://pbs.twimg.com/media/CT5cN_3WEAAlOoZ.jpg   \n",
       "12  666073100786774016  https://pbs.twimg.com/media/CT5d9DZXAAALcwe.jpg   \n",
       "13  666082916733198337  https://pbs.twimg.com/media/CT5m4VGWEAAtKc8.jpg   \n",
       "14  666094000022159362  https://pbs.twimg.com/media/CT5w9gUW4AAsBNN.jpg   \n",
       "15  666099513787052032  https://pbs.twimg.com/media/CT51-JJUEAA6hV8.jpg   \n",
       "16  666102155909144576  https://pbs.twimg.com/media/CT54YGiWUAEZnoK.jpg   \n",
       "17  666104133288665088  https://pbs.twimg.com/media/CT56LSZWoAAlJj2.jpg   \n",
       "18  666268910803644416  https://pbs.twimg.com/media/CT8QCd1WEAADXws.jpg   \n",
       "19  666273097616637952  https://pbs.twimg.com/media/CT8T1mtUwAA3aqm.jpg   \n",
       "\n",
       "    img_num                      p1   p1_conf  p1_dog                  p2  \\\n",
       "0         1  Welsh_springer_spaniel  0.465074    True              collie   \n",
       "1         1                 redbone  0.506826    True  miniature_pinscher   \n",
       "2         1         German_shepherd  0.596461    True            malinois   \n",
       "3         1     Rhodesian_ridgeback  0.408143    True             redbone   \n",
       "4         1      miniature_pinscher  0.560311    True          Rottweiler   \n",
       "5         1    Bernese_mountain_dog  0.651137    True    English_springer   \n",
       "6         1              box_turtle  0.933012   False          mud_turtle   \n",
       "7         1                    chow  0.692517    True     Tibetan_mastiff   \n",
       "8         1           shopping_cart  0.962465   False     shopping_basket   \n",
       "9         1        miniature_poodle  0.201493    True            komondor   \n",
       "10        1        golden_retriever  0.775930    True     Tibetan_mastiff   \n",
       "11        1           Gordon_setter  0.503672    True   Yorkshire_terrier   \n",
       "12        1            Walker_hound  0.260857    True    English_foxhound   \n",
       "13        1                     pug  0.489814    True        bull_mastiff   \n",
       "14        1              bloodhound  0.195217    True     German_shepherd   \n",
       "15        1                   Lhasa  0.582330    True            Shih-Tzu   \n",
       "16        1          English_setter  0.298617    True        Newfoundland   \n",
       "17        1                     hen  0.965932   False                cock   \n",
       "18        1        desktop_computer  0.086502   False                desk   \n",
       "19        1       Italian_greyhound  0.176053    True         toy_terrier   \n",
       "\n",
       "     p2_conf  p2_dog                           p3   p3_conf  p3_dog  \n",
       "0   0.156665    True            Shetland_sheepdog  0.061428    True  \n",
       "1   0.074192    True          Rhodesian_ridgeback  0.072010    True  \n",
       "2   0.138584    True                   bloodhound  0.116197    True  \n",
       "3   0.360687    True           miniature_pinscher  0.222752    True  \n",
       "4   0.243682    True                     Doberman  0.154629    True  \n",
       "5   0.263788    True   Greater_Swiss_Mountain_dog  0.016199    True  \n",
       "6   0.045885   False                     terrapin  0.017885   False  \n",
       "7   0.058279    True                     fur_coat  0.054449   False  \n",
       "8   0.014594   False             golden_retriever  0.007959    True  \n",
       "9   0.192305    True  soft-coated_wheaten_terrier  0.082086    True  \n",
       "10  0.093718    True           Labrador_retriever  0.072427    True  \n",
       "11  0.174201    True                     Pekinese  0.109454    True  \n",
       "12  0.175382    True                 Ibizan_hound  0.097471    True  \n",
       "13  0.404722    True               French_bulldog  0.048960    True  \n",
       "14  0.078260    True                     malinois  0.075628    True  \n",
       "15  0.166192    True               Dandie_Dinmont  0.089688    True  \n",
       "16  0.149842    True                       borzoi  0.133649    True  \n",
       "17  0.033919   False                    partridge  0.000052   False  \n",
       "18  0.085547   False                     bookcase  0.079480   False  \n",
       "19  0.111884    True                      basenji  0.111152    True  "
      ]
     },
     "execution_count": 50,
     "metadata": {},
     "output_type": "execute_result"
    }
   ],
   "source": [
    "image_df_clean.head(20)"
   ]
  },
  {
   "cell_type": "markdown",
   "metadata": {},
   "source": [
    "It appears that some images may not actually be dogs. The data for this is stored in the columns p1_dog, p2_dog, and p3_dog. Because the goal of this analysis is to view ratings of dog photos, entries for images that do not contain dogs are not valid and should be removed.\n",
    "\n",
    "The data are organized such that p1 contains the highest probability guess, so the best indication of an image not containing a dog is if p1_dog is false."
   ]
  },
  {
   "cell_type": "code",
   "execution_count": 51,
   "metadata": {},
   "outputs": [],
   "source": [
    "image_df_clean = image_df_clean[image_df_clean['p1_dog']]"
   ]
  },
  {
   "cell_type": "code",
   "execution_count": 52,
   "metadata": {},
   "outputs": [
    {
     "data": {
      "text/plain": [
       "(1532, 543)"
      ]
     },
     "execution_count": 52,
     "metadata": {},
     "output_type": "execute_result"
    }
   ],
   "source": [
    "len(image_df_clean.index), len(image_df.index) - len(image_df_clean.index)"
   ]
  },
  {
   "cell_type": "markdown",
   "metadata": {},
   "source": [
    "A total of 543 rows were dropped after filtering removing image data that were predicted to be not dogs. The total number of entries in the image data dropped from 2,075 to 1,532."
   ]
  },
  {
   "cell_type": "code",
   "execution_count": 53,
   "metadata": {},
   "outputs": [
    {
     "data": {
      "text/plain": [
       "1463"
      ]
     },
     "execution_count": 53,
     "metadata": {},
     "output_type": "execute_result"
    }
   ],
   "source": [
    "len(tweet_df_clean[tweet_df_clean['tweet_id'].isin(image_df_clean['tweet_id'])])"
   ]
  },
  {
   "cell_type": "markdown",
   "metadata": {},
   "source": [
    "There are 1,463 entries where a tweet ID can be found in both the tweets and images data frames. When the data frames are updated to ensure a 1:1 correspondence of tweet entries and image entries, 69 rows from the images data frame will be dropped as will 634 rows from the tweets data frame."
   ]
  },
  {
   "cell_type": "code",
   "execution_count": null,
   "metadata": {},
   "outputs": [],
   "source": []
  },
  {
   "cell_type": "markdown",
   "metadata": {},
   "source": [
    "### c. Tweet Count Data Validity\n",
    "\n",
    "Tweet count data should be reviewed to ensure that all data are valid. The API call only pulled data for tweets in the tweet_df data frame, so there is no concern for having data that is not in the original data set. However, the API call did not retrieve data for all tweets given (2,356 tweets were sent to the API call and 2,331 were returned, meaning that the API call was unable to retrieve data for 25 tweet IDs that were supplied)."
   ]
  },
  {
   "cell_type": "code",
   "execution_count": 54,
   "metadata": {},
   "outputs": [
    {
     "name": "stdout",
     "output_type": "stream",
     "text": [
      "<class 'pandas.core.frame.DataFrame'>\n",
      "RangeIndex: 2331 entries, 0 to 2330\n",
      "Data columns (total 3 columns):\n",
      "id                2331 non-null int64\n",
      "favorite_count    2331 non-null int64\n",
      "retweet_count     2331 non-null int64\n",
      "dtypes: int64(3)\n",
      "memory usage: 54.7 KB\n"
     ]
    }
   ],
   "source": [
    "tweet_count_df_clean.info()"
   ]
  },
  {
   "cell_type": "markdown",
   "metadata": {},
   "source": [
    "The info() call above shows that all entries are non-null, so no data should be dropped based on this initial review. No other changes will be made to the tweet_count_df_clean data frame."
   ]
  },
  {
   "cell_type": "markdown",
   "metadata": {},
   "source": [
    "# 3. Data Reorganization"
   ]
  },
  {
   "cell_type": "markdown",
   "metadata": {},
   "source": [
    "## A. Merge Tweet Count Data with other Tweet Data\n",
    "\n",
    "The tweet_df_clean data frame contains data about the tweets themselves. The tweet_count_df data frame also contains tweet data; therefore, based on the principle of tidy data, these data frames should be merged.\n",
    "\n",
    "The Pandas merge operation will place the tweet count data in the tweet_df_clean data frame which already contains the rest of the tweet data.\n",
    "\n",
    "Using Pandas' merge with the 'how' argument set to 'inner' (which is the default option for pd.merge()) performs an inner merge, which will solve the problem of removing entries for which the API call did not provide additional data."
   ]
  },
  {
   "cell_type": "code",
   "execution_count": 55,
   "metadata": {},
   "outputs": [
    {
     "name": "stdout",
     "output_type": "stream",
     "text": [
      "<class 'pandas.core.frame.DataFrame'>\n",
      "Int64Index: 2097 entries, 0 to 2355\n",
      "Data columns (total 12 columns):\n",
      "tweet_id              2097 non-null int64\n",
      "timestamp             2097 non-null object\n",
      "source                2097 non-null object\n",
      "text                  2097 non-null object\n",
      "expanded_urls         2094 non-null object\n",
      "rating_numerator      2097 non-null int64\n",
      "rating_denominator    2097 non-null int64\n",
      "name                  2097 non-null object\n",
      "doggo                 2097 non-null object\n",
      "floofer               2097 non-null object\n",
      "pupper                2097 non-null object\n",
      "puppo                 2097 non-null object\n",
      "dtypes: int64(3), object(9)\n",
      "memory usage: 213.0+ KB\n"
     ]
    }
   ],
   "source": [
    "tweet_df_clean.info()"
   ]
  },
  {
   "cell_type": "code",
   "execution_count": 56,
   "metadata": {},
   "outputs": [],
   "source": [
    "tweet_df_clean = pd.merge(tweet_df_clean, tweet_count_df_clean, left_on = 'tweet_id', right_on = 'id')"
   ]
  },
  {
   "cell_type": "code",
   "execution_count": 57,
   "metadata": {},
   "outputs": [],
   "source": [
    "# drop 'id' since it contains the exact same information as 'tweet_id'\n",
    "tweet_df_clean = tweet_df_clean.drop(columns=['id'])"
   ]
  },
  {
   "cell_type": "code",
   "execution_count": 58,
   "metadata": {},
   "outputs": [
    {
     "name": "stdout",
     "output_type": "stream",
     "text": [
      "<class 'pandas.core.frame.DataFrame'>\n",
      "Int64Index: 2090 entries, 0 to 2089\n",
      "Data columns (total 14 columns):\n",
      "tweet_id              2090 non-null int64\n",
      "timestamp             2090 non-null object\n",
      "source                2090 non-null object\n",
      "text                  2090 non-null object\n",
      "expanded_urls         2087 non-null object\n",
      "rating_numerator      2090 non-null int64\n",
      "rating_denominator    2090 non-null int64\n",
      "name                  2090 non-null object\n",
      "doggo                 2090 non-null object\n",
      "floofer               2090 non-null object\n",
      "pupper                2090 non-null object\n",
      "puppo                 2090 non-null object\n",
      "favorite_count        2090 non-null int64\n",
      "retweet_count         2090 non-null int64\n",
      "dtypes: int64(5), object(9)\n",
      "memory usage: 244.9+ KB\n"
     ]
    }
   ],
   "source": [
    "# Ensure that there are no duplicate tweets in the data set\n",
    "tweet_df_clean.info()"
   ]
  },
  {
   "cell_type": "markdown",
   "metadata": {},
   "source": [
    "## B. Ensure that all Tweets Have Corresponding Image\n",
    "\n",
    "Each tweet should have a corresponding image, so any tweet data that does not have an image associated with it should be dropped. Since tweet IDs are available in both the tweet_df_clean and image_df_clean data frames, this can be used to compare the contents of the data frame. \n",
    "\n",
    "The below code shows for reference the number of tweets remaining in our tweet_df_clean data frame after previous cleaning operations and the number of tweets for which there is a matching entry in the images data frame (matching is done using the 'tweet_id' for both columns)."
   ]
  },
  {
   "cell_type": "code",
   "execution_count": 59,
   "metadata": {},
   "outputs": [
    {
     "data": {
      "text/plain": [
       "(2090, 1456)"
      ]
     },
     "execution_count": 59,
     "metadata": {},
     "output_type": "execute_result"
    }
   ],
   "source": [
    "len(tweet_df_clean.index), len(tweet_df_clean[tweet_df_clean['tweet_id'].isin(image_df_clean['tweet_id'])])"
   ]
  },
  {
   "cell_type": "code",
   "execution_count": 60,
   "metadata": {},
   "outputs": [],
   "source": [
    "# Any tweets that do not have an associated image will be dropped.\n",
    "\n",
    "tweet_df_clean = tweet_df_clean[tweet_df_clean['tweet_id'].isin(image_df_clean['tweet_id'])]"
   ]
  },
  {
   "cell_type": "code",
   "execution_count": 61,
   "metadata": {},
   "outputs": [
    {
     "name": "stdout",
     "output_type": "stream",
     "text": [
      "<class 'pandas.core.frame.DataFrame'>\n",
      "Int64Index: 1456 entries, 1 to 2089\n",
      "Data columns (total 14 columns):\n",
      "tweet_id              1456 non-null int64\n",
      "timestamp             1456 non-null object\n",
      "source                1456 non-null object\n",
      "text                  1456 non-null object\n",
      "expanded_urls         1456 non-null object\n",
      "rating_numerator      1456 non-null int64\n",
      "rating_denominator    1456 non-null int64\n",
      "name                  1456 non-null object\n",
      "doggo                 1456 non-null object\n",
      "floofer               1456 non-null object\n",
      "pupper                1456 non-null object\n",
      "puppo                 1456 non-null object\n",
      "favorite_count        1456 non-null int64\n",
      "retweet_count         1456 non-null int64\n",
      "dtypes: int64(5), object(9)\n",
      "memory usage: 170.6+ KB\n"
     ]
    }
   ],
   "source": [
    "tweet_df_clean.info()"
   ]
  },
  {
   "cell_type": "code",
   "execution_count": null,
   "metadata": {},
   "outputs": [],
   "source": []
  },
  {
   "cell_type": "markdown",
   "metadata": {},
   "source": [
    "To ensure that there is an image entry for every tweet, isin() can be used again to ensure that the length of the resulting tweet_df_clean is the same as the number of items in tweet_df for which there is a match in images_df. A match ensures that the operation was completed as expected."
   ]
  },
  {
   "cell_type": "code",
   "execution_count": 62,
   "metadata": {},
   "outputs": [
    {
     "data": {
      "text/plain": [
       "(1456, 1456)"
      ]
     },
     "execution_count": 62,
     "metadata": {},
     "output_type": "execute_result"
    }
   ],
   "source": [
    "len(tweet_df_clean.index), len(image_df_clean[image_df_clean['tweet_id'].isin(tweet_df_clean['tweet_id'])])"
   ]
  },
  {
   "cell_type": "code",
   "execution_count": 63,
   "metadata": {},
   "outputs": [
    {
     "data": {
      "text/plain": [
       "(1456, 1532)"
      ]
     },
     "execution_count": 63,
     "metadata": {},
     "output_type": "execute_result"
    }
   ],
   "source": [
    "len(tweet_df_clean.index), len(image_df_clean.index)"
   ]
  },
  {
   "cell_type": "markdown",
   "metadata": {},
   "source": [
    "## C. Ensure that all Images Have Corresponding Tweet\n",
    "\n",
    "The image_df_clean data frame should also be reviewed to ensure that it only contains images that correspond with tweets in our data set. This will be done with the same set of procedures used above."
   ]
  },
  {
   "cell_type": "code",
   "execution_count": 64,
   "metadata": {},
   "outputs": [
    {
     "data": {
      "text/plain": [
       "(1456, 1532)"
      ]
     },
     "execution_count": 64,
     "metadata": {},
     "output_type": "execute_result"
    }
   ],
   "source": [
    "len(tweet_df_clean.index), len(image_df_clean.index)"
   ]
  },
  {
   "cell_type": "code",
   "execution_count": 65,
   "metadata": {},
   "outputs": [],
   "source": [
    "# Any images that do not have an associated tweet will be dropped.\n",
    "\n",
    "image_df_clean = image_df_clean[image_df_clean['tweet_id'].isin(tweet_df_clean['tweet_id'])]"
   ]
  },
  {
   "cell_type": "code",
   "execution_count": 66,
   "metadata": {},
   "outputs": [
    {
     "data": {
      "text/plain": [
       "(1456, 1456)"
      ]
     },
     "execution_count": 66,
     "metadata": {},
     "output_type": "execute_result"
    }
   ],
   "source": [
    "len(tweet_df_clean.index), len(image_df_clean.index)"
   ]
  },
  {
   "cell_type": "markdown",
   "metadata": {},
   "source": [
    "# 4. Additional Steps to Tidy and Clean Data"
   ]
  },
  {
   "cell_type": "markdown",
   "metadata": {},
   "source": [
    "### A. Dog stage columns\n",
    "\n",
    "There are four columns for dog stage ('doggo', 'floofer', 'pupper', and 'puppo'), which should be condensed to one column that contains the stage of dog to make the data tidier. To confirm that only data regarding stage is stored in each column, series.unique() is run for each of the columns below."
   ]
  },
  {
   "cell_type": "code",
   "execution_count": 67,
   "metadata": {},
   "outputs": [
    {
     "data": {
      "text/plain": [
       "array(['None', 'floofer'], dtype=object)"
      ]
     },
     "execution_count": 67,
     "metadata": {},
     "output_type": "execute_result"
    }
   ],
   "source": [
    "tweet_df_clean['floofer'].unique()"
   ]
  },
  {
   "cell_type": "code",
   "execution_count": 68,
   "metadata": {
    "scrolled": true
   },
   "outputs": [
    {
     "data": {
      "text/plain": [
       "None       1448\n",
       "floofer       8\n",
       "Name: floofer, dtype: int64"
      ]
     },
     "execution_count": 68,
     "metadata": {},
     "output_type": "execute_result"
    }
   ],
   "source": [
    "tweet_df_clean['floofer'].value_counts()"
   ]
  },
  {
   "cell_type": "code",
   "execution_count": 69,
   "metadata": {},
   "outputs": [
    {
     "data": {
      "text/plain": [
       "array(['None', 'doggo'], dtype=object)"
      ]
     },
     "execution_count": 69,
     "metadata": {},
     "output_type": "execute_result"
    }
   ],
   "source": [
    "tweet_df_clean['doggo'].unique()"
   ]
  },
  {
   "cell_type": "code",
   "execution_count": 70,
   "metadata": {},
   "outputs": [
    {
     "data": {
      "text/plain": [
       "None     1400\n",
       "doggo      56\n",
       "Name: doggo, dtype: int64"
      ]
     },
     "execution_count": 70,
     "metadata": {},
     "output_type": "execute_result"
    }
   ],
   "source": [
    "tweet_df_clean['doggo'].value_counts()"
   ]
  },
  {
   "cell_type": "code",
   "execution_count": 71,
   "metadata": {},
   "outputs": [
    {
     "data": {
      "text/plain": [
       "array(['None', 'pupper'], dtype=object)"
      ]
     },
     "execution_count": 71,
     "metadata": {},
     "output_type": "execute_result"
    }
   ],
   "source": [
    "tweet_df_clean['pupper'].unique()"
   ]
  },
  {
   "cell_type": "code",
   "execution_count": 72,
   "metadata": {},
   "outputs": [
    {
     "data": {
      "text/plain": [
       "None      1305\n",
       "pupper     151\n",
       "Name: pupper, dtype: int64"
      ]
     },
     "execution_count": 72,
     "metadata": {},
     "output_type": "execute_result"
    }
   ],
   "source": [
    "tweet_df_clean['pupper'].value_counts()"
   ]
  },
  {
   "cell_type": "code",
   "execution_count": 73,
   "metadata": {},
   "outputs": [
    {
     "data": {
      "text/plain": [
       "array(['None', 'puppo'], dtype=object)"
      ]
     },
     "execution_count": 73,
     "metadata": {},
     "output_type": "execute_result"
    }
   ],
   "source": [
    "tweet_df_clean['puppo'].unique()"
   ]
  },
  {
   "cell_type": "code",
   "execution_count": 74,
   "metadata": {},
   "outputs": [
    {
     "data": {
      "text/plain": [
       "None     1436\n",
       "puppo      20\n",
       "Name: puppo, dtype: int64"
      ]
     },
     "execution_count": 74,
     "metadata": {},
     "output_type": "execute_result"
    }
   ],
   "source": [
    "tweet_df_clean['puppo'].value_counts()"
   ]
  },
  {
   "cell_type": "markdown",
   "metadata": {},
   "source": [
    "Based on the above value counts, there are a total of 235 values for the four dog stages. The next two cells return the number of entries that have no dog stage value and the number that have exactly one dog stage value."
   ]
  },
  {
   "cell_type": "code",
   "execution_count": 75,
   "metadata": {},
   "outputs": [
    {
     "data": {
      "text/plain": [
       "1230"
      ]
     },
     "execution_count": 75,
     "metadata": {},
     "output_type": "execute_result"
    }
   ],
   "source": [
    "len(tweet_df_clean[(tweet_df_clean['floofer'] == 'None') & (tweet_df_clean['doggo'] == 'None') & (tweet_df_clean['pupper'] == 'None') & (tweet_df_clean['puppo'] == 'None')])"
   ]
  },
  {
   "cell_type": "code",
   "execution_count": 76,
   "metadata": {},
   "outputs": [
    {
     "data": {
      "text/plain": [
       "217"
      ]
     },
     "execution_count": 76,
     "metadata": {},
     "output_type": "execute_result"
    }
   ],
   "source": [
    "len(tweet_df_clean[(tweet_df_clean['floofer'] == 'floofer') ^ (tweet_df_clean['doggo'] == 'doggo') ^ (tweet_df_clean['pupper'] == 'pupper') ^ (tweet_df_clean['puppo'] == 'puppo')])"
   ]
  },
  {
   "cell_type": "markdown",
   "metadata": {},
   "source": [
    "Based on the above calculations, we have 1,230 rows where are the no dog stages provided and 217 rows where exactly one value is provided. Based on the four value_counts() calls above, there are a total of 235 dog stage values. Given these two facts, it is plausible that there are nine rows with exactly two dog stage values. If this is the case, those rows would contain two dog stage values per row, or 18 total values. These 18 values in addition to the 217 unique value sum to the original 235 dog stage values obtained from the value counts on the individual dog stage columns."
   ]
  },
  {
   "cell_type": "code",
   "execution_count": 77,
   "metadata": {},
   "outputs": [
    {
     "name": "stdout",
     "output_type": "stream",
     "text": [
      "<class 'pandas.core.frame.DataFrame'>\n",
      "Int64Index: 1456 entries, 1 to 2089\n",
      "Data columns (total 4 columns):\n",
      "doggo      1456 non-null object\n",
      "floofer    1456 non-null object\n",
      "pupper     1456 non-null object\n",
      "puppo      1456 non-null object\n",
      "dtypes: object(4)\n",
      "memory usage: 56.9+ KB\n"
     ]
    }
   ],
   "source": [
    "tweet_df_clean[['doggo', 'floofer', 'pupper', 'puppo']].info()"
   ]
  },
  {
   "cell_type": "markdown",
   "metadata": {},
   "source": [
    "The strategy for replacing the "
   ]
  },
  {
   "cell_type": "code",
   "execution_count": 78,
   "metadata": {},
   "outputs": [],
   "source": [
    "stage_cols = ['doggo', 'floofer', 'pupper', 'puppo']\n",
    "\n",
    "for col in stage_cols:\n",
    "        tweet_df_clean[col] = tweet_df_clean[col].apply(lambda x: x.replace('None', ''))"
   ]
  },
  {
   "cell_type": "code",
   "execution_count": 79,
   "metadata": {},
   "outputs": [],
   "source": [
    "tweet_df_clean['dog_stage'] = tweet_df_clean['doggo'] + tweet_df_clean['floofer'] + tweet_df_clean['pupper'] + tweet_df_clean['puppo']"
   ]
  },
  {
   "cell_type": "code",
   "execution_count": 80,
   "metadata": {},
   "outputs": [],
   "source": [
    "tweet_df_clean = tweet_df_clean.drop(columns=['doggo', 'floofer', 'pupper', 'puppo'])"
   ]
  },
  {
   "cell_type": "code",
   "execution_count": 81,
   "metadata": {},
   "outputs": [],
   "source": [
    "tweet_df_clean['strlen'] = tweet_df_clean['dog_stage'].apply(lambda x: len(x))"
   ]
  },
  {
   "cell_type": "code",
   "execution_count": 82,
   "metadata": {},
   "outputs": [
    {
     "data": {
      "text/html": [
       "<div>\n",
       "<style scoped>\n",
       "    .dataframe tbody tr th:only-of-type {\n",
       "        vertical-align: middle;\n",
       "    }\n",
       "\n",
       "    .dataframe tbody tr th {\n",
       "        vertical-align: top;\n",
       "    }\n",
       "\n",
       "    .dataframe thead th {\n",
       "        text-align: right;\n",
       "    }\n",
       "</style>\n",
       "<table border=\"1\" class=\"dataframe\">\n",
       "  <thead>\n",
       "    <tr style=\"text-align: right;\">\n",
       "      <th></th>\n",
       "      <th>tweet_id</th>\n",
       "      <th>timestamp</th>\n",
       "      <th>source</th>\n",
       "      <th>text</th>\n",
       "      <th>expanded_urls</th>\n",
       "      <th>rating_numerator</th>\n",
       "      <th>rating_denominator</th>\n",
       "      <th>name</th>\n",
       "      <th>favorite_count</th>\n",
       "      <th>retweet_count</th>\n",
       "      <th>dog_stage</th>\n",
       "      <th>strlen</th>\n",
       "    </tr>\n",
       "  </thead>\n",
       "  <tbody>\n",
       "    <tr>\n",
       "      <th>153</th>\n",
       "      <td>855851453814013952</td>\n",
       "      <td>2017-04-22 18:31:02 +0000</td>\n",
       "      <td>&lt;a href=\"http://twitter.com/download/iphone\" r...</td>\n",
       "      <td>Here's a puppo participating in the #ScienceMa...</td>\n",
       "      <td>https://twitter.com/dog_rates/status/855851453...</td>\n",
       "      <td>13</td>\n",
       "      <td>10</td>\n",
       "      <td>None</td>\n",
       "      <td>44791</td>\n",
       "      <td>17503</td>\n",
       "      <td>doggopuppo</td>\n",
       "      <td>10</td>\n",
       "    </tr>\n",
       "    <tr>\n",
       "      <th>160</th>\n",
       "      <td>854010172552949760</td>\n",
       "      <td>2017-04-17 16:34:26 +0000</td>\n",
       "      <td>&lt;a href=\"http://twitter.com/download/iphone\" r...</td>\n",
       "      <td>At first I thought this was a shy doggo, but i...</td>\n",
       "      <td>https://twitter.com/dog_rates/status/854010172...</td>\n",
       "      <td>11</td>\n",
       "      <td>10</td>\n",
       "      <td>None</td>\n",
       "      <td>16003</td>\n",
       "      <td>3090</td>\n",
       "      <td>doggofloofer</td>\n",
       "      <td>12</td>\n",
       "    </tr>\n",
       "    <tr>\n",
       "      <th>354</th>\n",
       "      <td>817777686764523521</td>\n",
       "      <td>2017-01-07 16:59:28 +0000</td>\n",
       "      <td>&lt;a href=\"http://twitter.com/download/iphone\" r...</td>\n",
       "      <td>This is Dido. She's playing the lead role in \"...</td>\n",
       "      <td>https://twitter.com/dog_rates/status/817777686...</td>\n",
       "      <td>13</td>\n",
       "      <td>10</td>\n",
       "      <td>Dido</td>\n",
       "      <td>11031</td>\n",
       "      <td>2782</td>\n",
       "      <td>doggopupper</td>\n",
       "      <td>11</td>\n",
       "    </tr>\n",
       "    <tr>\n",
       "      <th>412</th>\n",
       "      <td>808106460588765185</td>\n",
       "      <td>2016-12-12 00:29:28 +0000</td>\n",
       "      <td>&lt;a href=\"http://twitter.com/download/iphone\" r...</td>\n",
       "      <td>Here we have Burke (pupper) and Dexter (doggo)...</td>\n",
       "      <td>https://twitter.com/dog_rates/status/808106460...</td>\n",
       "      <td>12</td>\n",
       "      <td>10</td>\n",
       "      <td>None</td>\n",
       "      <td>9071</td>\n",
       "      <td>2287</td>\n",
       "      <td>doggopupper</td>\n",
       "      <td>11</td>\n",
       "    </tr>\n",
       "    <tr>\n",
       "      <th>442</th>\n",
       "      <td>801115127852503040</td>\n",
       "      <td>2016-11-22 17:28:25 +0000</td>\n",
       "      <td>&lt;a href=\"http://twitter.com/download/iphone\" r...</td>\n",
       "      <td>This is Bones. He's being haunted by another d...</td>\n",
       "      <td>https://twitter.com/dog_rates/status/801115127...</td>\n",
       "      <td>12</td>\n",
       "      <td>10</td>\n",
       "      <td>Bones</td>\n",
       "      <td>8359</td>\n",
       "      <td>2186</td>\n",
       "      <td>doggopupper</td>\n",
       "      <td>11</td>\n",
       "    </tr>\n",
       "    <tr>\n",
       "      <th>684</th>\n",
       "      <td>759793422261743616</td>\n",
       "      <td>2016-07-31 16:50:42 +0000</td>\n",
       "      <td>&lt;a href=\"http://twitter.com/download/iphone\" r...</td>\n",
       "      <td>Meet Maggie &amp;amp; Lila. Maggie is the doggo, L...</td>\n",
       "      <td>https://twitter.com/dog_rates/status/759793422...</td>\n",
       "      <td>12</td>\n",
       "      <td>10</td>\n",
       "      <td>Maggie</td>\n",
       "      <td>6088</td>\n",
       "      <td>1949</td>\n",
       "      <td>doggopupper</td>\n",
       "      <td>11</td>\n",
       "    </tr>\n",
       "    <tr>\n",
       "      <th>742</th>\n",
       "      <td>751583847268179968</td>\n",
       "      <td>2016-07-09 01:08:47 +0000</td>\n",
       "      <td>&lt;a href=\"http://twitter.com/download/iphone\" r...</td>\n",
       "      <td>Please stop sending it pictures that don't eve...</td>\n",
       "      <td>https://twitter.com/dog_rates/status/751583847...</td>\n",
       "      <td>5</td>\n",
       "      <td>10</td>\n",
       "      <td>None</td>\n",
       "      <td>4474</td>\n",
       "      <td>1125</td>\n",
       "      <td>doggopupper</td>\n",
       "      <td>11</td>\n",
       "    </tr>\n",
       "    <tr>\n",
       "      <th>842</th>\n",
       "      <td>741067306818797568</td>\n",
       "      <td>2016-06-10 00:39:48 +0000</td>\n",
       "      <td>&lt;a href=\"http://twitter.com/download/iphone\" r...</td>\n",
       "      <td>This is just downright precious af. 12/10 for ...</td>\n",
       "      <td>https://twitter.com/dog_rates/status/741067306...</td>\n",
       "      <td>12</td>\n",
       "      <td>10</td>\n",
       "      <td>just</td>\n",
       "      <td>9586</td>\n",
       "      <td>3138</td>\n",
       "      <td>doggopupper</td>\n",
       "      <td>11</td>\n",
       "    </tr>\n",
       "    <tr>\n",
       "      <th>891</th>\n",
       "      <td>733109485275860992</td>\n",
       "      <td>2016-05-19 01:38:16 +0000</td>\n",
       "      <td>&lt;a href=\"http://twitter.com/download/iphone\" r...</td>\n",
       "      <td>Like father (doggo), like son (pupper). Both 1...</td>\n",
       "      <td>https://twitter.com/dog_rates/status/733109485...</td>\n",
       "      <td>12</td>\n",
       "      <td>10</td>\n",
       "      <td>None</td>\n",
       "      <td>50595</td>\n",
       "      <td>17017</td>\n",
       "      <td>doggopupper</td>\n",
       "      <td>11</td>\n",
       "    </tr>\n",
       "  </tbody>\n",
       "</table>\n",
       "</div>"
      ],
      "text/plain": [
       "               tweet_id                  timestamp  \\\n",
       "153  855851453814013952  2017-04-22 18:31:02 +0000   \n",
       "160  854010172552949760  2017-04-17 16:34:26 +0000   \n",
       "354  817777686764523521  2017-01-07 16:59:28 +0000   \n",
       "412  808106460588765185  2016-12-12 00:29:28 +0000   \n",
       "442  801115127852503040  2016-11-22 17:28:25 +0000   \n",
       "684  759793422261743616  2016-07-31 16:50:42 +0000   \n",
       "742  751583847268179968  2016-07-09 01:08:47 +0000   \n",
       "842  741067306818797568  2016-06-10 00:39:48 +0000   \n",
       "891  733109485275860992  2016-05-19 01:38:16 +0000   \n",
       "\n",
       "                                                source  \\\n",
       "153  <a href=\"http://twitter.com/download/iphone\" r...   \n",
       "160  <a href=\"http://twitter.com/download/iphone\" r...   \n",
       "354  <a href=\"http://twitter.com/download/iphone\" r...   \n",
       "412  <a href=\"http://twitter.com/download/iphone\" r...   \n",
       "442  <a href=\"http://twitter.com/download/iphone\" r...   \n",
       "684  <a href=\"http://twitter.com/download/iphone\" r...   \n",
       "742  <a href=\"http://twitter.com/download/iphone\" r...   \n",
       "842  <a href=\"http://twitter.com/download/iphone\" r...   \n",
       "891  <a href=\"http://twitter.com/download/iphone\" r...   \n",
       "\n",
       "                                                  text  \\\n",
       "153  Here's a puppo participating in the #ScienceMa...   \n",
       "160  At first I thought this was a shy doggo, but i...   \n",
       "354  This is Dido. She's playing the lead role in \"...   \n",
       "412  Here we have Burke (pupper) and Dexter (doggo)...   \n",
       "442  This is Bones. He's being haunted by another d...   \n",
       "684  Meet Maggie &amp; Lila. Maggie is the doggo, L...   \n",
       "742  Please stop sending it pictures that don't eve...   \n",
       "842  This is just downright precious af. 12/10 for ...   \n",
       "891  Like father (doggo), like son (pupper). Both 1...   \n",
       "\n",
       "                                         expanded_urls  rating_numerator  \\\n",
       "153  https://twitter.com/dog_rates/status/855851453...                13   \n",
       "160  https://twitter.com/dog_rates/status/854010172...                11   \n",
       "354  https://twitter.com/dog_rates/status/817777686...                13   \n",
       "412  https://twitter.com/dog_rates/status/808106460...                12   \n",
       "442  https://twitter.com/dog_rates/status/801115127...                12   \n",
       "684  https://twitter.com/dog_rates/status/759793422...                12   \n",
       "742  https://twitter.com/dog_rates/status/751583847...                 5   \n",
       "842  https://twitter.com/dog_rates/status/741067306...                12   \n",
       "891  https://twitter.com/dog_rates/status/733109485...                12   \n",
       "\n",
       "     rating_denominator    name  favorite_count  retweet_count     dog_stage  \\\n",
       "153                  10    None           44791          17503    doggopuppo   \n",
       "160                  10    None           16003           3090  doggofloofer   \n",
       "354                  10    Dido           11031           2782   doggopupper   \n",
       "412                  10    None            9071           2287   doggopupper   \n",
       "442                  10   Bones            8359           2186   doggopupper   \n",
       "684                  10  Maggie            6088           1949   doggopupper   \n",
       "742                  10    None            4474           1125   doggopupper   \n",
       "842                  10    just            9586           3138   doggopupper   \n",
       "891                  10    None           50595          17017   doggopupper   \n",
       "\n",
       "     strlen  \n",
       "153      10  \n",
       "160      12  \n",
       "354      11  \n",
       "412      11  \n",
       "442      11  \n",
       "684      11  \n",
       "742      11  \n",
       "842      11  \n",
       "891      11  "
      ]
     },
     "execution_count": 82,
     "metadata": {},
     "output_type": "execute_result"
    }
   ],
   "source": [
    "tweet_df_clean[tweet_df_clean['strlen'] > 7]"
   ]
  },
  {
   "cell_type": "code",
   "execution_count": 83,
   "metadata": {},
   "outputs": [],
   "source": [
    "def doggo_replace(s):\n",
    "    \n",
    "    val = s\n",
    "    \n",
    "    if len(val) > 7:\n",
    "        val = val.replace('doggo', '')\n",
    "    \n",
    "    return val"
   ]
  },
  {
   "cell_type": "code",
   "execution_count": 84,
   "metadata": {},
   "outputs": [],
   "source": [
    "tweet_df_clean['dog_stage'] = tweet_df_clean['dog_stage'].apply(lambda x: doggo_replace(x))"
   ]
  },
  {
   "cell_type": "code",
   "execution_count": 85,
   "metadata": {},
   "outputs": [
    {
     "data": {
      "text/html": [
       "<div>\n",
       "<style scoped>\n",
       "    .dataframe tbody tr th:only-of-type {\n",
       "        vertical-align: middle;\n",
       "    }\n",
       "\n",
       "    .dataframe tbody tr th {\n",
       "        vertical-align: top;\n",
       "    }\n",
       "\n",
       "    .dataframe thead th {\n",
       "        text-align: right;\n",
       "    }\n",
       "</style>\n",
       "<table border=\"1\" class=\"dataframe\">\n",
       "  <thead>\n",
       "    <tr style=\"text-align: right;\">\n",
       "      <th></th>\n",
       "      <th>tweet_id</th>\n",
       "      <th>timestamp</th>\n",
       "      <th>source</th>\n",
       "      <th>text</th>\n",
       "      <th>expanded_urls</th>\n",
       "      <th>rating_numerator</th>\n",
       "      <th>rating_denominator</th>\n",
       "      <th>name</th>\n",
       "      <th>favorite_count</th>\n",
       "      <th>retweet_count</th>\n",
       "      <th>dog_stage</th>\n",
       "      <th>strlen</th>\n",
       "    </tr>\n",
       "  </thead>\n",
       "  <tbody>\n",
       "    <tr>\n",
       "      <th>153</th>\n",
       "      <td>855851453814013952</td>\n",
       "      <td>2017-04-22 18:31:02 +0000</td>\n",
       "      <td>&lt;a href=\"http://twitter.com/download/iphone\" r...</td>\n",
       "      <td>Here's a puppo participating in the #ScienceMa...</td>\n",
       "      <td>https://twitter.com/dog_rates/status/855851453...</td>\n",
       "      <td>13</td>\n",
       "      <td>10</td>\n",
       "      <td>None</td>\n",
       "      <td>44791</td>\n",
       "      <td>17503</td>\n",
       "      <td>puppo</td>\n",
       "      <td>10</td>\n",
       "    </tr>\n",
       "    <tr>\n",
       "      <th>160</th>\n",
       "      <td>854010172552949760</td>\n",
       "      <td>2017-04-17 16:34:26 +0000</td>\n",
       "      <td>&lt;a href=\"http://twitter.com/download/iphone\" r...</td>\n",
       "      <td>At first I thought this was a shy doggo, but i...</td>\n",
       "      <td>https://twitter.com/dog_rates/status/854010172...</td>\n",
       "      <td>11</td>\n",
       "      <td>10</td>\n",
       "      <td>None</td>\n",
       "      <td>16003</td>\n",
       "      <td>3090</td>\n",
       "      <td>floofer</td>\n",
       "      <td>12</td>\n",
       "    </tr>\n",
       "    <tr>\n",
       "      <th>354</th>\n",
       "      <td>817777686764523521</td>\n",
       "      <td>2017-01-07 16:59:28 +0000</td>\n",
       "      <td>&lt;a href=\"http://twitter.com/download/iphone\" r...</td>\n",
       "      <td>This is Dido. She's playing the lead role in \"...</td>\n",
       "      <td>https://twitter.com/dog_rates/status/817777686...</td>\n",
       "      <td>13</td>\n",
       "      <td>10</td>\n",
       "      <td>Dido</td>\n",
       "      <td>11031</td>\n",
       "      <td>2782</td>\n",
       "      <td>pupper</td>\n",
       "      <td>11</td>\n",
       "    </tr>\n",
       "    <tr>\n",
       "      <th>412</th>\n",
       "      <td>808106460588765185</td>\n",
       "      <td>2016-12-12 00:29:28 +0000</td>\n",
       "      <td>&lt;a href=\"http://twitter.com/download/iphone\" r...</td>\n",
       "      <td>Here we have Burke (pupper) and Dexter (doggo)...</td>\n",
       "      <td>https://twitter.com/dog_rates/status/808106460...</td>\n",
       "      <td>12</td>\n",
       "      <td>10</td>\n",
       "      <td>None</td>\n",
       "      <td>9071</td>\n",
       "      <td>2287</td>\n",
       "      <td>pupper</td>\n",
       "      <td>11</td>\n",
       "    </tr>\n",
       "    <tr>\n",
       "      <th>442</th>\n",
       "      <td>801115127852503040</td>\n",
       "      <td>2016-11-22 17:28:25 +0000</td>\n",
       "      <td>&lt;a href=\"http://twitter.com/download/iphone\" r...</td>\n",
       "      <td>This is Bones. He's being haunted by another d...</td>\n",
       "      <td>https://twitter.com/dog_rates/status/801115127...</td>\n",
       "      <td>12</td>\n",
       "      <td>10</td>\n",
       "      <td>Bones</td>\n",
       "      <td>8359</td>\n",
       "      <td>2186</td>\n",
       "      <td>pupper</td>\n",
       "      <td>11</td>\n",
       "    </tr>\n",
       "    <tr>\n",
       "      <th>684</th>\n",
       "      <td>759793422261743616</td>\n",
       "      <td>2016-07-31 16:50:42 +0000</td>\n",
       "      <td>&lt;a href=\"http://twitter.com/download/iphone\" r...</td>\n",
       "      <td>Meet Maggie &amp;amp; Lila. Maggie is the doggo, L...</td>\n",
       "      <td>https://twitter.com/dog_rates/status/759793422...</td>\n",
       "      <td>12</td>\n",
       "      <td>10</td>\n",
       "      <td>Maggie</td>\n",
       "      <td>6088</td>\n",
       "      <td>1949</td>\n",
       "      <td>pupper</td>\n",
       "      <td>11</td>\n",
       "    </tr>\n",
       "    <tr>\n",
       "      <th>742</th>\n",
       "      <td>751583847268179968</td>\n",
       "      <td>2016-07-09 01:08:47 +0000</td>\n",
       "      <td>&lt;a href=\"http://twitter.com/download/iphone\" r...</td>\n",
       "      <td>Please stop sending it pictures that don't eve...</td>\n",
       "      <td>https://twitter.com/dog_rates/status/751583847...</td>\n",
       "      <td>5</td>\n",
       "      <td>10</td>\n",
       "      <td>None</td>\n",
       "      <td>4474</td>\n",
       "      <td>1125</td>\n",
       "      <td>pupper</td>\n",
       "      <td>11</td>\n",
       "    </tr>\n",
       "    <tr>\n",
       "      <th>842</th>\n",
       "      <td>741067306818797568</td>\n",
       "      <td>2016-06-10 00:39:48 +0000</td>\n",
       "      <td>&lt;a href=\"http://twitter.com/download/iphone\" r...</td>\n",
       "      <td>This is just downright precious af. 12/10 for ...</td>\n",
       "      <td>https://twitter.com/dog_rates/status/741067306...</td>\n",
       "      <td>12</td>\n",
       "      <td>10</td>\n",
       "      <td>just</td>\n",
       "      <td>9586</td>\n",
       "      <td>3138</td>\n",
       "      <td>pupper</td>\n",
       "      <td>11</td>\n",
       "    </tr>\n",
       "    <tr>\n",
       "      <th>891</th>\n",
       "      <td>733109485275860992</td>\n",
       "      <td>2016-05-19 01:38:16 +0000</td>\n",
       "      <td>&lt;a href=\"http://twitter.com/download/iphone\" r...</td>\n",
       "      <td>Like father (doggo), like son (pupper). Both 1...</td>\n",
       "      <td>https://twitter.com/dog_rates/status/733109485...</td>\n",
       "      <td>12</td>\n",
       "      <td>10</td>\n",
       "      <td>None</td>\n",
       "      <td>50595</td>\n",
       "      <td>17017</td>\n",
       "      <td>pupper</td>\n",
       "      <td>11</td>\n",
       "    </tr>\n",
       "  </tbody>\n",
       "</table>\n",
       "</div>"
      ],
      "text/plain": [
       "               tweet_id                  timestamp  \\\n",
       "153  855851453814013952  2017-04-22 18:31:02 +0000   \n",
       "160  854010172552949760  2017-04-17 16:34:26 +0000   \n",
       "354  817777686764523521  2017-01-07 16:59:28 +0000   \n",
       "412  808106460588765185  2016-12-12 00:29:28 +0000   \n",
       "442  801115127852503040  2016-11-22 17:28:25 +0000   \n",
       "684  759793422261743616  2016-07-31 16:50:42 +0000   \n",
       "742  751583847268179968  2016-07-09 01:08:47 +0000   \n",
       "842  741067306818797568  2016-06-10 00:39:48 +0000   \n",
       "891  733109485275860992  2016-05-19 01:38:16 +0000   \n",
       "\n",
       "                                                source  \\\n",
       "153  <a href=\"http://twitter.com/download/iphone\" r...   \n",
       "160  <a href=\"http://twitter.com/download/iphone\" r...   \n",
       "354  <a href=\"http://twitter.com/download/iphone\" r...   \n",
       "412  <a href=\"http://twitter.com/download/iphone\" r...   \n",
       "442  <a href=\"http://twitter.com/download/iphone\" r...   \n",
       "684  <a href=\"http://twitter.com/download/iphone\" r...   \n",
       "742  <a href=\"http://twitter.com/download/iphone\" r...   \n",
       "842  <a href=\"http://twitter.com/download/iphone\" r...   \n",
       "891  <a href=\"http://twitter.com/download/iphone\" r...   \n",
       "\n",
       "                                                  text  \\\n",
       "153  Here's a puppo participating in the #ScienceMa...   \n",
       "160  At first I thought this was a shy doggo, but i...   \n",
       "354  This is Dido. She's playing the lead role in \"...   \n",
       "412  Here we have Burke (pupper) and Dexter (doggo)...   \n",
       "442  This is Bones. He's being haunted by another d...   \n",
       "684  Meet Maggie &amp; Lila. Maggie is the doggo, L...   \n",
       "742  Please stop sending it pictures that don't eve...   \n",
       "842  This is just downright precious af. 12/10 for ...   \n",
       "891  Like father (doggo), like son (pupper). Both 1...   \n",
       "\n",
       "                                         expanded_urls  rating_numerator  \\\n",
       "153  https://twitter.com/dog_rates/status/855851453...                13   \n",
       "160  https://twitter.com/dog_rates/status/854010172...                11   \n",
       "354  https://twitter.com/dog_rates/status/817777686...                13   \n",
       "412  https://twitter.com/dog_rates/status/808106460...                12   \n",
       "442  https://twitter.com/dog_rates/status/801115127...                12   \n",
       "684  https://twitter.com/dog_rates/status/759793422...                12   \n",
       "742  https://twitter.com/dog_rates/status/751583847...                 5   \n",
       "842  https://twitter.com/dog_rates/status/741067306...                12   \n",
       "891  https://twitter.com/dog_rates/status/733109485...                12   \n",
       "\n",
       "     rating_denominator    name  favorite_count  retweet_count dog_stage  \\\n",
       "153                  10    None           44791          17503     puppo   \n",
       "160                  10    None           16003           3090   floofer   \n",
       "354                  10    Dido           11031           2782    pupper   \n",
       "412                  10    None            9071           2287    pupper   \n",
       "442                  10   Bones            8359           2186    pupper   \n",
       "684                  10  Maggie            6088           1949    pupper   \n",
       "742                  10    None            4474           1125    pupper   \n",
       "842                  10    just            9586           3138    pupper   \n",
       "891                  10    None           50595          17017    pupper   \n",
       "\n",
       "     strlen  \n",
       "153      10  \n",
       "160      12  \n",
       "354      11  \n",
       "412      11  \n",
       "442      11  \n",
       "684      11  \n",
       "742      11  \n",
       "842      11  \n",
       "891      11  "
      ]
     },
     "execution_count": 85,
     "metadata": {},
     "output_type": "execute_result"
    }
   ],
   "source": [
    "tweet_df_clean[tweet_df_clean['strlen'] > 7]"
   ]
  },
  {
   "cell_type": "code",
   "execution_count": 86,
   "metadata": {},
   "outputs": [
    {
     "data": {
      "text/plain": [
       "array(['', 'doggo', 'puppo', 'pupper', 'floofer'], dtype=object)"
      ]
     },
     "execution_count": 86,
     "metadata": {},
     "output_type": "execute_result"
    }
   ],
   "source": [
    "tweet_df_clean['dog_stage'].unique()"
   ]
  },
  {
   "cell_type": "code",
   "execution_count": 87,
   "metadata": {},
   "outputs": [],
   "source": [
    "def blank_replace(s):\n",
    "    \n",
    "    val = s\n",
    "    \n",
    "    if val == '':\n",
    "        val = 'None'\n",
    "    \n",
    "    return val"
   ]
  },
  {
   "cell_type": "code",
   "execution_count": 88,
   "metadata": {},
   "outputs": [],
   "source": [
    "tweet_df_clean['dog_stage'] = tweet_df_clean['dog_stage'].apply(lambda x: blank_replace(x))"
   ]
  },
  {
   "cell_type": "code",
   "execution_count": 89,
   "metadata": {
    "scrolled": false
   },
   "outputs": [
    {
     "data": {
      "text/plain": [
       "None       1230\n",
       "pupper      151\n",
       "doggo        47\n",
       "puppo        20\n",
       "floofer       8\n",
       "Name: dog_stage, dtype: int64"
      ]
     },
     "execution_count": 89,
     "metadata": {},
     "output_type": "execute_result"
    }
   ],
   "source": [
    "tweet_df_clean['dog_stage'].value_counts()"
   ]
  },
  {
   "cell_type": "code",
   "execution_count": 90,
   "metadata": {},
   "outputs": [],
   "source": [
    "tweet_df_clean = tweet_df_clean.drop(columns=['strlen'])"
   ]
  },
  {
   "cell_type": "code",
   "execution_count": 91,
   "metadata": {},
   "outputs": [
    {
     "data": {
      "text/html": [
       "<div>\n",
       "<style scoped>\n",
       "    .dataframe tbody tr th:only-of-type {\n",
       "        vertical-align: middle;\n",
       "    }\n",
       "\n",
       "    .dataframe tbody tr th {\n",
       "        vertical-align: top;\n",
       "    }\n",
       "\n",
       "    .dataframe thead th {\n",
       "        text-align: right;\n",
       "    }\n",
       "</style>\n",
       "<table border=\"1\" class=\"dataframe\">\n",
       "  <thead>\n",
       "    <tr style=\"text-align: right;\">\n",
       "      <th></th>\n",
       "      <th>tweet_id</th>\n",
       "      <th>timestamp</th>\n",
       "      <th>source</th>\n",
       "      <th>text</th>\n",
       "      <th>expanded_urls</th>\n",
       "      <th>rating_numerator</th>\n",
       "      <th>rating_denominator</th>\n",
       "      <th>name</th>\n",
       "      <th>favorite_count</th>\n",
       "      <th>retweet_count</th>\n",
       "      <th>dog_stage</th>\n",
       "    </tr>\n",
       "  </thead>\n",
       "  <tbody>\n",
       "    <tr>\n",
       "      <th>1</th>\n",
       "      <td>892177421306343426</td>\n",
       "      <td>2017-08-01 00:17:27 +0000</td>\n",
       "      <td>&lt;a href=\"http://twitter.com/download/iphone\" r...</td>\n",
       "      <td>This is Tilly. She's just checking pup on you....</td>\n",
       "      <td>https://twitter.com/dog_rates/status/892177421...</td>\n",
       "      <td>13</td>\n",
       "      <td>10</td>\n",
       "      <td>Tilly</td>\n",
       "      <td>31557</td>\n",
       "      <td>5779</td>\n",
       "      <td>None</td>\n",
       "    </tr>\n",
       "    <tr>\n",
       "      <th>2</th>\n",
       "      <td>891815181378084864</td>\n",
       "      <td>2017-07-31 00:18:03 +0000</td>\n",
       "      <td>&lt;a href=\"http://twitter.com/download/iphone\" r...</td>\n",
       "      <td>This is Archie. He is a rare Norwegian Pouncin...</td>\n",
       "      <td>https://twitter.com/dog_rates/status/891815181...</td>\n",
       "      <td>12</td>\n",
       "      <td>10</td>\n",
       "      <td>Archie</td>\n",
       "      <td>23772</td>\n",
       "      <td>3824</td>\n",
       "      <td>None</td>\n",
       "    </tr>\n",
       "    <tr>\n",
       "      <th>4</th>\n",
       "      <td>891327558926688256</td>\n",
       "      <td>2017-07-29 16:00:24 +0000</td>\n",
       "      <td>&lt;a href=\"http://twitter.com/download/iphone\" r...</td>\n",
       "      <td>This is Franklin. He would like you to stop ca...</td>\n",
       "      <td>https://twitter.com/dog_rates/status/891327558...</td>\n",
       "      <td>12</td>\n",
       "      <td>10</td>\n",
       "      <td>Franklin</td>\n",
       "      <td>38152</td>\n",
       "      <td>8605</td>\n",
       "      <td>None</td>\n",
       "    </tr>\n",
       "    <tr>\n",
       "      <th>5</th>\n",
       "      <td>891087950875897856</td>\n",
       "      <td>2017-07-29 00:08:17 +0000</td>\n",
       "      <td>&lt;a href=\"http://twitter.com/download/iphone\" r...</td>\n",
       "      <td>Here we have a majestic great white breaching ...</td>\n",
       "      <td>https://twitter.com/dog_rates/status/891087950...</td>\n",
       "      <td>13</td>\n",
       "      <td>10</td>\n",
       "      <td>None</td>\n",
       "      <td>19192</td>\n",
       "      <td>2871</td>\n",
       "      <td>None</td>\n",
       "    </tr>\n",
       "    <tr>\n",
       "      <th>6</th>\n",
       "      <td>890971913173991426</td>\n",
       "      <td>2017-07-28 16:27:12 +0000</td>\n",
       "      <td>&lt;a href=\"http://twitter.com/download/iphone\" r...</td>\n",
       "      <td>Meet Jax. He enjoys ice cream so much he gets ...</td>\n",
       "      <td>https://gofundme.com/ydvmve-surgery-for-jax,ht...</td>\n",
       "      <td>13</td>\n",
       "      <td>10</td>\n",
       "      <td>Jax</td>\n",
       "      <td>11183</td>\n",
       "      <td>1889</td>\n",
       "      <td>None</td>\n",
       "    </tr>\n",
       "    <tr>\n",
       "      <th>7</th>\n",
       "      <td>890729181411237888</td>\n",
       "      <td>2017-07-28 00:22:40 +0000</td>\n",
       "      <td>&lt;a href=\"http://twitter.com/download/iphone\" r...</td>\n",
       "      <td>When you watch your owner call another dog a g...</td>\n",
       "      <td>https://twitter.com/dog_rates/status/890729181...</td>\n",
       "      <td>13</td>\n",
       "      <td>10</td>\n",
       "      <td>None</td>\n",
       "      <td>61755</td>\n",
       "      <td>17420</td>\n",
       "      <td>None</td>\n",
       "    </tr>\n",
       "    <tr>\n",
       "      <th>8</th>\n",
       "      <td>890609185150312448</td>\n",
       "      <td>2017-07-27 16:25:51 +0000</td>\n",
       "      <td>&lt;a href=\"http://twitter.com/download/iphone\" r...</td>\n",
       "      <td>This is Zoey. She doesn't want to be one of th...</td>\n",
       "      <td>https://twitter.com/dog_rates/status/890609185...</td>\n",
       "      <td>13</td>\n",
       "      <td>10</td>\n",
       "      <td>Zoey</td>\n",
       "      <td>26435</td>\n",
       "      <td>3961</td>\n",
       "      <td>None</td>\n",
       "    </tr>\n",
       "    <tr>\n",
       "      <th>9</th>\n",
       "      <td>890240255349198849</td>\n",
       "      <td>2017-07-26 15:59:51 +0000</td>\n",
       "      <td>&lt;a href=\"http://twitter.com/download/iphone\" r...</td>\n",
       "      <td>This is Cassie. She is a college pup. Studying...</td>\n",
       "      <td>https://twitter.com/dog_rates/status/890240255...</td>\n",
       "      <td>14</td>\n",
       "      <td>10</td>\n",
       "      <td>Cassie</td>\n",
       "      <td>30232</td>\n",
       "      <td>6784</td>\n",
       "      <td>doggo</td>\n",
       "    </tr>\n",
       "    <tr>\n",
       "      <th>10</th>\n",
       "      <td>890006608113172480</td>\n",
       "      <td>2017-07-26 00:31:25 +0000</td>\n",
       "      <td>&lt;a href=\"http://twitter.com/download/iphone\" r...</td>\n",
       "      <td>This is Koda. He is a South Australian decksha...</td>\n",
       "      <td>https://twitter.com/dog_rates/status/890006608...</td>\n",
       "      <td>13</td>\n",
       "      <td>10</td>\n",
       "      <td>Koda</td>\n",
       "      <td>29093</td>\n",
       "      <td>6768</td>\n",
       "      <td>None</td>\n",
       "    </tr>\n",
       "    <tr>\n",
       "      <th>11</th>\n",
       "      <td>889880896479866881</td>\n",
       "      <td>2017-07-25 16:11:53 +0000</td>\n",
       "      <td>&lt;a href=\"http://twitter.com/download/iphone\" r...</td>\n",
       "      <td>This is Bruno. He is a service shark. Only get...</td>\n",
       "      <td>https://twitter.com/dog_rates/status/889880896...</td>\n",
       "      <td>13</td>\n",
       "      <td>10</td>\n",
       "      <td>Bruno</td>\n",
       "      <td>26432</td>\n",
       "      <td>4615</td>\n",
       "      <td>None</td>\n",
       "    </tr>\n",
       "  </tbody>\n",
       "</table>\n",
       "</div>"
      ],
      "text/plain": [
       "              tweet_id                  timestamp  \\\n",
       "1   892177421306343426  2017-08-01 00:17:27 +0000   \n",
       "2   891815181378084864  2017-07-31 00:18:03 +0000   \n",
       "4   891327558926688256  2017-07-29 16:00:24 +0000   \n",
       "5   891087950875897856  2017-07-29 00:08:17 +0000   \n",
       "6   890971913173991426  2017-07-28 16:27:12 +0000   \n",
       "7   890729181411237888  2017-07-28 00:22:40 +0000   \n",
       "8   890609185150312448  2017-07-27 16:25:51 +0000   \n",
       "9   890240255349198849  2017-07-26 15:59:51 +0000   \n",
       "10  890006608113172480  2017-07-26 00:31:25 +0000   \n",
       "11  889880896479866881  2017-07-25 16:11:53 +0000   \n",
       "\n",
       "                                               source  \\\n",
       "1   <a href=\"http://twitter.com/download/iphone\" r...   \n",
       "2   <a href=\"http://twitter.com/download/iphone\" r...   \n",
       "4   <a href=\"http://twitter.com/download/iphone\" r...   \n",
       "5   <a href=\"http://twitter.com/download/iphone\" r...   \n",
       "6   <a href=\"http://twitter.com/download/iphone\" r...   \n",
       "7   <a href=\"http://twitter.com/download/iphone\" r...   \n",
       "8   <a href=\"http://twitter.com/download/iphone\" r...   \n",
       "9   <a href=\"http://twitter.com/download/iphone\" r...   \n",
       "10  <a href=\"http://twitter.com/download/iphone\" r...   \n",
       "11  <a href=\"http://twitter.com/download/iphone\" r...   \n",
       "\n",
       "                                                 text  \\\n",
       "1   This is Tilly. She's just checking pup on you....   \n",
       "2   This is Archie. He is a rare Norwegian Pouncin...   \n",
       "4   This is Franklin. He would like you to stop ca...   \n",
       "5   Here we have a majestic great white breaching ...   \n",
       "6   Meet Jax. He enjoys ice cream so much he gets ...   \n",
       "7   When you watch your owner call another dog a g...   \n",
       "8   This is Zoey. She doesn't want to be one of th...   \n",
       "9   This is Cassie. She is a college pup. Studying...   \n",
       "10  This is Koda. He is a South Australian decksha...   \n",
       "11  This is Bruno. He is a service shark. Only get...   \n",
       "\n",
       "                                        expanded_urls  rating_numerator  \\\n",
       "1   https://twitter.com/dog_rates/status/892177421...                13   \n",
       "2   https://twitter.com/dog_rates/status/891815181...                12   \n",
       "4   https://twitter.com/dog_rates/status/891327558...                12   \n",
       "5   https://twitter.com/dog_rates/status/891087950...                13   \n",
       "6   https://gofundme.com/ydvmve-surgery-for-jax,ht...                13   \n",
       "7   https://twitter.com/dog_rates/status/890729181...                13   \n",
       "8   https://twitter.com/dog_rates/status/890609185...                13   \n",
       "9   https://twitter.com/dog_rates/status/890240255...                14   \n",
       "10  https://twitter.com/dog_rates/status/890006608...                13   \n",
       "11  https://twitter.com/dog_rates/status/889880896...                13   \n",
       "\n",
       "    rating_denominator      name  favorite_count  retweet_count dog_stage  \n",
       "1                   10     Tilly           31557           5779      None  \n",
       "2                   10    Archie           23772           3824      None  \n",
       "4                   10  Franklin           38152           8605      None  \n",
       "5                   10      None           19192           2871      None  \n",
       "6                   10       Jax           11183           1889      None  \n",
       "7                   10      None           61755          17420      None  \n",
       "8                   10      Zoey           26435           3961      None  \n",
       "9                   10    Cassie           30232           6784     doggo  \n",
       "10                  10      Koda           29093           6768      None  \n",
       "11                  10     Bruno           26432           4615      None  "
      ]
     },
     "execution_count": 91,
     "metadata": {},
     "output_type": "execute_result"
    }
   ],
   "source": [
    "tweet_df_clean.head(10)"
   ]
  },
  {
   "cell_type": "markdown",
   "metadata": {},
   "source": [
    "### B. Column Data Types\n",
    "\n",
    "In both the tweet_df_clean and images_df_clean data frames, the 'tweet_id' column stores tweet IDs as integers. Since these data are used only for identification, no mathematical operations should be done with them. Therefore 'tweet_id' should be converted to a string. \n",
    "\n",
    "The column 'retweeted_status_timestamp' is currently string type data that should be converted to date-time."
   ]
  },
  {
   "cell_type": "code",
   "execution_count": 92,
   "metadata": {},
   "outputs": [
    {
     "name": "stdout",
     "output_type": "stream",
     "text": [
      "<class 'pandas.core.frame.DataFrame'>\n",
      "Int64Index: 1456 entries, 1 to 2089\n",
      "Data columns (total 11 columns):\n",
      "tweet_id              1456 non-null int64\n",
      "timestamp             1456 non-null object\n",
      "source                1456 non-null object\n",
      "text                  1456 non-null object\n",
      "expanded_urls         1456 non-null object\n",
      "rating_numerator      1456 non-null int64\n",
      "rating_denominator    1456 non-null int64\n",
      "name                  1456 non-null object\n",
      "favorite_count        1456 non-null int64\n",
      "retweet_count         1456 non-null int64\n",
      "dog_stage             1456 non-null object\n",
      "dtypes: int64(5), object(6)\n",
      "memory usage: 136.5+ KB\n"
     ]
    }
   ],
   "source": [
    "tweet_df_clean.info()"
   ]
  },
  {
   "cell_type": "code",
   "execution_count": 93,
   "metadata": {},
   "outputs": [
    {
     "name": "stdout",
     "output_type": "stream",
     "text": [
      "<class 'pandas.core.frame.DataFrame'>\n",
      "Int64Index: 1456 entries, 0 to 2073\n",
      "Data columns (total 12 columns):\n",
      "tweet_id    1456 non-null int64\n",
      "jpg_url     1456 non-null object\n",
      "img_num     1456 non-null int64\n",
      "p1          1456 non-null object\n",
      "p1_conf     1456 non-null float64\n",
      "p1_dog      1456 non-null bool\n",
      "p2          1456 non-null object\n",
      "p2_conf     1456 non-null float64\n",
      "p2_dog      1456 non-null bool\n",
      "p3          1456 non-null object\n",
      "p3_conf     1456 non-null float64\n",
      "p3_dog      1456 non-null bool\n",
      "dtypes: bool(3), float64(3), int64(2), object(4)\n",
      "memory usage: 118.0+ KB\n"
     ]
    }
   ],
   "source": [
    "image_df_clean.info()"
   ]
  },
  {
   "cell_type": "code",
   "execution_count": 94,
   "metadata": {},
   "outputs": [
    {
     "name": "stdout",
     "output_type": "stream",
     "text": [
      "<class 'pandas.core.frame.DataFrame'>\n",
      "Int64Index: 1456 entries, 0 to 2073\n",
      "Data columns (total 12 columns):\n",
      "tweet_id    1456 non-null int64\n",
      "jpg_url     1456 non-null object\n",
      "img_num     1456 non-null int64\n",
      "p1          1456 non-null object\n",
      "p1_conf     1456 non-null float64\n",
      "p1_dog      1456 non-null bool\n",
      "p2          1456 non-null object\n",
      "p2_conf     1456 non-null float64\n",
      "p2_dog      1456 non-null bool\n",
      "p3          1456 non-null object\n",
      "p3_conf     1456 non-null float64\n",
      "p3_dog      1456 non-null bool\n",
      "dtypes: bool(3), float64(3), int64(2), object(4)\n",
      "memory usage: 118.0+ KB\n"
     ]
    }
   ],
   "source": [
    "image_df_clean.info()"
   ]
  },
  {
   "cell_type": "code",
   "execution_count": 95,
   "metadata": {},
   "outputs": [],
   "source": [
    "tweet_df_clean['tweet_id'] = tweet_df_clean['tweet_id'].astype(str)\n",
    "image_df_clean['tweet_id'] = image_df_clean['tweet_id'].astype(str)\n",
    "tweet_df_clean['timestamp'] = pd.to_datetime(tweet_df_clean['timestamp'])"
   ]
  },
  {
   "cell_type": "code",
   "execution_count": 96,
   "metadata": {},
   "outputs": [
    {
     "data": {
      "text/html": [
       "<div>\n",
       "<style scoped>\n",
       "    .dataframe tbody tr th:only-of-type {\n",
       "        vertical-align: middle;\n",
       "    }\n",
       "\n",
       "    .dataframe tbody tr th {\n",
       "        vertical-align: top;\n",
       "    }\n",
       "\n",
       "    .dataframe thead th {\n",
       "        text-align: right;\n",
       "    }\n",
       "</style>\n",
       "<table border=\"1\" class=\"dataframe\">\n",
       "  <thead>\n",
       "    <tr style=\"text-align: right;\">\n",
       "      <th></th>\n",
       "      <th>tweet_id</th>\n",
       "      <th>timestamp</th>\n",
       "      <th>source</th>\n",
       "      <th>text</th>\n",
       "      <th>expanded_urls</th>\n",
       "      <th>rating_numerator</th>\n",
       "      <th>rating_denominator</th>\n",
       "      <th>name</th>\n",
       "      <th>favorite_count</th>\n",
       "      <th>retweet_count</th>\n",
       "      <th>dog_stage</th>\n",
       "    </tr>\n",
       "  </thead>\n",
       "  <tbody>\n",
       "    <tr>\n",
       "      <th>1</th>\n",
       "      <td>892177421306343426</td>\n",
       "      <td>2017-08-01 00:17:27</td>\n",
       "      <td>&lt;a href=\"http://twitter.com/download/iphone\" r...</td>\n",
       "      <td>This is Tilly. She's just checking pup on you....</td>\n",
       "      <td>https://twitter.com/dog_rates/status/892177421...</td>\n",
       "      <td>13</td>\n",
       "      <td>10</td>\n",
       "      <td>Tilly</td>\n",
       "      <td>31557</td>\n",
       "      <td>5779</td>\n",
       "      <td>None</td>\n",
       "    </tr>\n",
       "    <tr>\n",
       "      <th>2</th>\n",
       "      <td>891815181378084864</td>\n",
       "      <td>2017-07-31 00:18:03</td>\n",
       "      <td>&lt;a href=\"http://twitter.com/download/iphone\" r...</td>\n",
       "      <td>This is Archie. He is a rare Norwegian Pouncin...</td>\n",
       "      <td>https://twitter.com/dog_rates/status/891815181...</td>\n",
       "      <td>12</td>\n",
       "      <td>10</td>\n",
       "      <td>Archie</td>\n",
       "      <td>23772</td>\n",
       "      <td>3824</td>\n",
       "      <td>None</td>\n",
       "    </tr>\n",
       "    <tr>\n",
       "      <th>4</th>\n",
       "      <td>891327558926688256</td>\n",
       "      <td>2017-07-29 16:00:24</td>\n",
       "      <td>&lt;a href=\"http://twitter.com/download/iphone\" r...</td>\n",
       "      <td>This is Franklin. He would like you to stop ca...</td>\n",
       "      <td>https://twitter.com/dog_rates/status/891327558...</td>\n",
       "      <td>12</td>\n",
       "      <td>10</td>\n",
       "      <td>Franklin</td>\n",
       "      <td>38152</td>\n",
       "      <td>8605</td>\n",
       "      <td>None</td>\n",
       "    </tr>\n",
       "    <tr>\n",
       "      <th>5</th>\n",
       "      <td>891087950875897856</td>\n",
       "      <td>2017-07-29 00:08:17</td>\n",
       "      <td>&lt;a href=\"http://twitter.com/download/iphone\" r...</td>\n",
       "      <td>Here we have a majestic great white breaching ...</td>\n",
       "      <td>https://twitter.com/dog_rates/status/891087950...</td>\n",
       "      <td>13</td>\n",
       "      <td>10</td>\n",
       "      <td>None</td>\n",
       "      <td>19192</td>\n",
       "      <td>2871</td>\n",
       "      <td>None</td>\n",
       "    </tr>\n",
       "    <tr>\n",
       "      <th>6</th>\n",
       "      <td>890971913173991426</td>\n",
       "      <td>2017-07-28 16:27:12</td>\n",
       "      <td>&lt;a href=\"http://twitter.com/download/iphone\" r...</td>\n",
       "      <td>Meet Jax. He enjoys ice cream so much he gets ...</td>\n",
       "      <td>https://gofundme.com/ydvmve-surgery-for-jax,ht...</td>\n",
       "      <td>13</td>\n",
       "      <td>10</td>\n",
       "      <td>Jax</td>\n",
       "      <td>11183</td>\n",
       "      <td>1889</td>\n",
       "      <td>None</td>\n",
       "    </tr>\n",
       "  </tbody>\n",
       "</table>\n",
       "</div>"
      ],
      "text/plain": [
       "             tweet_id           timestamp  \\\n",
       "1  892177421306343426 2017-08-01 00:17:27   \n",
       "2  891815181378084864 2017-07-31 00:18:03   \n",
       "4  891327558926688256 2017-07-29 16:00:24   \n",
       "5  891087950875897856 2017-07-29 00:08:17   \n",
       "6  890971913173991426 2017-07-28 16:27:12   \n",
       "\n",
       "                                              source  \\\n",
       "1  <a href=\"http://twitter.com/download/iphone\" r...   \n",
       "2  <a href=\"http://twitter.com/download/iphone\" r...   \n",
       "4  <a href=\"http://twitter.com/download/iphone\" r...   \n",
       "5  <a href=\"http://twitter.com/download/iphone\" r...   \n",
       "6  <a href=\"http://twitter.com/download/iphone\" r...   \n",
       "\n",
       "                                                text  \\\n",
       "1  This is Tilly. She's just checking pup on you....   \n",
       "2  This is Archie. He is a rare Norwegian Pouncin...   \n",
       "4  This is Franklin. He would like you to stop ca...   \n",
       "5  Here we have a majestic great white breaching ...   \n",
       "6  Meet Jax. He enjoys ice cream so much he gets ...   \n",
       "\n",
       "                                       expanded_urls  rating_numerator  \\\n",
       "1  https://twitter.com/dog_rates/status/892177421...                13   \n",
       "2  https://twitter.com/dog_rates/status/891815181...                12   \n",
       "4  https://twitter.com/dog_rates/status/891327558...                12   \n",
       "5  https://twitter.com/dog_rates/status/891087950...                13   \n",
       "6  https://gofundme.com/ydvmve-surgery-for-jax,ht...                13   \n",
       "\n",
       "   rating_denominator      name  favorite_count  retweet_count dog_stage  \n",
       "1                  10     Tilly           31557           5779      None  \n",
       "2                  10    Archie           23772           3824      None  \n",
       "4                  10  Franklin           38152           8605      None  \n",
       "5                  10      None           19192           2871      None  \n",
       "6                  10       Jax           11183           1889      None  "
      ]
     },
     "execution_count": 96,
     "metadata": {},
     "output_type": "execute_result"
    }
   ],
   "source": [
    "tweet_df_clean.head()"
   ]
  },
  {
   "cell_type": "code",
   "execution_count": 97,
   "metadata": {},
   "outputs": [
    {
     "name": "stdout",
     "output_type": "stream",
     "text": [
      "<class 'pandas.core.frame.DataFrame'>\n",
      "Int64Index: 1456 entries, 1 to 2089\n",
      "Data columns (total 11 columns):\n",
      "tweet_id              1456 non-null object\n",
      "timestamp             1456 non-null datetime64[ns]\n",
      "source                1456 non-null object\n",
      "text                  1456 non-null object\n",
      "expanded_urls         1456 non-null object\n",
      "rating_numerator      1456 non-null int64\n",
      "rating_denominator    1456 non-null int64\n",
      "name                  1456 non-null object\n",
      "favorite_count        1456 non-null int64\n",
      "retweet_count         1456 non-null int64\n",
      "dog_stage             1456 non-null object\n",
      "dtypes: datetime64[ns](1), int64(4), object(6)\n",
      "memory usage: 136.5+ KB\n"
     ]
    }
   ],
   "source": [
    "tweet_df_clean.info()"
   ]
  },
  {
   "cell_type": "code",
   "execution_count": 98,
   "metadata": {},
   "outputs": [
    {
     "name": "stdout",
     "output_type": "stream",
     "text": [
      "<class 'pandas.core.frame.DataFrame'>\n",
      "Int64Index: 1456 entries, 0 to 2073\n",
      "Data columns (total 12 columns):\n",
      "tweet_id    1456 non-null object\n",
      "jpg_url     1456 non-null object\n",
      "img_num     1456 non-null int64\n",
      "p1          1456 non-null object\n",
      "p1_conf     1456 non-null float64\n",
      "p1_dog      1456 non-null bool\n",
      "p2          1456 non-null object\n",
      "p2_conf     1456 non-null float64\n",
      "p2_dog      1456 non-null bool\n",
      "p3          1456 non-null object\n",
      "p3_conf     1456 non-null float64\n",
      "p3_dog      1456 non-null bool\n",
      "dtypes: bool(3), float64(3), int64(1), object(5)\n",
      "memory usage: 118.0+ KB\n"
     ]
    }
   ],
   "source": [
    "image_df_clean.info()"
   ]
  },
  {
   "cell_type": "markdown",
   "metadata": {},
   "source": [
    "The methods head() and info() are called above as necessary to confirm that we have successfully converted the data types of the 'tweet_id' and 'timestamp' columns as applicable."
   ]
  },
  {
   "cell_type": "markdown",
   "metadata": {},
   "source": [
    "## C. Reviewing Ratings for Accuracy\n",
    "\n",
    "The project description mentioned that some ratings may not be accurate. The Pandas str.extract() method can be used to extract the ratings from the tweet text. The resulting data can be compared to the ratings in the tweet_df_clean data frame for any inaccuracies."
   ]
  },
  {
   "cell_type": "code",
   "execution_count": 99,
   "metadata": {},
   "outputs": [],
   "source": [
    "tweet_df_clean['extracted_rating'] = tweet_df_clean['text'].str.extract('(\\d{1,4}\\/\\d{1,4})')"
   ]
  },
  {
   "cell_type": "code",
   "execution_count": 100,
   "metadata": {},
   "outputs": [],
   "source": [
    "tweet_df_clean['extracted_num'] = tweet_df_clean['extracted_rating'].apply(lambda x: x.split('/')[0])\n",
    "tweet_df_clean['extracted_den'] = tweet_df_clean['extracted_rating'].apply(lambda x: x.split('/')[1])"
   ]
  },
  {
   "cell_type": "code",
   "execution_count": 101,
   "metadata": {},
   "outputs": [
    {
     "name": "stdout",
     "output_type": "stream",
     "text": [
      "<class 'pandas.core.frame.DataFrame'>\n",
      "Int64Index: 1456 entries, 1 to 2089\n",
      "Data columns (total 14 columns):\n",
      "tweet_id              1456 non-null object\n",
      "timestamp             1456 non-null datetime64[ns]\n",
      "source                1456 non-null object\n",
      "text                  1456 non-null object\n",
      "expanded_urls         1456 non-null object\n",
      "rating_numerator      1456 non-null int64\n",
      "rating_denominator    1456 non-null int64\n",
      "name                  1456 non-null object\n",
      "favorite_count        1456 non-null int64\n",
      "retweet_count         1456 non-null int64\n",
      "dog_stage             1456 non-null object\n",
      "extracted_rating      1456 non-null object\n",
      "extracted_num         1456 non-null object\n",
      "extracted_den         1456 non-null object\n",
      "dtypes: datetime64[ns](1), int64(4), object(9)\n",
      "memory usage: 170.6+ KB\n"
     ]
    }
   ],
   "source": [
    "tweet_df_clean.info()"
   ]
  },
  {
   "cell_type": "code",
   "execution_count": 102,
   "metadata": {},
   "outputs": [],
   "source": [
    "tweet_df_clean['extracted_num'] = tweet_df_clean['extracted_num'].astype(int)\n",
    "tweet_df_clean['extracted_den'] = tweet_df_clean['extracted_den'].astype(int)"
   ]
  },
  {
   "cell_type": "code",
   "execution_count": 103,
   "metadata": {},
   "outputs": [
    {
     "data": {
      "text/html": [
       "<div>\n",
       "<style scoped>\n",
       "    .dataframe tbody tr th:only-of-type {\n",
       "        vertical-align: middle;\n",
       "    }\n",
       "\n",
       "    .dataframe tbody tr th {\n",
       "        vertical-align: top;\n",
       "    }\n",
       "\n",
       "    .dataframe thead th {\n",
       "        text-align: right;\n",
       "    }\n",
       "</style>\n",
       "<table border=\"1\" class=\"dataframe\">\n",
       "  <thead>\n",
       "    <tr style=\"text-align: right;\">\n",
       "      <th></th>\n",
       "      <th>tweet_id</th>\n",
       "      <th>timestamp</th>\n",
       "      <th>source</th>\n",
       "      <th>text</th>\n",
       "      <th>expanded_urls</th>\n",
       "      <th>rating_numerator</th>\n",
       "      <th>rating_denominator</th>\n",
       "      <th>name</th>\n",
       "      <th>favorite_count</th>\n",
       "      <th>retweet_count</th>\n",
       "      <th>dog_stage</th>\n",
       "      <th>extracted_rating</th>\n",
       "      <th>extracted_num</th>\n",
       "      <th>extracted_den</th>\n",
       "    </tr>\n",
       "  </thead>\n",
       "  <tbody>\n",
       "  </tbody>\n",
       "</table>\n",
       "</div>"
      ],
      "text/plain": [
       "Empty DataFrame\n",
       "Columns: [tweet_id, timestamp, source, text, expanded_urls, rating_numerator, rating_denominator, name, favorite_count, retweet_count, dog_stage, extracted_rating, extracted_num, extracted_den]\n",
       "Index: []"
      ]
     },
     "execution_count": 103,
     "metadata": {},
     "output_type": "execute_result"
    }
   ],
   "source": [
    "tweet_df_clean[(tweet_df_clean['rating_numerator'] != tweet_df_clean['extracted_num']) | (tweet_df_clean['rating_denominator'] != tweet_df_clean['extracted_den'])]"
   ]
  },
  {
   "cell_type": "code",
   "execution_count": 104,
   "metadata": {},
   "outputs": [
    {
     "data": {
      "text/plain": [
       "1456"
      ]
     },
     "execution_count": 104,
     "metadata": {},
     "output_type": "execute_result"
    }
   ],
   "source": [
    "(tweet_df_clean['extracted_num'] == tweet_df_clean['rating_numerator']).sum()"
   ]
  },
  {
   "cell_type": "code",
   "execution_count": null,
   "metadata": {},
   "outputs": [],
   "source": []
  },
  {
   "cell_type": "code",
   "execution_count": 105,
   "metadata": {},
   "outputs": [],
   "source": [
    "tweet_df_clean['extracted_rating_2'] = tweet_df_clean['text'].str.findall('(\\d{1,4}\\/\\d{1,4})')"
   ]
  },
  {
   "cell_type": "code",
   "execution_count": 106,
   "metadata": {},
   "outputs": [],
   "source": [
    "tweet_df_clean['num_fractions'] = tweet_df_clean['extracted_rating_2'].apply(lambda x: len(x))"
   ]
  },
  {
   "cell_type": "code",
   "execution_count": 107,
   "metadata": {},
   "outputs": [
    {
     "data": {
      "text/plain": [
       "1    1432\n",
       "2      23\n",
       "3       1\n",
       "Name: num_fractions, dtype: int64"
      ]
     },
     "execution_count": 107,
     "metadata": {},
     "output_type": "execute_result"
    }
   ],
   "source": [
    "tweet_df_clean['num_fractions'].value_counts()"
   ]
  },
  {
   "cell_type": "code",
   "execution_count": 108,
   "metadata": {},
   "outputs": [],
   "source": [
    "multiple_fractions = tweet_df_clean[tweet_df_clean['num_fractions'] > 1]"
   ]
  },
  {
   "cell_type": "code",
   "execution_count": 109,
   "metadata": {},
   "outputs": [
    {
     "data": {
      "text/html": [
       "<div>\n",
       "<style scoped>\n",
       "    .dataframe tbody tr th:only-of-type {\n",
       "        vertical-align: middle;\n",
       "    }\n",
       "\n",
       "    .dataframe tbody tr th {\n",
       "        vertical-align: top;\n",
       "    }\n",
       "\n",
       "    .dataframe thead th {\n",
       "        text-align: right;\n",
       "    }\n",
       "</style>\n",
       "<table border=\"1\" class=\"dataframe\">\n",
       "  <thead>\n",
       "    <tr style=\"text-align: right;\">\n",
       "      <th></th>\n",
       "      <th>tweet_id</th>\n",
       "      <th>timestamp</th>\n",
       "      <th>source</th>\n",
       "      <th>text</th>\n",
       "      <th>expanded_urls</th>\n",
       "      <th>rating_numerator</th>\n",
       "      <th>rating_denominator</th>\n",
       "      <th>name</th>\n",
       "      <th>favorite_count</th>\n",
       "      <th>retweet_count</th>\n",
       "      <th>dog_stage</th>\n",
       "      <th>extracted_rating</th>\n",
       "      <th>extracted_num</th>\n",
       "      <th>extracted_den</th>\n",
       "      <th>extracted_rating_2</th>\n",
       "      <th>num_fractions</th>\n",
       "    </tr>\n",
       "  </thead>\n",
       "  <tbody>\n",
       "    <tr>\n",
       "      <th>583</th>\n",
       "      <td>777684233540206592</td>\n",
       "      <td>2016-09-19 01:42:24</td>\n",
       "      <td>&lt;a href=\"http://twitter.com/download/iphone\" r...</td>\n",
       "      <td>\"Yep... just as I suspected. You're not flossi...</td>\n",
       "      <td>https://twitter.com/dog_rates/status/777684233...</td>\n",
       "      <td>12</td>\n",
       "      <td>10</td>\n",
       "      <td>None</td>\n",
       "      <td>11528</td>\n",
       "      <td>3015</td>\n",
       "      <td>None</td>\n",
       "      <td>12/10</td>\n",
       "      <td>12</td>\n",
       "      <td>10</td>\n",
       "      <td>[12/10, 11/10]</td>\n",
       "      <td>2</td>\n",
       "    </tr>\n",
       "    <tr>\n",
       "      <th>791</th>\n",
       "      <td>747600769478692864</td>\n",
       "      <td>2016-06-28 01:21:27</td>\n",
       "      <td>&lt;a href=\"http://twitter.com/download/iphone\" r...</td>\n",
       "      <td>This is Bookstore and Seaweed. Bookstore is ti...</td>\n",
       "      <td>https://twitter.com/dog_rates/status/747600769...</td>\n",
       "      <td>10</td>\n",
       "      <td>10</td>\n",
       "      <td>Bookstore</td>\n",
       "      <td>2353</td>\n",
       "      <td>558</td>\n",
       "      <td>None</td>\n",
       "      <td>10/10</td>\n",
       "      <td>10</td>\n",
       "      <td>10</td>\n",
       "      <td>[10/10, 7/10]</td>\n",
       "      <td>2</td>\n",
       "    </tr>\n",
       "    <tr>\n",
       "      <th>847</th>\n",
       "      <td>740373189193256964</td>\n",
       "      <td>2016-06-08 02:41:38</td>\n",
       "      <td>&lt;a href=\"http://twitter.com/download/iphone\" r...</td>\n",
       "      <td>After so many requests, this is Bretagne. She ...</td>\n",
       "      <td>https://twitter.com/dog_rates/status/740373189...</td>\n",
       "      <td>9</td>\n",
       "      <td>11</td>\n",
       "      <td>None</td>\n",
       "      <td>35304</td>\n",
       "      <td>13418</td>\n",
       "      <td>None</td>\n",
       "      <td>9/11</td>\n",
       "      <td>9</td>\n",
       "      <td>11</td>\n",
       "      <td>[9/11, 14/10]</td>\n",
       "      <td>2</td>\n",
       "    </tr>\n",
       "    <tr>\n",
       "      <th>942</th>\n",
       "      <td>722974582966214656</td>\n",
       "      <td>2016-04-21 02:25:47</td>\n",
       "      <td>&lt;a href=\"http://twitter.com/download/iphone\" r...</td>\n",
       "      <td>Happy 4/20 from the squad! 13/10 for all https...</td>\n",
       "      <td>https://twitter.com/dog_rates/status/722974582...</td>\n",
       "      <td>4</td>\n",
       "      <td>20</td>\n",
       "      <td>None</td>\n",
       "      <td>4126</td>\n",
       "      <td>1568</td>\n",
       "      <td>None</td>\n",
       "      <td>4/20</td>\n",
       "      <td>4</td>\n",
       "      <td>20</td>\n",
       "      <td>[4/20, 13/10]</td>\n",
       "      <td>2</td>\n",
       "    </tr>\n",
       "    <tr>\n",
       "      <th>979</th>\n",
       "      <td>716439118184652801</td>\n",
       "      <td>2016-04-03 01:36:11</td>\n",
       "      <td>&lt;a href=\"http://twitter.com/download/iphone\" r...</td>\n",
       "      <td>This is Bluebert. He just saw that both #Final...</td>\n",
       "      <td>https://twitter.com/dog_rates/status/716439118...</td>\n",
       "      <td>50</td>\n",
       "      <td>50</td>\n",
       "      <td>Bluebert</td>\n",
       "      <td>2386</td>\n",
       "      <td>210</td>\n",
       "      <td>None</td>\n",
       "      <td>50/50</td>\n",
       "      <td>50</td>\n",
       "      <td>50</td>\n",
       "      <td>[50/50, 11/10]</td>\n",
       "      <td>2</td>\n",
       "    </tr>\n",
       "    <tr>\n",
       "      <th>999</th>\n",
       "      <td>714258258790387713</td>\n",
       "      <td>2016-03-28 01:10:13</td>\n",
       "      <td>&lt;a href=\"http://twitter.com/download/iphone\" r...</td>\n",
       "      <td>Meet Travis and Flurp. Travis is pretty chill ...</td>\n",
       "      <td>https://twitter.com/dog_rates/status/714258258...</td>\n",
       "      <td>10</td>\n",
       "      <td>10</td>\n",
       "      <td>Travis</td>\n",
       "      <td>3051</td>\n",
       "      <td>720</td>\n",
       "      <td>None</td>\n",
       "      <td>10/10</td>\n",
       "      <td>10</td>\n",
       "      <td>10</td>\n",
       "      <td>[10/10, 8/10]</td>\n",
       "      <td>2</td>\n",
       "    </tr>\n",
       "    <tr>\n",
       "      <th>1130</th>\n",
       "      <td>703356393781329922</td>\n",
       "      <td>2016-02-26 23:10:06</td>\n",
       "      <td>&lt;a href=\"http://twitter.com/download/iphone\" r...</td>\n",
       "      <td>This is Socks. That water pup w the super legs...</td>\n",
       "      <td>https://twitter.com/dog_rates/status/703356393...</td>\n",
       "      <td>9</td>\n",
       "      <td>10</td>\n",
       "      <td>Socks</td>\n",
       "      <td>1933</td>\n",
       "      <td>388</td>\n",
       "      <td>None</td>\n",
       "      <td>9/10</td>\n",
       "      <td>9</td>\n",
       "      <td>10</td>\n",
       "      <td>[9/10, 2/10]</td>\n",
       "      <td>2</td>\n",
       "    </tr>\n",
       "    <tr>\n",
       "      <th>1233</th>\n",
       "      <td>694352839993344000</td>\n",
       "      <td>2016-02-02 02:53:12</td>\n",
       "      <td>&lt;a href=\"http://twitter.com/download/iphone\" r...</td>\n",
       "      <td>Meet Oliviér. He takes killer selfies. Has a d...</td>\n",
       "      <td>https://twitter.com/dog_rates/status/694352839...</td>\n",
       "      <td>10</td>\n",
       "      <td>10</td>\n",
       "      <td>Oliviér</td>\n",
       "      <td>2051</td>\n",
       "      <td>621</td>\n",
       "      <td>None</td>\n",
       "      <td>10/10</td>\n",
       "      <td>10</td>\n",
       "      <td>10</td>\n",
       "      <td>[10/10, 5/10]</td>\n",
       "      <td>2</td>\n",
       "    </tr>\n",
       "    <tr>\n",
       "      <th>1272</th>\n",
       "      <td>691483041324204033</td>\n",
       "      <td>2016-01-25 04:49:38</td>\n",
       "      <td>&lt;a href=\"http://twitter.com/download/iphone\" r...</td>\n",
       "      <td>When bae says they can't go out but you see th...</td>\n",
       "      <td>https://twitter.com/dog_rates/status/691483041...</td>\n",
       "      <td>5</td>\n",
       "      <td>10</td>\n",
       "      <td>None</td>\n",
       "      <td>2411</td>\n",
       "      <td>567</td>\n",
       "      <td>None</td>\n",
       "      <td>5/10</td>\n",
       "      <td>5</td>\n",
       "      <td>10</td>\n",
       "      <td>[5/10, 10/10]</td>\n",
       "      <td>2</td>\n",
       "    </tr>\n",
       "    <tr>\n",
       "      <th>1288</th>\n",
       "      <td>690400367696297985</td>\n",
       "      <td>2016-01-22 05:07:29</td>\n",
       "      <td>&lt;a href=\"http://twitter.com/download/iphone\" r...</td>\n",
       "      <td>This is Eriq. His friend just reminded him of ...</td>\n",
       "      <td>https://twitter.com/dog_rates/status/690400367...</td>\n",
       "      <td>10</td>\n",
       "      <td>10</td>\n",
       "      <td>Eriq</td>\n",
       "      <td>1905</td>\n",
       "      <td>457</td>\n",
       "      <td>None</td>\n",
       "      <td>10/10</td>\n",
       "      <td>10</td>\n",
       "      <td>10</td>\n",
       "      <td>[10/10, 6/10]</td>\n",
       "      <td>2</td>\n",
       "    </tr>\n",
       "    <tr>\n",
       "      <th>1301</th>\n",
       "      <td>689835978131935233</td>\n",
       "      <td>2016-01-20 15:44:48</td>\n",
       "      <td>&lt;a href=\"http://twitter.com/download/iphone\" r...</td>\n",
       "      <td>Meet Fynn &amp;amp; Taco. Fynn is an all-powerful ...</td>\n",
       "      <td>https://twitter.com/dog_rates/status/689835978...</td>\n",
       "      <td>11</td>\n",
       "      <td>10</td>\n",
       "      <td>Fynn</td>\n",
       "      <td>2181</td>\n",
       "      <td>750</td>\n",
       "      <td>None</td>\n",
       "      <td>11/10</td>\n",
       "      <td>11</td>\n",
       "      <td>10</td>\n",
       "      <td>[11/10, 10/10]</td>\n",
       "      <td>2</td>\n",
       "    </tr>\n",
       "    <tr>\n",
       "      <th>1549</th>\n",
       "      <td>677314812125323265</td>\n",
       "      <td>2015-12-17 02:30:09</td>\n",
       "      <td>&lt;a href=\"http://twitter.com/download/iphone\" r...</td>\n",
       "      <td>Meet Tassy &amp;amp; Bee. Tassy is pretty chill, b...</td>\n",
       "      <td>https://twitter.com/dog_rates/status/677314812...</td>\n",
       "      <td>10</td>\n",
       "      <td>10</td>\n",
       "      <td>Tassy</td>\n",
       "      <td>1638</td>\n",
       "      <td>529</td>\n",
       "      <td>None</td>\n",
       "      <td>10/10</td>\n",
       "      <td>10</td>\n",
       "      <td>10</td>\n",
       "      <td>[10/10, 11/10]</td>\n",
       "      <td>2</td>\n",
       "    </tr>\n",
       "    <tr>\n",
       "      <th>1585</th>\n",
       "      <td>676191832485810177</td>\n",
       "      <td>2015-12-14 00:07:50</td>\n",
       "      <td>&lt;a href=\"http://twitter.com/download/iphone\" r...</td>\n",
       "      <td>These two pups just met and have instantly bon...</td>\n",
       "      <td>https://twitter.com/dog_rates/status/676191832...</td>\n",
       "      <td>10</td>\n",
       "      <td>10</td>\n",
       "      <td>None</td>\n",
       "      <td>2265</td>\n",
       "      <td>1023</td>\n",
       "      <td>None</td>\n",
       "      <td>10/10</td>\n",
       "      <td>10</td>\n",
       "      <td>10</td>\n",
       "      <td>[10/10, 7/10]</td>\n",
       "      <td>2</td>\n",
       "    </tr>\n",
       "    <tr>\n",
       "      <th>1642</th>\n",
       "      <td>674737130913071104</td>\n",
       "      <td>2015-12-09 23:47:22</td>\n",
       "      <td>&lt;a href=\"http://twitter.com/download/iphone\" r...</td>\n",
       "      <td>Meet Rufio. He is unaware of the pink legless ...</td>\n",
       "      <td>https://twitter.com/dog_rates/status/674737130...</td>\n",
       "      <td>10</td>\n",
       "      <td>10</td>\n",
       "      <td>Rufio</td>\n",
       "      <td>632</td>\n",
       "      <td>88</td>\n",
       "      <td>pupper</td>\n",
       "      <td>10/10</td>\n",
       "      <td>10</td>\n",
       "      <td>10</td>\n",
       "      <td>[10/10, 4/10]</td>\n",
       "      <td>2</td>\n",
       "    </tr>\n",
       "    <tr>\n",
       "      <th>1646</th>\n",
       "      <td>674646392044941312</td>\n",
       "      <td>2015-12-09 17:46:48</td>\n",
       "      <td>&lt;a href=\"http://twitter.com/download/iphone\" r...</td>\n",
       "      <td>Two gorgeous dogs here. Little waddling dog is...</td>\n",
       "      <td>https://twitter.com/dog_rates/status/674646392...</td>\n",
       "      <td>5</td>\n",
       "      <td>10</td>\n",
       "      <td>None</td>\n",
       "      <td>1412</td>\n",
       "      <td>481</td>\n",
       "      <td>None</td>\n",
       "      <td>5/10</td>\n",
       "      <td>5</td>\n",
       "      <td>10</td>\n",
       "      <td>[5/10, 8/10]</td>\n",
       "      <td>2</td>\n",
       "    </tr>\n",
       "    <tr>\n",
       "      <th>1712</th>\n",
       "      <td>673295268553605120</td>\n",
       "      <td>2015-12-06 00:17:55</td>\n",
       "      <td>&lt;a href=\"http://twitter.com/download/iphone\" r...</td>\n",
       "      <td>Meet Eve. She's a raging alcoholic 8/10 (would...</td>\n",
       "      <td>https://twitter.com/dog_rates/status/673295268...</td>\n",
       "      <td>8</td>\n",
       "      <td>10</td>\n",
       "      <td>Eve</td>\n",
       "      <td>7358</td>\n",
       "      <td>3088</td>\n",
       "      <td>pupper</td>\n",
       "      <td>8/10</td>\n",
       "      <td>8</td>\n",
       "      <td>10</td>\n",
       "      <td>[8/10, 11/10]</td>\n",
       "      <td>2</td>\n",
       "    </tr>\n",
       "    <tr>\n",
       "      <th>1752</th>\n",
       "      <td>672248013293752320</td>\n",
       "      <td>2015-12-03 02:56:30</td>\n",
       "      <td>&lt;a href=\"http://twitter.com/download/iphone\" r...</td>\n",
       "      <td>10/10 for dog. 7/10 for cat. 12/10 for human. ...</td>\n",
       "      <td>https://twitter.com/dog_rates/status/672248013...</td>\n",
       "      <td>10</td>\n",
       "      <td>10</td>\n",
       "      <td>None</td>\n",
       "      <td>1693</td>\n",
       "      <td>587</td>\n",
       "      <td>None</td>\n",
       "      <td>10/10</td>\n",
       "      <td>10</td>\n",
       "      <td>10</td>\n",
       "      <td>[10/10, 7/10, 12/10]</td>\n",
       "      <td>3</td>\n",
       "    </tr>\n",
       "    <tr>\n",
       "      <th>1804</th>\n",
       "      <td>671154572044468225</td>\n",
       "      <td>2015-11-30 02:31:34</td>\n",
       "      <td>&lt;a href=\"http://twitter.com/download/iphone\" r...</td>\n",
       "      <td>Meet Holly. She's trying to teach small human-...</td>\n",
       "      <td>https://twitter.com/dog_rates/status/671154572...</td>\n",
       "      <td>11</td>\n",
       "      <td>10</td>\n",
       "      <td>Holly</td>\n",
       "      <td>694</td>\n",
       "      <td>211</td>\n",
       "      <td>None</td>\n",
       "      <td>11/10</td>\n",
       "      <td>11</td>\n",
       "      <td>10</td>\n",
       "      <td>[11/10, 8/10]</td>\n",
       "      <td>2</td>\n",
       "    </tr>\n",
       "    <tr>\n",
       "      <th>1915</th>\n",
       "      <td>669037058363662336</td>\n",
       "      <td>2015-11-24 06:17:19</td>\n",
       "      <td>&lt;a href=\"http://twitter.com/download/iphone\" r...</td>\n",
       "      <td>Here we have Pancho and Peaches. Pancho is a C...</td>\n",
       "      <td>https://twitter.com/dog_rates/status/669037058...</td>\n",
       "      <td>10</td>\n",
       "      <td>10</td>\n",
       "      <td>None</td>\n",
       "      <td>635</td>\n",
       "      <td>301</td>\n",
       "      <td>None</td>\n",
       "      <td>10/10</td>\n",
       "      <td>10</td>\n",
       "      <td>10</td>\n",
       "      <td>[10/10, 7/10]</td>\n",
       "      <td>2</td>\n",
       "    </tr>\n",
       "    <tr>\n",
       "      <th>1953</th>\n",
       "      <td>668537837512433665</td>\n",
       "      <td>2015-11-22 21:13:35</td>\n",
       "      <td>&lt;a href=\"http://twitter.com/download/iphone\" r...</td>\n",
       "      <td>This is Spark. He's nervous. Other dog hasn't ...</td>\n",
       "      <td>https://twitter.com/dog_rates/status/668537837...</td>\n",
       "      <td>8</td>\n",
       "      <td>10</td>\n",
       "      <td>Spark</td>\n",
       "      <td>245</td>\n",
       "      <td>69</td>\n",
       "      <td>None</td>\n",
       "      <td>8/10</td>\n",
       "      <td>8</td>\n",
       "      <td>10</td>\n",
       "      <td>[8/10, 1/10]</td>\n",
       "      <td>2</td>\n",
       "    </tr>\n",
       "    <tr>\n",
       "      <th>1998</th>\n",
       "      <td>667544320556335104</td>\n",
       "      <td>2015-11-20 03:25:43</td>\n",
       "      <td>&lt;a href=\"http://twitter.com\" rel=\"nofollow\"&gt;Tw...</td>\n",
       "      <td>This is Kial. Kial is either wearing a cape, w...</td>\n",
       "      <td>https://twitter.com/dog_rates/status/667544320...</td>\n",
       "      <td>10</td>\n",
       "      <td>10</td>\n",
       "      <td>Kial</td>\n",
       "      <td>840</td>\n",
       "      <td>505</td>\n",
       "      <td>None</td>\n",
       "      <td>10/10</td>\n",
       "      <td>10</td>\n",
       "      <td>10</td>\n",
       "      <td>[10/10, 4/10]</td>\n",
       "      <td>2</td>\n",
       "    </tr>\n",
       "    <tr>\n",
       "      <th>2007</th>\n",
       "      <td>667491009379606528</td>\n",
       "      <td>2015-11-19 23:53:52</td>\n",
       "      <td>&lt;a href=\"http://twitter.com\" rel=\"nofollow\"&gt;Tw...</td>\n",
       "      <td>Two dogs in this one. Both are rare Jujitsu Py...</td>\n",
       "      <td>https://twitter.com/dog_rates/status/667491009...</td>\n",
       "      <td>7</td>\n",
       "      <td>10</td>\n",
       "      <td>None</td>\n",
       "      <td>517</td>\n",
       "      <td>216</td>\n",
       "      <td>None</td>\n",
       "      <td>7/10</td>\n",
       "      <td>7</td>\n",
       "      <td>10</td>\n",
       "      <td>[7/10, 8/10]</td>\n",
       "      <td>2</td>\n",
       "    </tr>\n",
       "    <tr>\n",
       "      <th>2040</th>\n",
       "      <td>666835007768551424</td>\n",
       "      <td>2015-11-18 04:27:09</td>\n",
       "      <td>&lt;a href=\"http://twitter.com/download/iphone\" r...</td>\n",
       "      <td>These are Peruvian Feldspars. Their names are ...</td>\n",
       "      <td>https://twitter.com/dog_rates/status/666835007...</td>\n",
       "      <td>10</td>\n",
       "      <td>10</td>\n",
       "      <td>None</td>\n",
       "      <td>203</td>\n",
       "      <td>77</td>\n",
       "      <td>None</td>\n",
       "      <td>10/10</td>\n",
       "      <td>10</td>\n",
       "      <td>10</td>\n",
       "      <td>[10/10, 10/10]</td>\n",
       "      <td>2</td>\n",
       "    </tr>\n",
       "    <tr>\n",
       "      <th>2069</th>\n",
       "      <td>666287406224695296</td>\n",
       "      <td>2015-11-16 16:11:11</td>\n",
       "      <td>&lt;a href=\"http://twitter.com/download/iphone\" r...</td>\n",
       "      <td>This is an Albanian 3 1/2 legged  Episcopalian...</td>\n",
       "      <td>https://twitter.com/dog_rates/status/666287406...</td>\n",
       "      <td>1</td>\n",
       "      <td>2</td>\n",
       "      <td>an</td>\n",
       "      <td>138</td>\n",
       "      <td>62</td>\n",
       "      <td>None</td>\n",
       "      <td>1/2</td>\n",
       "      <td>1</td>\n",
       "      <td>2</td>\n",
       "      <td>[1/2, 9/10]</td>\n",
       "      <td>2</td>\n",
       "    </tr>\n",
       "  </tbody>\n",
       "</table>\n",
       "</div>"
      ],
      "text/plain": [
       "                tweet_id           timestamp  \\\n",
       "583   777684233540206592 2016-09-19 01:42:24   \n",
       "791   747600769478692864 2016-06-28 01:21:27   \n",
       "847   740373189193256964 2016-06-08 02:41:38   \n",
       "942   722974582966214656 2016-04-21 02:25:47   \n",
       "979   716439118184652801 2016-04-03 01:36:11   \n",
       "999   714258258790387713 2016-03-28 01:10:13   \n",
       "1130  703356393781329922 2016-02-26 23:10:06   \n",
       "1233  694352839993344000 2016-02-02 02:53:12   \n",
       "1272  691483041324204033 2016-01-25 04:49:38   \n",
       "1288  690400367696297985 2016-01-22 05:07:29   \n",
       "1301  689835978131935233 2016-01-20 15:44:48   \n",
       "1549  677314812125323265 2015-12-17 02:30:09   \n",
       "1585  676191832485810177 2015-12-14 00:07:50   \n",
       "1642  674737130913071104 2015-12-09 23:47:22   \n",
       "1646  674646392044941312 2015-12-09 17:46:48   \n",
       "1712  673295268553605120 2015-12-06 00:17:55   \n",
       "1752  672248013293752320 2015-12-03 02:56:30   \n",
       "1804  671154572044468225 2015-11-30 02:31:34   \n",
       "1915  669037058363662336 2015-11-24 06:17:19   \n",
       "1953  668537837512433665 2015-11-22 21:13:35   \n",
       "1998  667544320556335104 2015-11-20 03:25:43   \n",
       "2007  667491009379606528 2015-11-19 23:53:52   \n",
       "2040  666835007768551424 2015-11-18 04:27:09   \n",
       "2069  666287406224695296 2015-11-16 16:11:11   \n",
       "\n",
       "                                                 source  \\\n",
       "583   <a href=\"http://twitter.com/download/iphone\" r...   \n",
       "791   <a href=\"http://twitter.com/download/iphone\" r...   \n",
       "847   <a href=\"http://twitter.com/download/iphone\" r...   \n",
       "942   <a href=\"http://twitter.com/download/iphone\" r...   \n",
       "979   <a href=\"http://twitter.com/download/iphone\" r...   \n",
       "999   <a href=\"http://twitter.com/download/iphone\" r...   \n",
       "1130  <a href=\"http://twitter.com/download/iphone\" r...   \n",
       "1233  <a href=\"http://twitter.com/download/iphone\" r...   \n",
       "1272  <a href=\"http://twitter.com/download/iphone\" r...   \n",
       "1288  <a href=\"http://twitter.com/download/iphone\" r...   \n",
       "1301  <a href=\"http://twitter.com/download/iphone\" r...   \n",
       "1549  <a href=\"http://twitter.com/download/iphone\" r...   \n",
       "1585  <a href=\"http://twitter.com/download/iphone\" r...   \n",
       "1642  <a href=\"http://twitter.com/download/iphone\" r...   \n",
       "1646  <a href=\"http://twitter.com/download/iphone\" r...   \n",
       "1712  <a href=\"http://twitter.com/download/iphone\" r...   \n",
       "1752  <a href=\"http://twitter.com/download/iphone\" r...   \n",
       "1804  <a href=\"http://twitter.com/download/iphone\" r...   \n",
       "1915  <a href=\"http://twitter.com/download/iphone\" r...   \n",
       "1953  <a href=\"http://twitter.com/download/iphone\" r...   \n",
       "1998  <a href=\"http://twitter.com\" rel=\"nofollow\">Tw...   \n",
       "2007  <a href=\"http://twitter.com\" rel=\"nofollow\">Tw...   \n",
       "2040  <a href=\"http://twitter.com/download/iphone\" r...   \n",
       "2069  <a href=\"http://twitter.com/download/iphone\" r...   \n",
       "\n",
       "                                                   text  \\\n",
       "583   \"Yep... just as I suspected. You're not flossi...   \n",
       "791   This is Bookstore and Seaweed. Bookstore is ti...   \n",
       "847   After so many requests, this is Bretagne. She ...   \n",
       "942   Happy 4/20 from the squad! 13/10 for all https...   \n",
       "979   This is Bluebert. He just saw that both #Final...   \n",
       "999   Meet Travis and Flurp. Travis is pretty chill ...   \n",
       "1130  This is Socks. That water pup w the super legs...   \n",
       "1233  Meet Oliviér. He takes killer selfies. Has a d...   \n",
       "1272  When bae says they can't go out but you see th...   \n",
       "1288  This is Eriq. His friend just reminded him of ...   \n",
       "1301  Meet Fynn &amp; Taco. Fynn is an all-powerful ...   \n",
       "1549  Meet Tassy &amp; Bee. Tassy is pretty chill, b...   \n",
       "1585  These two pups just met and have instantly bon...   \n",
       "1642  Meet Rufio. He is unaware of the pink legless ...   \n",
       "1646  Two gorgeous dogs here. Little waddling dog is...   \n",
       "1712  Meet Eve. She's a raging alcoholic 8/10 (would...   \n",
       "1752  10/10 for dog. 7/10 for cat. 12/10 for human. ...   \n",
       "1804  Meet Holly. She's trying to teach small human-...   \n",
       "1915  Here we have Pancho and Peaches. Pancho is a C...   \n",
       "1953  This is Spark. He's nervous. Other dog hasn't ...   \n",
       "1998  This is Kial. Kial is either wearing a cape, w...   \n",
       "2007  Two dogs in this one. Both are rare Jujitsu Py...   \n",
       "2040  These are Peruvian Feldspars. Their names are ...   \n",
       "2069  This is an Albanian 3 1/2 legged  Episcopalian...   \n",
       "\n",
       "                                          expanded_urls  rating_numerator  \\\n",
       "583   https://twitter.com/dog_rates/status/777684233...                12   \n",
       "791   https://twitter.com/dog_rates/status/747600769...                10   \n",
       "847   https://twitter.com/dog_rates/status/740373189...                 9   \n",
       "942   https://twitter.com/dog_rates/status/722974582...                 4   \n",
       "979   https://twitter.com/dog_rates/status/716439118...                50   \n",
       "999   https://twitter.com/dog_rates/status/714258258...                10   \n",
       "1130  https://twitter.com/dog_rates/status/703356393...                 9   \n",
       "1233  https://twitter.com/dog_rates/status/694352839...                10   \n",
       "1272  https://twitter.com/dog_rates/status/691483041...                 5   \n",
       "1288  https://twitter.com/dog_rates/status/690400367...                10   \n",
       "1301  https://twitter.com/dog_rates/status/689835978...                11   \n",
       "1549  https://twitter.com/dog_rates/status/677314812...                10   \n",
       "1585  https://twitter.com/dog_rates/status/676191832...                10   \n",
       "1642  https://twitter.com/dog_rates/status/674737130...                10   \n",
       "1646  https://twitter.com/dog_rates/status/674646392...                 5   \n",
       "1712  https://twitter.com/dog_rates/status/673295268...                 8   \n",
       "1752  https://twitter.com/dog_rates/status/672248013...                10   \n",
       "1804  https://twitter.com/dog_rates/status/671154572...                11   \n",
       "1915  https://twitter.com/dog_rates/status/669037058...                10   \n",
       "1953  https://twitter.com/dog_rates/status/668537837...                 8   \n",
       "1998  https://twitter.com/dog_rates/status/667544320...                10   \n",
       "2007  https://twitter.com/dog_rates/status/667491009...                 7   \n",
       "2040  https://twitter.com/dog_rates/status/666835007...                10   \n",
       "2069  https://twitter.com/dog_rates/status/666287406...                 1   \n",
       "\n",
       "      rating_denominator       name  favorite_count  retweet_count dog_stage  \\\n",
       "583                   10       None           11528           3015      None   \n",
       "791                   10  Bookstore            2353            558      None   \n",
       "847                   11       None           35304          13418      None   \n",
       "942                   20       None            4126           1568      None   \n",
       "979                   50   Bluebert            2386            210      None   \n",
       "999                   10     Travis            3051            720      None   \n",
       "1130                  10      Socks            1933            388      None   \n",
       "1233                  10    Oliviér            2051            621      None   \n",
       "1272                  10       None            2411            567      None   \n",
       "1288                  10       Eriq            1905            457      None   \n",
       "1301                  10       Fynn            2181            750      None   \n",
       "1549                  10      Tassy            1638            529      None   \n",
       "1585                  10       None            2265           1023      None   \n",
       "1642                  10      Rufio             632             88    pupper   \n",
       "1646                  10       None            1412            481      None   \n",
       "1712                  10        Eve            7358           3088    pupper   \n",
       "1752                  10       None            1693            587      None   \n",
       "1804                  10      Holly             694            211      None   \n",
       "1915                  10       None             635            301      None   \n",
       "1953                  10      Spark             245             69      None   \n",
       "1998                  10       Kial             840            505      None   \n",
       "2007                  10       None             517            216      None   \n",
       "2040                  10       None             203             77      None   \n",
       "2069                   2         an             138             62      None   \n",
       "\n",
       "     extracted_rating  extracted_num  extracted_den    extracted_rating_2  \\\n",
       "583             12/10             12             10        [12/10, 11/10]   \n",
       "791             10/10             10             10         [10/10, 7/10]   \n",
       "847              9/11              9             11         [9/11, 14/10]   \n",
       "942              4/20              4             20         [4/20, 13/10]   \n",
       "979             50/50             50             50        [50/50, 11/10]   \n",
       "999             10/10             10             10         [10/10, 8/10]   \n",
       "1130             9/10              9             10          [9/10, 2/10]   \n",
       "1233            10/10             10             10         [10/10, 5/10]   \n",
       "1272             5/10              5             10         [5/10, 10/10]   \n",
       "1288            10/10             10             10         [10/10, 6/10]   \n",
       "1301            11/10             11             10        [11/10, 10/10]   \n",
       "1549            10/10             10             10        [10/10, 11/10]   \n",
       "1585            10/10             10             10         [10/10, 7/10]   \n",
       "1642            10/10             10             10         [10/10, 4/10]   \n",
       "1646             5/10              5             10          [5/10, 8/10]   \n",
       "1712             8/10              8             10         [8/10, 11/10]   \n",
       "1752            10/10             10             10  [10/10, 7/10, 12/10]   \n",
       "1804            11/10             11             10         [11/10, 8/10]   \n",
       "1915            10/10             10             10         [10/10, 7/10]   \n",
       "1953             8/10              8             10          [8/10, 1/10]   \n",
       "1998            10/10             10             10         [10/10, 4/10]   \n",
       "2007             7/10              7             10          [7/10, 8/10]   \n",
       "2040            10/10             10             10        [10/10, 10/10]   \n",
       "2069              1/2              1              2           [1/2, 9/10]   \n",
       "\n",
       "      num_fractions  \n",
       "583               2  \n",
       "791               2  \n",
       "847               2  \n",
       "942               2  \n",
       "979               2  \n",
       "999               2  \n",
       "1130              2  \n",
       "1233              2  \n",
       "1272              2  \n",
       "1288              2  \n",
       "1301              2  \n",
       "1549              2  \n",
       "1585              2  \n",
       "1642              2  \n",
       "1646              2  \n",
       "1712              2  \n",
       "1752              3  \n",
       "1804              2  \n",
       "1915              2  \n",
       "1953              2  \n",
       "1998              2  \n",
       "2007              2  \n",
       "2040              2  \n",
       "2069              2  "
      ]
     },
     "execution_count": 109,
     "metadata": {},
     "output_type": "execute_result"
    }
   ],
   "source": [
    "multiple_fractions"
   ]
  },
  {
   "cell_type": "markdown",
   "metadata": {},
   "source": [
    "All tweets with multiple fractions will be written to a text file so that the text of the tweet is easier to read. The tweets with multiple fractions will be read to ensure that the ratings match the ratings in the text. Any obviously incorrect ratings will be noted and updated."
   ]
  },
  {
   "cell_type": "code",
   "execution_count": 110,
   "metadata": {},
   "outputs": [],
   "source": [
    "output_tweet_text = []\n",
    "with open('multiple_fractions.txt', 'w') as file:\n",
    "    for i in range(0, len(multiple_fractions.index)):\n",
    "        file.write(str(i))\n",
    "        file.write(' - ')\n",
    "        file.write(str(multiple_fractions.iloc[i]['tweet_id']))\n",
    "        file.write(' - ')\n",
    "        file.write(multiple_fractions.iloc[i]['text'])\n",
    "        file.write('\\n')"
   ]
  },
  {
   "cell_type": "markdown",
   "metadata": {},
   "source": [
    "Based on a review of tweets, the following tweets should be updated.\n",
    "\n",
    "| Tweet ID           | Current Rating | Corrected Rating |\n",
    "| ------------------ | -------------- | ---------------  |\n",
    "| 722974582966214656 | 4/20           |     13/10        |\n",
    "| 716439118184652801 | 50/50          |     11/10        |\n",
    "| 740373189193256964 | 9/11           |     14/10        |\n",
    "| 666287406224695296 | 1/2            |     9/10         |"
   ]
  },
  {
   "cell_type": "code",
   "execution_count": 111,
   "metadata": {},
   "outputs": [],
   "source": [
    "tweet_df_clean[tweet_df_clean['tweet_id'] == 722974582966214656]['rating_numerator'] = 13\n",
    "tweet_df_clean[tweet_df_clean['tweet_id'] == 722974582966214656]['rating_denominator'] = 10\n",
    "\n",
    "tweet_df_clean[tweet_df_clean['tweet_id'] == 716439118184652801]['rating_numerator'] = 11\n",
    "tweet_df_clean[tweet_df_clean['tweet_id'] == 716439118184652801]['rating_denominator'] = 10\n",
    "\n",
    "tweet_df_clean[tweet_df_clean['tweet_id'] == 740373189193256964]['rating_numerator'] = 14\n",
    "tweet_df_clean[tweet_df_clean['tweet_id'] == 740373189193256964]['rating_denominator'] = 10\n",
    "\n",
    "tweet_df_clean[tweet_df_clean['tweet_id'] == 666287406224695296]['rating_numerator'] = 9\n",
    "tweet_df_clean[tweet_df_clean['tweet_id'] == 666287406224695296]['rating_denominator'] = 10"
   ]
  },
  {
   "cell_type": "markdown",
   "metadata": {},
   "source": [
    "## D. Reviewing Names for Accuracy\n",
    "\n",
    "Several entries do not have names. It is worthwhile to review the tweet texts to ensure that no name is located in the text."
   ]
  },
  {
   "cell_type": "code",
   "execution_count": 112,
   "metadata": {},
   "outputs": [
    {
     "name": "stdout",
     "output_type": "stream",
     "text": [
      "There are 349 tweets recorded has having no name.\n"
     ]
    }
   ],
   "source": [
    "print('There are ' + repr(len(tweet_df_clean[tweet_df_clean['name'] == 'None'])) + ' tweets recorded has having no name.')"
   ]
  },
  {
   "cell_type": "code",
   "execution_count": 113,
   "metadata": {},
   "outputs": [],
   "source": [
    "no_names = tweet_df_clean[tweet_df_clean['name'] == 'None']"
   ]
  },
  {
   "cell_type": "code",
   "execution_count": 114,
   "metadata": {},
   "outputs": [],
   "source": [
    "with open('no_names.txt', 'w') as file:\n",
    "    for i in range(0, len(no_names.index)):\n",
    "        file.write(str(i))\n",
    "        file.write(' - ')\n",
    "        file.write(str(no_names.iloc[i]['tweet_id']))\n",
    "        file.write(' - ')\n",
    "        file.write(no_names.iloc[i]['text'])\n",
    "        file.write('\\n')"
   ]
  },
  {
   "cell_type": "markdown",
   "metadata": {},
   "source": [
    "| Tweet ID           | Name           |\n",
    "| ------------------ | -------------- |\n",
    "| 857393404942143489 | Meeko          |\n",
    "| 836001077879255040 | Atlas          |     \n",
    "| 831650051525054464 | Blue           |\n",
    "| 826204788643753985 | Dew            |\n",
    "| 788178268662984705 | Atlas          |\n",
    "| 778039087836069888 | Max            |\n",
    "| 740373189193256964 | Bretagne       |\n",
    "| 708026248782585858 | Frank          |"
   ]
  },
  {
   "cell_type": "code",
   "execution_count": 115,
   "metadata": {},
   "outputs": [],
   "source": [
    "tweet_df_clean.at[tweet_df_clean['tweet_id'] == '857393404942143489', 'name'] = 'Meeko'\n",
    "tweet_df_clean.at[tweet_df_clean['tweet_id'] == '836001077879255040', 'name'] = 'Atlas'\n",
    "tweet_df_clean.at[tweet_df_clean['tweet_id'] == '831650051525054464', 'name'] = 'Blue'\n",
    "tweet_df_clean.at[tweet_df_clean['tweet_id'] == '826204788643753985', 'name'] = 'Dew'\n",
    "tweet_df_clean.at[tweet_df_clean['tweet_id'] == '788178268662984705', 'name'] = 'Atlas'\n",
    "tweet_df_clean.at[tweet_df_clean['tweet_id'] == '778039087836069888', 'name'] = 'Max'\n",
    "tweet_df_clean.at[tweet_df_clean['tweet_id'] == '740373189193256964', 'name'] = 'Bretagne'\n",
    "tweet_df_clean.at[tweet_df_clean['tweet_id'] == '708026248782585858', 'name'] = 'Frank'"
   ]
  },
  {
   "cell_type": "code",
   "execution_count": 116,
   "metadata": {},
   "outputs": [
    {
     "data": {
      "text/html": [
       "<div>\n",
       "<style scoped>\n",
       "    .dataframe tbody tr th:only-of-type {\n",
       "        vertical-align: middle;\n",
       "    }\n",
       "\n",
       "    .dataframe tbody tr th {\n",
       "        vertical-align: top;\n",
       "    }\n",
       "\n",
       "    .dataframe thead th {\n",
       "        text-align: right;\n",
       "    }\n",
       "</style>\n",
       "<table border=\"1\" class=\"dataframe\">\n",
       "  <thead>\n",
       "    <tr style=\"text-align: right;\">\n",
       "      <th></th>\n",
       "      <th>tweet_id</th>\n",
       "      <th>timestamp</th>\n",
       "      <th>source</th>\n",
       "      <th>text</th>\n",
       "      <th>expanded_urls</th>\n",
       "      <th>rating_numerator</th>\n",
       "      <th>rating_denominator</th>\n",
       "      <th>name</th>\n",
       "      <th>favorite_count</th>\n",
       "      <th>retweet_count</th>\n",
       "      <th>dog_stage</th>\n",
       "      <th>extracted_rating</th>\n",
       "      <th>extracted_num</th>\n",
       "      <th>extracted_den</th>\n",
       "      <th>extracted_rating_2</th>\n",
       "      <th>num_fractions</th>\n",
       "    </tr>\n",
       "  </thead>\n",
       "  <tbody>\n",
       "    <tr>\n",
       "      <th>147</th>\n",
       "      <td>857393404942143489</td>\n",
       "      <td>2017-04-27 00:38:11</td>\n",
       "      <td>&lt;a href=\"http://twitter.com/download/iphone\" r...</td>\n",
       "      <td>Instead of the usual nightly dog rate, I'm sha...</td>\n",
       "      <td>https://www.gofundme.com/meeko-needs-heart-sur...</td>\n",
       "      <td>13</td>\n",
       "      <td>10</td>\n",
       "      <td>Meeko</td>\n",
       "      <td>5754</td>\n",
       "      <td>1587</td>\n",
       "      <td>None</td>\n",
       "      <td>13/10</td>\n",
       "      <td>13</td>\n",
       "      <td>10</td>\n",
       "      <td>[13/10]</td>\n",
       "      <td>1</td>\n",
       "    </tr>\n",
       "  </tbody>\n",
       "</table>\n",
       "</div>"
      ],
      "text/plain": [
       "               tweet_id           timestamp  \\\n",
       "147  857393404942143489 2017-04-27 00:38:11   \n",
       "\n",
       "                                                source  \\\n",
       "147  <a href=\"http://twitter.com/download/iphone\" r...   \n",
       "\n",
       "                                                  text  \\\n",
       "147  Instead of the usual nightly dog rate, I'm sha...   \n",
       "\n",
       "                                         expanded_urls  rating_numerator  \\\n",
       "147  https://www.gofundme.com/meeko-needs-heart-sur...                13   \n",
       "\n",
       "     rating_denominator   name  favorite_count  retweet_count dog_stage  \\\n",
       "147                  10  Meeko            5754           1587      None   \n",
       "\n",
       "    extracted_rating  extracted_num  extracted_den extracted_rating_2  \\\n",
       "147            13/10             13             10            [13/10]   \n",
       "\n",
       "     num_fractions  \n",
       "147              1  "
      ]
     },
     "execution_count": 116,
     "metadata": {},
     "output_type": "execute_result"
    }
   ],
   "source": [
    "tweet_df_clean[tweet_df_clean['tweet_id'] == '857393404942143489']"
   ]
  },
  {
   "cell_type": "markdown",
   "metadata": {},
   "source": [
    "In addition to these updates found by reviewing entries with no name, other errors encountered included the names 'an' and 'just.' These entries should also be corrected."
   ]
  },
  {
   "cell_type": "code",
   "execution_count": 117,
   "metadata": {},
   "outputs": [
    {
     "data": {
      "text/plain": [
       "(3, 2)"
      ]
     },
     "execution_count": 117,
     "metadata": {},
     "output_type": "execute_result"
    }
   ],
   "source": [
    "len(tweet_df_clean[tweet_df_clean['name'] == 'an']), len(tweet_df_clean[tweet_df_clean['name'] == 'just'])"
   ]
  },
  {
   "cell_type": "code",
   "execution_count": 118,
   "metadata": {},
   "outputs": [],
   "source": [
    "names_an = tweet_df_clean[tweet_df_clean['name'] == 'an']"
   ]
  },
  {
   "cell_type": "code",
   "execution_count": 119,
   "metadata": {},
   "outputs": [],
   "source": [
    "names_just = tweet_df_clean[tweet_df_clean['name'] == 'just']"
   ]
  },
  {
   "cell_type": "code",
   "execution_count": 120,
   "metadata": {},
   "outputs": [],
   "source": [
    "with open('name_errors.txt', 'w') as file:\n",
    "    for i in range(0, len(names_an.index)):\n",
    "        file.write(str(i))\n",
    "        file.write(' - ')\n",
    "        file.write(str(names_an.iloc[i]['tweet_id']))\n",
    "        file.write(' - ')\n",
    "        file.write(names_an.iloc[i]['text'])\n",
    "        file.write('\\n')\n",
    "        \n",
    "    for i in range(0, len(names_just.index)):\n",
    "        file.write(str(i))\n",
    "        file.write(' - ')\n",
    "        file.write(str(names_just.iloc[i]['tweet_id']))\n",
    "        file.write(' - ')\n",
    "        file.write(names_just.iloc[i]['text'])\n",
    "        file.write('\\n')"
   ]
  },
  {
   "cell_type": "markdown",
   "metadata": {},
   "source": [
    "Based on a review of these tweets, these names should be changed to 'None.'"
   ]
  },
  {
   "cell_type": "code",
   "execution_count": 121,
   "metadata": {},
   "outputs": [],
   "source": [
    "tweet_df_clean.at[tweet_df_clean['tweet_id'] == '746369468511756288', 'name'] = 'None'\n",
    "tweet_df_clean.at[tweet_df_clean['tweet_id'] == '668636665813057536', 'name'] = 'None'\n",
    "tweet_df_clean.at[tweet_df_clean['tweet_id'] == '666287406224695296', 'name'] = 'None'\n",
    "tweet_df_clean.at[tweet_df_clean['tweet_id'] == '741067306818797568', 'name'] = 'None'\n",
    "tweet_df_clean.at[tweet_df_clean['tweet_id'] == '695095422348574720', 'name'] = 'None'"
   ]
  },
  {
   "cell_type": "code",
   "execution_count": 122,
   "metadata": {},
   "outputs": [
    {
     "data": {
      "text/html": [
       "<div>\n",
       "<style scoped>\n",
       "    .dataframe tbody tr th:only-of-type {\n",
       "        vertical-align: middle;\n",
       "    }\n",
       "\n",
       "    .dataframe tbody tr th {\n",
       "        vertical-align: top;\n",
       "    }\n",
       "\n",
       "    .dataframe thead th {\n",
       "        text-align: right;\n",
       "    }\n",
       "</style>\n",
       "<table border=\"1\" class=\"dataframe\">\n",
       "  <thead>\n",
       "    <tr style=\"text-align: right;\">\n",
       "      <th></th>\n",
       "      <th>tweet_id</th>\n",
       "      <th>timestamp</th>\n",
       "      <th>source</th>\n",
       "      <th>text</th>\n",
       "      <th>expanded_urls</th>\n",
       "      <th>rating_numerator</th>\n",
       "      <th>rating_denominator</th>\n",
       "      <th>name</th>\n",
       "      <th>favorite_count</th>\n",
       "      <th>retweet_count</th>\n",
       "      <th>dog_stage</th>\n",
       "      <th>extracted_rating</th>\n",
       "      <th>extracted_num</th>\n",
       "      <th>extracted_den</th>\n",
       "      <th>extracted_rating_2</th>\n",
       "      <th>num_fractions</th>\n",
       "    </tr>\n",
       "  </thead>\n",
       "  <tbody>\n",
       "  </tbody>\n",
       "</table>\n",
       "</div>"
      ],
      "text/plain": [
       "Empty DataFrame\n",
       "Columns: [tweet_id, timestamp, source, text, expanded_urls, rating_numerator, rating_denominator, name, favorite_count, retweet_count, dog_stage, extracted_rating, extracted_num, extracted_den, extracted_rating_2, num_fractions]\n",
       "Index: []"
      ]
     },
     "execution_count": 122,
     "metadata": {},
     "output_type": "execute_result"
    }
   ],
   "source": [
    "tweet_df_clean[tweet_df_clean['name'] == 'an']"
   ]
  },
  {
   "cell_type": "code",
   "execution_count": 123,
   "metadata": {},
   "outputs": [
    {
     "data": {
      "text/html": [
       "<div>\n",
       "<style scoped>\n",
       "    .dataframe tbody tr th:only-of-type {\n",
       "        vertical-align: middle;\n",
       "    }\n",
       "\n",
       "    .dataframe tbody tr th {\n",
       "        vertical-align: top;\n",
       "    }\n",
       "\n",
       "    .dataframe thead th {\n",
       "        text-align: right;\n",
       "    }\n",
       "</style>\n",
       "<table border=\"1\" class=\"dataframe\">\n",
       "  <thead>\n",
       "    <tr style=\"text-align: right;\">\n",
       "      <th></th>\n",
       "      <th>tweet_id</th>\n",
       "      <th>timestamp</th>\n",
       "      <th>source</th>\n",
       "      <th>text</th>\n",
       "      <th>expanded_urls</th>\n",
       "      <th>rating_numerator</th>\n",
       "      <th>rating_denominator</th>\n",
       "      <th>name</th>\n",
       "      <th>favorite_count</th>\n",
       "      <th>retweet_count</th>\n",
       "      <th>dog_stage</th>\n",
       "      <th>extracted_rating</th>\n",
       "      <th>extracted_num</th>\n",
       "      <th>extracted_den</th>\n",
       "      <th>extracted_rating_2</th>\n",
       "      <th>num_fractions</th>\n",
       "    </tr>\n",
       "  </thead>\n",
       "  <tbody>\n",
       "  </tbody>\n",
       "</table>\n",
       "</div>"
      ],
      "text/plain": [
       "Empty DataFrame\n",
       "Columns: [tweet_id, timestamp, source, text, expanded_urls, rating_numerator, rating_denominator, name, favorite_count, retweet_count, dog_stage, extracted_rating, extracted_num, extracted_den, extracted_rating_2, num_fractions]\n",
       "Index: []"
      ]
     },
     "execution_count": 123,
     "metadata": {},
     "output_type": "execute_result"
    }
   ],
   "source": [
    "tweet_df_clean[tweet_df_clean['name'] == 'just']"
   ]
  },
  {
   "cell_type": "code",
   "execution_count": 124,
   "metadata": {
    "scrolled": false
   },
   "outputs": [
    {
     "data": {
      "text/html": [
       "<div>\n",
       "<style scoped>\n",
       "    .dataframe tbody tr th:only-of-type {\n",
       "        vertical-align: middle;\n",
       "    }\n",
       "\n",
       "    .dataframe tbody tr th {\n",
       "        vertical-align: top;\n",
       "    }\n",
       "\n",
       "    .dataframe thead th {\n",
       "        text-align: right;\n",
       "    }\n",
       "</style>\n",
       "<table border=\"1\" class=\"dataframe\">\n",
       "  <thead>\n",
       "    <tr style=\"text-align: right;\">\n",
       "      <th></th>\n",
       "      <th>tweet_id</th>\n",
       "      <th>timestamp</th>\n",
       "      <th>source</th>\n",
       "      <th>text</th>\n",
       "      <th>expanded_urls</th>\n",
       "      <th>rating_numerator</th>\n",
       "      <th>rating_denominator</th>\n",
       "      <th>name</th>\n",
       "      <th>favorite_count</th>\n",
       "      <th>retweet_count</th>\n",
       "      <th>dog_stage</th>\n",
       "      <th>extracted_rating</th>\n",
       "      <th>extracted_num</th>\n",
       "      <th>extracted_den</th>\n",
       "      <th>extracted_rating_2</th>\n",
       "      <th>num_fractions</th>\n",
       "    </tr>\n",
       "  </thead>\n",
       "  <tbody>\n",
       "    <tr>\n",
       "      <th>805</th>\n",
       "      <td>746369468511756288</td>\n",
       "      <td>2016-06-24 15:48:42</td>\n",
       "      <td>&lt;a href=\"http://twitter.com/download/iphone\" r...</td>\n",
       "      <td>This is an Iraqi Speed Kangaroo. It is not a d...</td>\n",
       "      <td>https://twitter.com/dog_rates/status/746369468...</td>\n",
       "      <td>9</td>\n",
       "      <td>10</td>\n",
       "      <td>None</td>\n",
       "      <td>6247</td>\n",
       "      <td>1645</td>\n",
       "      <td>None</td>\n",
       "      <td>9/10</td>\n",
       "      <td>9</td>\n",
       "      <td>10</td>\n",
       "      <td>[9/10]</td>\n",
       "      <td>1</td>\n",
       "    </tr>\n",
       "  </tbody>\n",
       "</table>\n",
       "</div>"
      ],
      "text/plain": [
       "               tweet_id           timestamp  \\\n",
       "805  746369468511756288 2016-06-24 15:48:42   \n",
       "\n",
       "                                                source  \\\n",
       "805  <a href=\"http://twitter.com/download/iphone\" r...   \n",
       "\n",
       "                                                  text  \\\n",
       "805  This is an Iraqi Speed Kangaroo. It is not a d...   \n",
       "\n",
       "                                         expanded_urls  rating_numerator  \\\n",
       "805  https://twitter.com/dog_rates/status/746369468...                 9   \n",
       "\n",
       "     rating_denominator  name  favorite_count  retweet_count dog_stage  \\\n",
       "805                  10  None            6247           1645      None   \n",
       "\n",
       "    extracted_rating  extracted_num  extracted_den extracted_rating_2  \\\n",
       "805             9/10              9             10             [9/10]   \n",
       "\n",
       "     num_fractions  \n",
       "805              1  "
      ]
     },
     "execution_count": 124,
     "metadata": {},
     "output_type": "execute_result"
    }
   ],
   "source": [
    "tweet_df_clean[tweet_df_clean['tweet_id'] == '746369468511756288']"
   ]
  },
  {
   "cell_type": "code",
   "execution_count": 125,
   "metadata": {},
   "outputs": [],
   "source": [
    "# Drop columns that were not part of original data set\n",
    "\n",
    "tweet_df_clean = tweet_df_clean.drop(columns=['extracted_rating', 'extracted_num', 'extracted_den', 'extracted_rating_2', 'num_fractions'])"
   ]
  },
  {
   "cell_type": "markdown",
   "metadata": {},
   "source": [
    "# 5. Visualization\n",
    "\n",
    "The cleaned data will be used to view number of favorites by dog stage."
   ]
  },
  {
   "cell_type": "code",
   "execution_count": 126,
   "metadata": {},
   "outputs": [
    {
     "data": {
      "text/plain": [
       "[1190060, 970042, 464420, 101536]"
      ]
     },
     "execution_count": 126,
     "metadata": {},
     "output_type": "execute_result"
    }
   ],
   "source": [
    "doggo_faves = tweet_df_clean[tweet_df_clean['dog_stage'] == 'doggo']['favorite_count'].sum()\n",
    "floofer_faves = tweet_df_clean[tweet_df_clean['dog_stage'] == 'floofer']['favorite_count'].sum()\n",
    "puppo_faves = tweet_df_clean[tweet_df_clean['dog_stage'] == 'puppo']['favorite_count'].sum()\n",
    "pupper_faves = tweet_df_clean[tweet_df_clean['dog_stage'] == 'pupper']['favorite_count'].sum()\n",
    "\n",
    "fave_counts = [pupper_faves, doggo_faves, puppo_faves, floofer_faves]\n",
    "fave_counts"
   ]
  },
  {
   "cell_type": "code",
   "execution_count": 127,
   "metadata": {},
   "outputs": [
    {
     "data": {
      "text/plain": [
       "None       1230\n",
       "pupper      151\n",
       "doggo        47\n",
       "puppo        20\n",
       "floofer       8\n",
       "Name: dog_stage, dtype: int64"
      ]
     },
     "execution_count": 127,
     "metadata": {},
     "output_type": "execute_result"
    }
   ],
   "source": [
    "tweet_df_clean['dog_stage'].value_counts()"
   ]
  },
  {
   "cell_type": "code",
   "execution_count": 128,
   "metadata": {},
   "outputs": [
    {
     "data": {
      "text/plain": [
       "['pupper', 'doggo', 'puppo', 'floofer']"
      ]
     },
     "execution_count": 128,
     "metadata": {},
     "output_type": "execute_result"
    }
   ],
   "source": [
    "dog_stage_names = tweet_df_clean['dog_stage'].value_counts().index[1:].tolist()\n",
    "dog_stage_names"
   ]
  },
  {
   "cell_type": "code",
   "execution_count": 129,
   "metadata": {},
   "outputs": [
    {
     "data": {
      "text/plain": [
       "[151, 47, 20, 8]"
      ]
     },
     "execution_count": 129,
     "metadata": {},
     "output_type": "execute_result"
    }
   ],
   "source": [
    "dog_stage_counts = tweet_df_clean['dog_stage'].value_counts()[1:].tolist()\n",
    "dog_stage_counts"
   ]
  },
  {
   "cell_type": "code",
   "execution_count": 130,
   "metadata": {
    "scrolled": true
   },
   "outputs": [
    {
     "data": {
      "text/plain": [
       "array([  7881.19205298,  20639.19148936,  23221.        ,  12692.        ])"
      ]
     },
     "execution_count": 130,
     "metadata": {},
     "output_type": "execute_result"
    }
   ],
   "source": [
    "faves_averages = np.asarray(fave_counts) / np.asarray(dog_stage_counts)\n",
    "faves_averages"
   ]
  },
  {
   "cell_type": "code",
   "execution_count": 131,
   "metadata": {},
   "outputs": [
    {
     "data": {
      "text/plain": [
       "[361402, 335504, 131565, 33979]"
      ]
     },
     "execution_count": 131,
     "metadata": {},
     "output_type": "execute_result"
    }
   ],
   "source": [
    "doggo_retweets = tweet_df_clean[tweet_df_clean['dog_stage'] == 'doggo']['retweet_count'].sum()\n",
    "floofer_retweets = tweet_df_clean[tweet_df_clean['dog_stage'] == 'floofer']['retweet_count'].sum()\n",
    "puppo_retweets = tweet_df_clean[tweet_df_clean['dog_stage'] == 'puppo']['retweet_count'].sum()\n",
    "pupper_retweets = tweet_df_clean[tweet_df_clean['dog_stage'] == 'pupper']['retweet_count'].sum()\n",
    "\n",
    "retweet_counts = [pupper_retweets, doggo_retweets, puppo_retweets, floofer_retweets]\n",
    "retweet_counts"
   ]
  },
  {
   "cell_type": "code",
   "execution_count": 132,
   "metadata": {},
   "outputs": [
    {
     "data": {
      "text/plain": [
       "array([ 2393.39072848,  7138.38297872,  6578.25      ,  4247.375     ])"
      ]
     },
     "execution_count": 132,
     "metadata": {},
     "output_type": "execute_result"
    }
   ],
   "source": [
    "retweet_averages = np.asarray(retweet_counts) / np.asarray(dog_stage_counts)\n",
    "retweet_averages"
   ]
  },
  {
   "cell_type": "code",
   "execution_count": 133,
   "metadata": {},
   "outputs": [
    {
     "data": {
      "image/png": "[encoded data removed]",
      "text/plain": [
       "<matplotlib.figure.Figure at 0x7fdfe8151198>"
      ]
     },
     "metadata": {
      "needs_background": "light"
     },
     "output_type": "display_data"
    }
   ],
   "source": [
    "ticks = np.arange(len(dog_stage_names))\n",
    "bar_width = 0.35\n",
    "\n",
    "faves_bar = plt.bar(ticks, faves_averages, bar_width, label='Favorites')\n",
    "retweets_bar = plt.bar(ticks + bar_width, retweet_averages, bar_width, label='Retweets')\n",
    "\n",
    "plt.xticks(ticks + bar_width / 2, dog_stage_names)\n",
    "plt.xlabel('Dog Stage')\n",
    "plt.ylabel('Average Actions per Post')\n",
    "plt.title('Dog Stage Favorite and Retweets')\n",
    "plt.legend();"
   ]
  },
  {
   "cell_type": "code",
   "execution_count": 134,
   "metadata": {},
   "outputs": [],
   "source": [
    "tweet_df_clean.to_csv('twitter_archive_master.csv', index=False)"
   ]
  },
  {
   "cell_type": "code",
   "execution_count": 135,
   "metadata": {},
   "outputs": [],
   "source": [
    "image_df_clean.to_csv('image_pred_archive_master.csv', index=False)"
   ]
  },
  {
   "cell_type": "markdown",
   "metadata": {},
   "source": [
    "# 6. Summary of Issues Addressed\n",
    "\n",
    "### Tidiness Issues\n",
    "1. Merging additional tweet data (retweet count and favorite count) into the tweet data frame\n",
    "2. Combining the dog stage data into one columns, instead of the original four\n",
    "\n",
    "### Cleanliness Issues\n",
    "1. Removing retweets\n",
    "2. Removing replies \n",
    "3. Removing images that were identified as not a dog\n",
    "4. Removing tweets for which additional tweet data could not be retrieved via API call\n",
    "5. Removing tweets for which there was no associated image and removing images that did not correspond to a tweet with a rating\n",
    "6. Dropping columns that did not have useful data\n",
    "7. Changing column data types to more appropriate data types\n",
    "8. Fixing errors with ratings (ratings columns did not match ratings found in the text)\n",
    "9. Fixing errors found in dog names"
   ]
  },
  {
   "cell_type": "code",
   "execution_count": null,
   "metadata": {},
   "outputs": [],
   "source": []
  }
 ],
 "metadata": {
  "kernelspec": {
   "display_name": "Python 3",
   "language": "python",
   "name": "python3"
  },
  "language_info": {
   "codemirror_mode": {
    "name": "ipython",
    "version": 3
   },
   "file_extension": ".py",
   "mimetype": "text/x-python",
   "name": "python",
   "nbconvert_exporter": "python",
   "pygments_lexer": "ipython3",
   "version": "3.6.3"
  }
 },
 "nbformat": 4,
 "nbformat_minor": 2
}
